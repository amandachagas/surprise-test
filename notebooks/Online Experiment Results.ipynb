{
 "cells": [
  {
   "cell_type": "code",
   "execution_count": 2,
   "metadata": {},
   "outputs": [],
   "source": [
    "from sklearn.metrics import ndcg_score\n",
    "import numpy as np"
   ]
  },
  {
   "cell_type": "code",
   "execution_count": 3,
   "metadata": {},
   "outputs": [],
   "source": [
    "true_relevance = np.asarray([[0.89, 0.7, 0.3, 1.0, 0.5]])"
   ]
  },
  {
   "cell_type": "code",
   "execution_count": 4,
   "metadata": {},
   "outputs": [],
   "source": [
    "scores = np.asarray([[0.80, 0.2, 0.3, 0.2, 0.8]])"
   ]
  },
  {
   "cell_type": "code",
   "execution_count": 5,
   "metadata": {},
   "outputs": [
    {
     "data": {
      "text/plain": [
       "0.8820621004232342"
      ]
     },
     "execution_count": 5,
     "metadata": {},
     "output_type": "execute_result"
    }
   ],
   "source": [
    "ndcg_score(true_relevance, scores)"
   ]
  },
  {
   "cell_type": "code",
   "execution_count": 6,
   "metadata": {},
   "outputs": [],
   "source": [
    "def round_up(entry):\n",
    "    \n",
    "    rounded_up = [round(num, 1) for num in entry]\n",
    "    \n",
    "    return rounded_up        "
   ]
  },
  {
   "cell_type": "code",
   "execution_count": 7,
   "metadata": {},
   "outputs": [
    {
     "data": {
      "text/plain": [
       "[4.0, 3.5, 3.6, 3.5]"
      ]
     },
     "execution_count": 7,
     "metadata": {},
     "output_type": "execute_result"
    }
   ],
   "source": [
    "round_up([3.995, 3.55, 3.605, 3.51])"
   ]
  },
  {
   "cell_type": "code",
   "execution_count": 42,
   "metadata": {},
   "outputs": [],
   "source": [
    "def set_ground_truth_lists():\n",
    "    \n",
    "    groups_ground_truth = []\n",
    "    \n",
    "    g31_ground_truth = round_up([2,5,2,2,1,5,3,2,2.5,3])\n",
    "    g32_ground_truth = round_up([2,3,3.5,2.5,4,2.5,4.5,1.5,4.5,4.5])\n",
    "    g33_ground_truth = round_up([4.5,4,3.5,3.5,4,2.5,4,4,2.5,3.5])\n",
    "    g51_ground_truth = round_up([3.5,2,2.5,2,4.5,4,1,4,4,1.5])\n",
    "    g52_ground_truth = round_up([2.5,4,2.5,2.7,3,4,2,2,3.7,3])\n",
    "    g53_ground_truth = round_up([3,5,3,4,2,4,3.5,3.5,3,3])\n",
    "    \n",
    "    groups_ground_truth.append(g31_ground_truth)\n",
    "    groups_ground_truth.append(g32_ground_truth)\n",
    "    groups_ground_truth.append(g33_ground_truth)\n",
    "    groups_ground_truth.append(g51_ground_truth)\n",
    "    groups_ground_truth.append(g52_ground_truth)\n",
    "    groups_ground_truth.append(g53_ground_truth)\n",
    "    \n",
    "    return groups_ground_truth"
   ]
  },
  {
   "cell_type": "code",
   "execution_count": 43,
   "metadata": {},
   "outputs": [
    {
     "name": "stdout",
     "output_type": "stream",
     "text": [
      "[2, 5, 2, 2, 1, 5, 3, 2, 2.5, 3]\n",
      "[2, 3, 3.5, 2.5, 4, 2.5, 4.5, 1.5, 4.5, 4.5]\n",
      "[4.5, 4, 3.5, 3.5, 4, 2.5, 4, 4, 2.5, 3.5]\n",
      "[3.5, 2, 2.5, 2, 4.5, 4, 1, 4, 4, 1.5]\n",
      "[2.5, 4, 2.5, 2.7, 3, 4, 2, 2, 3.7, 3]\n",
      "[3, 5, 3, 4, 2, 4, 3.5, 3.5, 3, 3]\n"
     ]
    }
   ],
   "source": [
    "groups_ground_truth = set_ground_truth_lists()\n",
    "\n",
    "for item in groups_ground_truth:\n",
    "    print(item)"
   ]
  },
  {
   "cell_type": "code",
   "execution_count": null,
   "metadata": {},
   "outputs": [],
   "source": []
  },
  {
   "cell_type": "code",
   "execution_count": 44,
   "metadata": {},
   "outputs": [],
   "source": [
    "def set_scores_lists():\n",
    "    \n",
    "    groups_scores = []\n",
    "    \n",
    "    g31_scores = round_up([3.995,3.55,3.605,3.51,3.42,3.515,3.815,3.69,3.255,3.39])\n",
    "    g32_scores = round_up([3.69,3.63,3.26,3.32,3.49,3.05,2.86,2.875,3.41,3.08])\n",
    "    g33_scores = round_up([3.59,3.46,3.29,3.305,3.245,3.355,3.17,3.465,3.15,3.215])\n",
    "    g51_scores = round_up([4.02,3.345,3.735,3.235,3.42,3.835,3.125,3.53,3.135,3.29])\n",
    "    g52_scores = round_up([4.075,3.675,3.41,3.3,3.375,3.36,3.275,3.825,3.245,3.2])\n",
    "    g53_scores = round_up([4.18,4.15,3.86,3.715,3.73,3.47,4.045,3.36,3.765,3.86])\n",
    "    \n",
    "    groups_scores.append(g31_scores)\n",
    "    groups_scores.append(g32_scores)\n",
    "    groups_scores.append(g33_scores)\n",
    "    groups_scores.append(g51_scores)\n",
    "    groups_scores.append(g52_scores)\n",
    "    groups_scores.append(g53_scores)\n",
    "    \n",
    "    return groups_scores"
   ]
  },
  {
   "cell_type": "code",
   "execution_count": 45,
   "metadata": {},
   "outputs": [
    {
     "name": "stdout",
     "output_type": "stream",
     "text": [
      "[4.0, 3.5, 3.6, 3.5, 3.4, 3.5, 3.8, 3.7, 3.3, 3.4]\n",
      "[3.7, 3.6, 3.3, 3.3, 3.5, 3.0, 2.9, 2.9, 3.4, 3.1]\n",
      "[3.6, 3.5, 3.3, 3.3, 3.2, 3.4, 3.2, 3.5, 3.1, 3.2]\n",
      "[4.0, 3.3, 3.7, 3.2, 3.4, 3.8, 3.1, 3.5, 3.1, 3.3]\n",
      "[4.1, 3.7, 3.4, 3.3, 3.4, 3.4, 3.3, 3.8, 3.2, 3.2]\n",
      "[4.2, 4.2, 3.9, 3.7, 3.7, 3.5, 4.0, 3.4, 3.8, 3.9]\n"
     ]
    }
   ],
   "source": [
    "groups_scores = set_scores_lists()\n",
    "\n",
    "for item in groups_scores:\n",
    "    print(item)"
   ]
  },
  {
   "cell_type": "code",
   "execution_count": null,
   "metadata": {},
   "outputs": [],
   "source": []
  },
  {
   "cell_type": "code",
   "execution_count": 46,
   "metadata": {},
   "outputs": [],
   "source": [
    "def calculate_ndcg_at(ground_truth, score, at):\n",
    "    \n",
    "    groups_ndcg = []\n",
    "    \n",
    "    for i in range(0,6):\n",
    "        g_ndcg = round( ndcg_score(np.asarray([ground_truth[i]]), np.asarray([score[i]]),at) , 4)\n",
    "        groups_ndcg.append(g_ndcg)\n",
    "        \n",
    "    return groups_ndcg   "
   ]
  },
  {
   "cell_type": "code",
   "execution_count": null,
   "metadata": {},
   "outputs": [],
   "source": []
  },
  {
   "cell_type": "code",
   "execution_count": null,
   "metadata": {},
   "outputs": [],
   "source": []
  },
  {
   "cell_type": "code",
   "execution_count": 47,
   "metadata": {},
   "outputs": [
    {
     "data": {
      "text/plain": [
       "[0.5068, 0.6145, 1.0, 0.8061, 0.6881, 0.8687]"
      ]
     },
     "execution_count": 47,
     "metadata": {},
     "output_type": "execute_result"
    }
   ],
   "source": [
    "calculate_ndcg_at(groups_ground_truth, groups_scores, 3)"
   ]
  },
  {
   "cell_type": "code",
   "execution_count": 48,
   "metadata": {},
   "outputs": [
    {
     "data": {
      "text/plain": [
       "[0.6129, 0.7099, 0.9317, 0.8873, 0.7713, 0.8661]"
      ]
     },
     "execution_count": 48,
     "metadata": {},
     "output_type": "execute_result"
    }
   ],
   "source": [
    "calculate_ndcg_at(groups_ground_truth, groups_scores, 5)"
   ]
  },
  {
   "cell_type": "code",
   "execution_count": 49,
   "metadata": {},
   "outputs": [
    {
     "data": {
      "text/plain": [
       "[0.811, 0.8613, 0.9872, 0.9349, 0.8896, 0.9453]"
      ]
     },
     "execution_count": 49,
     "metadata": {},
     "output_type": "execute_result"
    }
   ],
   "source": [
    "calculate_ndcg_at(groups_ground_truth, groups_scores, 10)"
   ]
  },
  {
   "cell_type": "code",
   "execution_count": null,
   "metadata": {},
   "outputs": [],
   "source": []
  },
  {
   "cell_type": "code",
   "execution_count": null,
   "metadata": {},
   "outputs": [],
   "source": []
  },
  {
   "cell_type": "code",
   "execution_count": null,
   "metadata": {},
   "outputs": [],
   "source": []
  },
  {
   "cell_type": "code",
   "execution_count": 34,
   "metadata": {},
   "outputs": [],
   "source": [
    "# g31_ndcg = ndcg_score(np.asarray([g31_ground_truth]), np.asarray([g31_scores]),3)\n",
    "# print(g31_ndcg)"
   ]
  },
  {
   "cell_type": "code",
   "execution_count": 35,
   "metadata": {},
   "outputs": [],
   "source": [
    "# g32_ndcg = ndcg_score(np.asarray([g32_ground_truth]), np.asarray([g32_scores]),3)\n",
    "# print(g32_ndcg)"
   ]
  },
  {
   "cell_type": "code",
   "execution_count": 36,
   "metadata": {},
   "outputs": [],
   "source": [
    "# g33_ndcg = ndcg_score(np.asarray([g33_ground_truth]), np.asarray([g33_scores]),3)\n",
    "# print(g33_ndcg)"
   ]
  },
  {
   "cell_type": "code",
   "execution_count": 37,
   "metadata": {},
   "outputs": [],
   "source": [
    "# g51_ndcg = ndcg_score(np.asarray([g51_ground_truth]), np.asarray([g51_scores]),3)\n",
    "# print(g51_ndcg)"
   ]
  },
  {
   "cell_type": "code",
   "execution_count": 38,
   "metadata": {},
   "outputs": [],
   "source": [
    "# g52_ndcg = ndcg_score(np.asarray([g52_ground_truth]), np.asarray([g52_scores]),3)\n",
    "# print(g52_ndcg)"
   ]
  },
  {
   "cell_type": "code",
   "execution_count": 39,
   "metadata": {},
   "outputs": [],
   "source": [
    "# g53_ndcg = ndcg_score(np.asarray([g53_ground_truth]), np.asarray([g53_scores]),3)\n",
    "# print(g53_ndcg)"
   ]
  },
  {
   "cell_type": "code",
   "execution_count": null,
   "metadata": {},
   "outputs": [],
   "source": []
  },
  {
   "cell_type": "code",
   "execution_count": null,
   "metadata": {},
   "outputs": [],
   "source": []
  }
 ],
 "metadata": {
  "kernelspec": {
   "display_name": "Python 3",
   "language": "python",
   "name": "python3"
  },
  "language_info": {
   "codemirror_mode": {
    "name": "ipython",
    "version": 3
   },
   "file_extension": ".py",
   "mimetype": "text/x-python",
   "name": "python",
   "nbconvert_exporter": "python",
   "pygments_lexer": "ipython3",
   "version": "3.7.3"
  }
 },
 "nbformat": 4,
 "nbformat_minor": 4
}
