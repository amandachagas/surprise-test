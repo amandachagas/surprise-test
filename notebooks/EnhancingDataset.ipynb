{
 "cells": [
  {
   "cell_type": "code",
   "execution_count": 1,
   "metadata": {},
   "outputs": [],
   "source": [
    "'''\n",
    "# # Link to MoviePoster dataset:\n",
    "    https://www.cs.ccu.edu.tw/~wtchu/projects/MoviePoster/\n",
    "    https://www.kaggle.com/neha1703/movie-genre-from-its-poster\n",
    "\n",
    "'''\n",
    "\n",
    "from collections import defaultdict\n",
    "import pandas as pd\n",
    "import numpy as np\n",
    "import json"
   ]
  },
  {
   "cell_type": "code",
   "execution_count": 3,
   "metadata": {},
   "outputs": [
    {
     "data": {
      "text/html": [
       "<div>\n",
       "<style scoped>\n",
       "    .dataframe tbody tr th:only-of-type {\n",
       "        vertical-align: middle;\n",
       "    }\n",
       "\n",
       "    .dataframe tbody tr th {\n",
       "        vertical-align: top;\n",
       "    }\n",
       "\n",
       "    .dataframe thead th {\n",
       "        text-align: right;\n",
       "    }\n",
       "</style>\n",
       "<table border=\"1\" class=\"dataframe\">\n",
       "  <thead>\n",
       "    <tr style=\"text-align: right;\">\n",
       "      <th></th>\n",
       "      <th>movieId</th>\n",
       "      <th>title</th>\n",
       "      <th>genres</th>\n",
       "      <th>year</th>\n",
       "    </tr>\n",
       "  </thead>\n",
       "  <tbody>\n",
       "    <tr>\n",
       "      <th>9737</th>\n",
       "      <td>193581</td>\n",
       "      <td>Black Butler: Book of the Atlantic</td>\n",
       "      <td>Action, Animation, Comedy, Fantasy</td>\n",
       "      <td>2017</td>\n",
       "    </tr>\n",
       "    <tr>\n",
       "      <th>9738</th>\n",
       "      <td>193583</td>\n",
       "      <td>No Game No Life: Zero</td>\n",
       "      <td>Animation, Comedy, Fantasy</td>\n",
       "      <td>2017</td>\n",
       "    </tr>\n",
       "    <tr>\n",
       "      <th>9739</th>\n",
       "      <td>193585</td>\n",
       "      <td>Flint</td>\n",
       "      <td>Drama</td>\n",
       "      <td>2017</td>\n",
       "    </tr>\n",
       "    <tr>\n",
       "      <th>9740</th>\n",
       "      <td>193587</td>\n",
       "      <td>Bungo Stray Dogs: Dead Apple</td>\n",
       "      <td>Action, Animation</td>\n",
       "      <td>2018</td>\n",
       "    </tr>\n",
       "    <tr>\n",
       "      <th>9741</th>\n",
       "      <td>193609</td>\n",
       "      <td>Andrew Dice Clay: Dice Rules</td>\n",
       "      <td>Comedy</td>\n",
       "      <td>1991</td>\n",
       "    </tr>\n",
       "  </tbody>\n",
       "</table>\n",
       "</div>"
      ],
      "text/plain": [
       "      movieId                               title  \\\n",
       "9737   193581  Black Butler: Book of the Atlantic   \n",
       "9738   193583               No Game No Life: Zero   \n",
       "9739   193585                               Flint   \n",
       "9740   193587        Bungo Stray Dogs: Dead Apple   \n",
       "9741   193609        Andrew Dice Clay: Dice Rules   \n",
       "\n",
       "                                  genres  year  \n",
       "9737  Action, Animation, Comedy, Fantasy  2017  \n",
       "9738          Animation, Comedy, Fantasy  2017  \n",
       "9739                               Drama  2017  \n",
       "9740                   Action, Animation  2018  \n",
       "9741                              Comedy  1991  "
      ]
     },
     "execution_count": 3,
     "metadata": {},
     "output_type": "execute_result"
    }
   ],
   "source": [
    "movie_data = '../datasets/ml-latest-small/movies.csv'\n",
    "#  names=['movieId', 'movieId', 'rating','timestamp']\n",
    "df_movies = pd.read_csv(movie_data, low_memory=False)\n",
    "df_movies['year'] = df_movies['title'].apply(lambda x: x[-5:-1])\n",
    "df_movies['title'] = df_movies['title'].apply(lambda x: x[:-7])\n",
    "df_movies['genres'] = df_movies['genres'].apply(lambda x: x.replace('|',', '))\n",
    "df_movies.tail()"
   ]
  },
  {
   "cell_type": "code",
   "execution_count": null,
   "metadata": {},
   "outputs": [],
   "source": []
  },
  {
   "cell_type": "code",
   "execution_count": null,
   "metadata": {},
   "outputs": [],
   "source": []
  },
  {
   "cell_type": "code",
   "execution_count": 22,
   "metadata": {},
   "outputs": [
    {
     "data": {
      "text/html": [
       "<div>\n",
       "<style scoped>\n",
       "    .dataframe tbody tr th:only-of-type {\n",
       "        vertical-align: middle;\n",
       "    }\n",
       "\n",
       "    .dataframe tbody tr th {\n",
       "        vertical-align: top;\n",
       "    }\n",
       "\n",
       "    .dataframe thead th {\n",
       "        text-align: right;\n",
       "    }\n",
       "</style>\n",
       "<table border=\"1\" class=\"dataframe\">\n",
       "  <thead>\n",
       "    <tr style=\"text-align: right;\">\n",
       "      <th></th>\n",
       "      <th>movieId</th>\n",
       "      <th>title</th>\n",
       "      <th>genres</th>\n",
       "      <th>year</th>\n",
       "      <th>imdbId</th>\n",
       "      <th>imdbLink</th>\n",
       "      <th>poster</th>\n",
       "      <th>youtubeId</th>\n",
       "    </tr>\n",
       "  </thead>\n",
       "  <tbody>\n",
       "    <tr>\n",
       "      <th>0</th>\n",
       "      <td>1</td>\n",
       "      <td>Toy Story</td>\n",
       "      <td>Adventure, Animation, Children, Comedy, Fantasy</td>\n",
       "      <td>1995</td>\n",
       "      <td>114709</td>\n",
       "      <td>http://www.imdb.com/title/tt114709</td>\n",
       "      <td>https://images-na.ssl-images-amazon.com/images...</td>\n",
       "      <td>K26_sDKnvMU</td>\n",
       "    </tr>\n",
       "    <tr>\n",
       "      <th>1</th>\n",
       "      <td>2</td>\n",
       "      <td>Jumanji</td>\n",
       "      <td>Adventure, Children, Fantasy</td>\n",
       "      <td>1995</td>\n",
       "      <td>113497</td>\n",
       "      <td>http://www.imdb.com/title/tt113497</td>\n",
       "      <td>https://images-na.ssl-images-amazon.com/images...</td>\n",
       "      <td>3LPANjHlPxo</td>\n",
       "    </tr>\n",
       "    <tr>\n",
       "      <th>2</th>\n",
       "      <td>3</td>\n",
       "      <td>Grumpier Old Men</td>\n",
       "      <td>Comedy, Romance</td>\n",
       "      <td>1995</td>\n",
       "      <td>113228</td>\n",
       "      <td>http://www.imdb.com/title/tt113228</td>\n",
       "      <td>https://images-na.ssl-images-amazon.com/images...</td>\n",
       "      <td>rEnOoWs3FuA</td>\n",
       "    </tr>\n",
       "    <tr>\n",
       "      <th>3</th>\n",
       "      <td>4</td>\n",
       "      <td>Waiting to Exhale</td>\n",
       "      <td>Comedy, Drama, Romance</td>\n",
       "      <td>1995</td>\n",
       "      <td>114885</td>\n",
       "      <td>http://www.imdb.com/title/tt114885</td>\n",
       "      <td>https://images-na.ssl-images-amazon.com/images...</td>\n",
       "      <td>j9xml1CxgXI</td>\n",
       "    </tr>\n",
       "    <tr>\n",
       "      <th>4</th>\n",
       "      <td>5</td>\n",
       "      <td>Father of the Bride Part II</td>\n",
       "      <td>Comedy</td>\n",
       "      <td>1995</td>\n",
       "      <td>113041</td>\n",
       "      <td>http://www.imdb.com/title/tt113041</td>\n",
       "      <td>https://images-na.ssl-images-amazon.com/images...</td>\n",
       "      <td>ltwvKLnj1B4</td>\n",
       "    </tr>\n",
       "    <tr>\n",
       "      <th>5</th>\n",
       "      <td>6</td>\n",
       "      <td>Heat</td>\n",
       "      <td>Action, Crime, Thriller</td>\n",
       "      <td>1995</td>\n",
       "      <td>113277</td>\n",
       "      <td>http://www.imdb.com/title/tt113277</td>\n",
       "      <td>https://images-na.ssl-images-amazon.com/images...</td>\n",
       "      <td>2GfZl4kuVNI</td>\n",
       "    </tr>\n",
       "    <tr>\n",
       "      <th>6</th>\n",
       "      <td>7</td>\n",
       "      <td>Sabrina</td>\n",
       "      <td>Comedy, Romance</td>\n",
       "      <td>1995</td>\n",
       "      <td>114319</td>\n",
       "      <td>http://www.imdb.com/title/tt114319</td>\n",
       "      <td>https://images-na.ssl-images-amazon.com/images...</td>\n",
       "      <td>twTksx_lWB4</td>\n",
       "    </tr>\n",
       "    <tr>\n",
       "      <th>7</th>\n",
       "      <td>8</td>\n",
       "      <td>Tom and Huck</td>\n",
       "      <td>Adventure, Children</td>\n",
       "      <td>1995</td>\n",
       "      <td>112302</td>\n",
       "      <td>http://www.imdb.com/title/tt112302</td>\n",
       "      <td>https://images-na.ssl-images-amazon.com/images...</td>\n",
       "      <td>-C-xXZyX2zU</td>\n",
       "    </tr>\n",
       "    <tr>\n",
       "      <th>8</th>\n",
       "      <td>9</td>\n",
       "      <td>Sudden Death</td>\n",
       "      <td>Action</td>\n",
       "      <td>1995</td>\n",
       "      <td>114576</td>\n",
       "      <td>http://www.imdb.com/title/tt114576</td>\n",
       "      <td>https://images-na.ssl-images-amazon.com/images...</td>\n",
       "      <td>SCOxEKkuWG4</td>\n",
       "    </tr>\n",
       "    <tr>\n",
       "      <th>9</th>\n",
       "      <td>10</td>\n",
       "      <td>GoldenEye</td>\n",
       "      <td>Action, Adventure, Thriller</td>\n",
       "      <td>1995</td>\n",
       "      <td>113189</td>\n",
       "      <td>http://www.imdb.com/title/tt113189</td>\n",
       "      <td>https://images-na.ssl-images-amazon.com/images...</td>\n",
       "      <td>lcOqUE0u1LM</td>\n",
       "    </tr>\n",
       "  </tbody>\n",
       "</table>\n",
       "</div>"
      ],
      "text/plain": [
       "   movieId                        title  \\\n",
       "0        1                    Toy Story   \n",
       "1        2                      Jumanji   \n",
       "2        3             Grumpier Old Men   \n",
       "3        4            Waiting to Exhale   \n",
       "4        5  Father of the Bride Part II   \n",
       "5        6                         Heat   \n",
       "6        7                      Sabrina   \n",
       "7        8                 Tom and Huck   \n",
       "8        9                 Sudden Death   \n",
       "9       10                    GoldenEye   \n",
       "\n",
       "                                            genres  year  imdbId  \\\n",
       "0  Adventure, Animation, Children, Comedy, Fantasy  1995  114709   \n",
       "1                     Adventure, Children, Fantasy  1995  113497   \n",
       "2                                  Comedy, Romance  1995  113228   \n",
       "3                           Comedy, Drama, Romance  1995  114885   \n",
       "4                                           Comedy  1995  113041   \n",
       "5                          Action, Crime, Thriller  1995  113277   \n",
       "6                                  Comedy, Romance  1995  114319   \n",
       "7                              Adventure, Children  1995  112302   \n",
       "8                                           Action  1995  114576   \n",
       "9                      Action, Adventure, Thriller  1995  113189   \n",
       "\n",
       "                             imdbLink  \\\n",
       "0  http://www.imdb.com/title/tt114709   \n",
       "1  http://www.imdb.com/title/tt113497   \n",
       "2  http://www.imdb.com/title/tt113228   \n",
       "3  http://www.imdb.com/title/tt114885   \n",
       "4  http://www.imdb.com/title/tt113041   \n",
       "5  http://www.imdb.com/title/tt113277   \n",
       "6  http://www.imdb.com/title/tt114319   \n",
       "7  http://www.imdb.com/title/tt112302   \n",
       "8  http://www.imdb.com/title/tt114576   \n",
       "9  http://www.imdb.com/title/tt113189   \n",
       "\n",
       "                                              poster    youtubeId  \n",
       "0  https://images-na.ssl-images-amazon.com/images...  K26_sDKnvMU  \n",
       "1  https://images-na.ssl-images-amazon.com/images...  3LPANjHlPxo  \n",
       "2  https://images-na.ssl-images-amazon.com/images...  rEnOoWs3FuA  \n",
       "3  https://images-na.ssl-images-amazon.com/images...  j9xml1CxgXI  \n",
       "4  https://images-na.ssl-images-amazon.com/images...  ltwvKLnj1B4  \n",
       "5  https://images-na.ssl-images-amazon.com/images...  2GfZl4kuVNI  \n",
       "6  https://images-na.ssl-images-amazon.com/images...  twTksx_lWB4  \n",
       "7  https://images-na.ssl-images-amazon.com/images...  -C-xXZyX2zU  \n",
       "8  https://images-na.ssl-images-amazon.com/images...  SCOxEKkuWG4  \n",
       "9  https://images-na.ssl-images-amazon.com/images...  lcOqUE0u1LM  "
      ]
     },
     "execution_count": 22,
     "metadata": {},
     "output_type": "execute_result"
    }
   ],
   "source": [
    "link_data = '../datasets/ml-latest-small/links.csv'\n",
    "df_links = pd.read_csv(link_data, low_memory=False)\n",
    "poster_data = '../datasets/movie_poster/MovieGenre.csv'\n",
    "df_posters = pd.read_csv(poster_data, low_memory=False, encoding='latin-1')\n",
    "youtube_data = '../datasets/ml-youtube.csv'\n",
    "df_youtube = pd.read_csv(youtube_data, low_memory=False)\n",
    "\n",
    "\n",
    "df_movies['imdbId'] = df_links['imdbId']\n",
    "df_movies['imdbLink'] = 'None'\n",
    "df_movies['poster'] = 'None'\n",
    "df_movies['youtubeId'] = 'None'\n",
    "\n",
    "\n",
    "for index, row in df_movies.iterrows():\n",
    "    if not df_posters[df_posters['imdbId']==row.imdbId].empty:\n",
    "        idx_df_posters = int(df_posters[df_posters['imdbId']==row.imdbId].index[0])\n",
    "        idx_df_movies = int(df_movies[df_movies['imdbId']==row.imdbId].index[0])\n",
    "\n",
    "        df_movies.loc[idx_df_movies,('imdbLink')] = df_posters.loc[idx_df_posters,('Imdb Link')]\n",
    "        df_movies.loc[idx_df_movies,('poster')] = df_posters.loc[idx_df_posters,('Poster')]\n",
    "    \n",
    "    \n",
    "    if not df_youtube[df_youtube['movieId']==row.movieId].empty:\n",
    "        idx_df_youtube = int(df_youtube[df_youtube['movieId']==row.movieId].index[0])\n",
    "        idx_df_movies = int(df_movies[df_movies['movieId']==row.movieId].index[0])\n",
    "\n",
    "        df_movies.loc[idx_df_movies,('youtubeId')] = df_youtube.loc[idx_df_youtube,('youtubeId')]\n",
    "\n",
    "\n",
    "df_movies.head(10)"
   ]
  },
  {
   "cell_type": "code",
   "execution_count": 24,
   "metadata": {},
   "outputs": [],
   "source": [
    "df_movies.to_csv('../datasets/enhanced_movies.csv', index=False)"
   ]
  },
  {
   "cell_type": "code",
   "execution_count": null,
   "metadata": {},
   "outputs": [],
   "source": []
  },
  {
   "cell_type": "code",
   "execution_count": null,
   "metadata": {},
   "outputs": [],
   "source": []
  },
  {
   "cell_type": "code",
   "execution_count": 4,
   "metadata": {},
   "outputs": [],
   "source": [
    "metadata = pd.read_csv('../datasets/ml-latest-small/ratings.csv', low_memory=False, names=['userId', 'movieId', 'rating','timestamp'])\n",
    "metadata = metadata.drop(columns=\"timestamp\")\n",
    "# metadata.head()\n",
    "metadata.to_csv('../datasets/ml-latest-parsed.csv', header=False, index=False)"
   ]
  },
  {
   "cell_type": "code",
   "execution_count": null,
   "metadata": {},
   "outputs": [],
   "source": []
  },
  {
   "cell_type": "code",
   "execution_count": 25,
   "metadata": {},
   "outputs": [],
   "source": [
    "# link_data = 'datasets/ml-latest-small/links.csv'\n",
    "# df_links = pd.read_csv(link_data, low_memory=False)\n",
    "# df_links.tail()"
   ]
  },
  {
   "cell_type": "code",
   "execution_count": 26,
   "metadata": {},
   "outputs": [],
   "source": [
    "# for index, row in df_movies.head().iterrows():\n",
    "# #     Getting index by movieId\n",
    "#     idx_df_links = int(df_links[df_links['movieId']==row.movieId].index[0])\n",
    "#     idx_df_movies = int(df_movies[df_movies['movieId']==row.movieId].index[0])\n",
    "#     print('Row.movieId: {}\\nIdx: {}\\n'.format(row.movieId, this_idx))\n",
    "#     print(df_links.loc[idx_df_links])\n",
    "#     print('\\n')\n",
    "#     df_movies.loc[idx_df_movies,('imdbId')] = df_links.loc[idx_df_links,('imdbId')]"
   ]
  },
  {
   "cell_type": "code",
   "execution_count": null,
   "metadata": {},
   "outputs": [],
   "source": []
  },
  {
   "cell_type": "code",
   "execution_count": 27,
   "metadata": {},
   "outputs": [],
   "source": [
    "# df_movies['imdbId'] = df_links['imdbId']\n",
    "# df_movies.head()"
   ]
  },
  {
   "cell_type": "code",
   "execution_count": 28,
   "metadata": {},
   "outputs": [],
   "source": [
    "# df_movies['imdbLink'] = 'None'\n",
    "# df_movies['poster'] = 'None'\n",
    "# df_movies.head()"
   ]
  },
  {
   "cell_type": "code",
   "execution_count": null,
   "metadata": {},
   "outputs": [],
   "source": []
  },
  {
   "cell_type": "code",
   "execution_count": 29,
   "metadata": {},
   "outputs": [],
   "source": [
    "# poster_data = 'datasets/movie_poster/MovieGenre.csv'\n",
    "# df_posters = pd.read_csv(poster_data, low_memory=False, encoding='latin-1')\n",
    "# df_posters.head()"
   ]
  },
  {
   "cell_type": "code",
   "execution_count": 30,
   "metadata": {},
   "outputs": [],
   "source": [
    "# #17271 in df_posters['imdbId']"
   ]
  },
  {
   "cell_type": "code",
   "execution_count": 31,
   "metadata": {},
   "outputs": [],
   "source": [
    "# #df_posters[df_posters['imdbId']==1347439].empty"
   ]
  },
  {
   "cell_type": "code",
   "execution_count": 32,
   "metadata": {},
   "outputs": [],
   "source": [
    "# for index, row in df_movies.iterrows():\n",
    "#     if not df_posters[df_posters['imdbId']==row.imdbId].empty:\n",
    "#         idx_df_posters = int(df_posters[df_posters['imdbId']==row.imdbId].index[0])\n",
    "#         idx_df_movies = int(df_movies[df_movies['imdbId']==row.imdbId].index[0])\n",
    "\n",
    "#         df_movies.loc[idx_df_movies,('imdbLink')] = df_posters.loc[idx_df_posters,('Imdb Link')]\n",
    "#         df_movies.loc[idx_df_movies,('poster')] = df_posters.loc[idx_df_posters,('Poster')]"
   ]
  },
  {
   "cell_type": "code",
   "execution_count": 33,
   "metadata": {},
   "outputs": [],
   "source": [
    "# df_movies.head()"
   ]
  },
  {
   "cell_type": "code",
   "execution_count": null,
   "metadata": {},
   "outputs": [],
   "source": []
  },
  {
   "cell_type": "code",
   "execution_count": 34,
   "metadata": {},
   "outputs": [],
   "source": [
    "# youtube_data = 'datasets/ml-youtube.csv'\n",
    "# df_youtube = pd.read_csv(youtube_data, low_memory=False)\n",
    "# df_youtube.head()"
   ]
  },
  {
   "cell_type": "code",
   "execution_count": 35,
   "metadata": {},
   "outputs": [],
   "source": [
    "# df_movies['youtubeId'] = 'None'\n",
    "# df_movies.head()"
   ]
  },
  {
   "cell_type": "code",
   "execution_count": 36,
   "metadata": {},
   "outputs": [],
   "source": [
    "# for index, row in df_movies.iterrows():\n",
    "# #     print(index)\n",
    "# #     print(row.movieId)\n",
    "#     if not df_youtube[df_youtube['movieId']==row.movieId].empty:\n",
    "#         idx_df_youtube = int(df_youtube[df_youtube['movieId']==row.movieId].index[0])\n",
    "#         idx_df_movies = int(df_movies[df_movies['movieId']==row.movieId].index[0])\n",
    "\n",
    "#         df_movies.loc[idx_df_movies,('youtubeId')] = df_youtube.loc[idx_df_youtube,('youtubeId')]\n",
    "    \n",
    "# df_movies.tail()"
   ]
  },
  {
   "cell_type": "code",
   "execution_count": 37,
   "metadata": {},
   "outputs": [],
   "source": [
    "# df_youtube[df_youtube['movieId']==285].empty"
   ]
  },
  {
   "cell_type": "code",
   "execution_count": null,
   "metadata": {},
   "outputs": [],
   "source": []
  },
  {
   "cell_type": "code",
   "execution_count": null,
   "metadata": {},
   "outputs": [],
   "source": []
  }
 ],
 "metadata": {
  "kernelspec": {
   "display_name": "Python 3",
   "language": "python",
   "name": "python3"
  },
  "language_info": {
   "codemirror_mode": {
    "name": "ipython",
    "version": 3
   },
   "file_extension": ".py",
   "mimetype": "text/x-python",
   "name": "python",
   "nbconvert_exporter": "python",
   "pygments_lexer": "ipython3",
   "version": "3.7.3"
  }
 },
 "nbformat": 4,
 "nbformat_minor": 4
}
