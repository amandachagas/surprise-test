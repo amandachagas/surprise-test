{
 "cells": [
  {
   "cell_type": "code",
   "execution_count": 7,
   "metadata": {},
   "outputs": [],
   "source": [
    "from sklearn.metrics import ndcg_score\n",
    "import numpy as np"
   ]
  },
  {
   "cell_type": "code",
   "execution_count": 8,
   "metadata": {},
   "outputs": [],
   "source": [
    "true_relevance = np.asarray([[0.89, 0.7, 0.3, 1.0, 0.5]])"
   ]
  },
  {
   "cell_type": "code",
   "execution_count": 17,
   "metadata": {},
   "outputs": [],
   "source": [
    "scores = np.asarray([[0.80, 0.2, 0.3, 0.2, 0.8]])"
   ]
  },
  {
   "cell_type": "code",
   "execution_count": 18,
   "metadata": {},
   "outputs": [
    {
     "data": {
      "text/plain": [
       "0.8820621004232342"
      ]
     },
     "execution_count": 18,
     "metadata": {},
     "output_type": "execute_result"
    }
   ],
   "source": [
    "ndcg_score(true_relevance, scores)"
   ]
  },
  {
   "cell_type": "code",
   "execution_count": 71,
   "metadata": {},
   "outputs": [],
   "source": [
    "def round_up(entry):\n",
    "    \n",
    "    rounded_up = [round(num, 1) for num in entry]\n",
    "    \n",
    "    return rounded_up        "
   ]
  },
  {
   "cell_type": "code",
   "execution_count": 72,
   "metadata": {},
   "outputs": [
    {
     "data": {
      "text/plain": [
       "[4.0, 3.5, 3.6, 3.5]"
      ]
     },
     "execution_count": 72,
     "metadata": {},
     "output_type": "execute_result"
    }
   ],
   "source": [
    "round_up([3.995, 3.55, 3.605, 3.51])"
   ]
  },
  {
   "cell_type": "code",
   "execution_count": 73,
   "metadata": {},
   "outputs": [],
   "source": [
    "def set_ground_truth_lists():\n",
    "    g31_ground_truth = round_up([3.995,3.55,3.605,3.51,3.42,3.515,3.815,3.69,3.255,3.39])\n",
    "    g32_ground_truth = round_up([3.69,3.63,3.26,3.32,3.49,3.05,2.86,2.875,3.41,3.08])\n",
    "    g33_ground_truth = round_up([3.59,3.46,3.29,3.305,3.245,3.355,3.17,3.465,3.15,3.215])\n",
    "    g51_ground_truth = round_up([4.02,3.345,3.735,3.235,3.42,3.835,3.125,3.53,3.135,3.29])\n",
    "    g52_ground_truth = round_up([4.075,3.675,3.41,3.3,3.375,3.36,3.275,3.825,3.245,3.2])\n",
    "    g53_ground_truth = round_up([4.18,4.15,3.86,3.715,3.73,3.47,4.045,3.36,3.765,3.86])\n",
    "    \n",
    "    return g31_ground_truth, g32_ground_truth, g33_ground_truth, g51_ground_truth, g52_ground_truth, g53_ground_truth"
   ]
  },
  {
   "cell_type": "code",
   "execution_count": 74,
   "metadata": {},
   "outputs": [],
   "source": [
    "g31_ground_truth, g32_ground_truth, g33_ground_truth, g51_ground_truth, g52_ground_truth, g53_ground_truth = set_ground_truth_lists()"
   ]
  },
  {
   "cell_type": "code",
   "execution_count": 75,
   "metadata": {},
   "outputs": [
    {
     "name": "stdout",
     "output_type": "stream",
     "text": [
      "[4.0, 3.5, 3.6, 3.5, 3.4, 3.5, 3.8, 3.7, 3.3, 3.4] [3.7, 3.6, 3.3, 3.3, 3.5, 3.0, 2.9, 2.9, 3.4, 3.1] [3.6, 3.5, 3.3, 3.3, 3.2, 3.4, 3.2, 3.5, 3.1, 3.2] [4.0, 3.3, 3.7, 3.2, 3.4, 3.8, 3.1, 3.5, 3.1, 3.3] [4.1, 3.7, 3.4, 3.3, 3.4, 3.4, 3.3, 3.8, 3.2, 3.2] [4.2, 4.2, 3.9, 3.7, 3.7, 3.5, 4.0, 3.4, 3.8, 3.9]\n"
     ]
    }
   ],
   "source": [
    "print(g31_ground_truth, g32_ground_truth, g33_ground_truth, g51_ground_truth, g52_ground_truth, g53_ground_truth)"
   ]
  },
  {
   "cell_type": "code",
   "execution_count": 76,
   "metadata": {},
   "outputs": [],
   "source": [
    "def set_scores_lists():\n",
    "    g31_scores = round_up([2,5,2,2,1,5,3,2,2.5,3])\n",
    "    g32_scores = round_up([2,3,3.5,2.5,4,2.5,4.5,1.5,4.5,4.5])\n",
    "    g33_scores = round_up([4.5,4,3.5,3.5,4,2.5,4,4,2.5,3.5])\n",
    "    g51_scores = round_up([3.5,2,2.5,2,4.5,4,1,4,4,1.5])\n",
    "    g52_scores = round_up([2.5,4,2.5,2.7,3,4,2,2,3.7,3])\n",
    "    g53_scores = round_up([3,5,3,4,2,4,3.5,3.5,3,3])\n",
    "    \n",
    "    return g31_scores, g32_scores, g33_scores, g51_scores, g52_scores, g53_scores"
   ]
  },
  {
   "cell_type": "code",
   "execution_count": 77,
   "metadata": {},
   "outputs": [
    {
     "name": "stdout",
     "output_type": "stream",
     "text": [
      "[2, 5, 2, 2, 1, 5, 3, 2, 2.5, 3] [2, 3, 3.5, 2.5, 4, 2.5, 4.5, 1.5, 4.5, 4.5] [4.5, 4, 3.5, 3.5, 4, 2.5, 4, 4, 2.5, 3.5] [3.5, 2, 2.5, 2, 4.5, 4, 1, 4, 4, 1.5] [2.5, 4, 2.5, 2.7, 3, 4, 2, 2, 3.7, 3] [3, 5, 3, 4, 2, 4, 3.5, 3.5, 3, 3]\n"
     ]
    }
   ],
   "source": [
    "g31_scores, g32_scores, g33_scores, g51_scores, g52_scores, g53_scores = set_scores_lists()\n",
    "print(g31_scores, g32_scores, g33_scores, g51_scores, g52_scores, g53_scores)"
   ]
  },
  {
   "cell_type": "code",
   "execution_count": 84,
   "metadata": {},
   "outputs": [
    {
     "name": "stdout",
     "output_type": "stream",
     "text": [
      "0.9103636299032551\n"
     ]
    }
   ],
   "source": [
    "g31_ndcg = ndcg_score(np.asarray([g31_ground_truth]), np.asarray([g31_scores]),3)\n",
    "print(g31_ndcg)"
   ]
  },
  {
   "cell_type": "code",
   "execution_count": 85,
   "metadata": {},
   "outputs": [
    {
     "name": "stdout",
     "output_type": "stream",
     "text": [
      "0.8647342400575582\n"
     ]
    }
   ],
   "source": [
    "g32_ndcg = ndcg_score(np.asarray([g32_ground_truth]), np.asarray([g32_scores]),3)\n",
    "print(g32_ndcg)"
   ]
  },
  {
   "cell_type": "code",
   "execution_count": 86,
   "metadata": {},
   "outputs": [
    {
     "name": "stdout",
     "output_type": "stream",
     "text": [
      "0.9775557344395107\n"
     ]
    }
   ],
   "source": [
    "g33_ndcg = ndcg_score(np.asarray([g33_ground_truth]), np.asarray([g33_scores]),3)\n",
    "print(g33_ndcg)"
   ]
  },
  {
   "cell_type": "code",
   "execution_count": 87,
   "metadata": {},
   "outputs": [
    {
     "name": "stdout",
     "output_type": "stream",
     "text": [
      "0.8876055934085096\n"
     ]
    }
   ],
   "source": [
    "g51_ndcg = ndcg_score(np.asarray([g51_ground_truth]), np.asarray([g51_scores]),3)\n",
    "print(g51_ndcg)"
   ]
  },
  {
   "cell_type": "code",
   "execution_count": 88,
   "metadata": {},
   "outputs": [
    {
     "name": "stdout",
     "output_type": "stream",
     "text": [
      "0.8852676076753275\n"
     ]
    }
   ],
   "source": [
    "g52_ndcg = ndcg_score(np.asarray([g52_ground_truth]), np.asarray([g52_scores]),3)\n",
    "print(g52_ndcg)"
   ]
  },
  {
   "cell_type": "code",
   "execution_count": 89,
   "metadata": {},
   "outputs": [
    {
     "name": "stdout",
     "output_type": "stream",
     "text": [
      "0.9346255293778889\n"
     ]
    }
   ],
   "source": [
    "g53_ndcg = ndcg_score(np.asarray([g53_ground_truth]), np.asarray([g53_scores]),3)\n",
    "print(g53_ndcg)"
   ]
  },
  {
   "cell_type": "code",
   "execution_count": null,
   "metadata": {},
   "outputs": [],
   "source": []
  }
 ],
 "metadata": {
  "kernelspec": {
   "display_name": "Python 3",
   "language": "python",
   "name": "python3"
  },
  "language_info": {
   "codemirror_mode": {
    "name": "ipython",
    "version": 3
   },
   "file_extension": ".py",
   "mimetype": "text/x-python",
   "name": "python",
   "nbconvert_exporter": "python",
   "pygments_lexer": "ipython3",
   "version": "3.7.3"
  }
 },
 "nbformat": 4,
 "nbformat_minor": 4
}
