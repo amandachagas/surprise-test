{
 "cells": [
  {
   "cell_type": "code",
   "execution_count": 31,
   "metadata": {},
   "outputs": [],
   "source": [
    "from collections import defaultdict\n",
    "import pandas as pd\n",
    "import matplotlib.pyplot as plt\n",
    "import numpy as np\n",
    "import statistics\n",
    "import json\n",
    "import time"
   ]
  },
  {
   "cell_type": "code",
   "execution_count": 32,
   "metadata": {},
   "outputs": [],
   "source": [
    "plt.style.use('seaborn')\n",
    "# plt.rcParams['figure.figsize'] = (8,5)"
   ]
  },
  {
   "cell_type": "code",
   "execution_count": 33,
   "metadata": {},
   "outputs": [],
   "source": [
    "def rounding_vector(vector, decimal=0):\n",
    "    aux = []\n",
    "    for item in vector:\n",
    "        aux.append(round(item,decimal))\n",
    "    \n",
    "    return aux"
   ]
  },
  {
   "cell_type": "code",
   "execution_count": 34,
   "metadata": {},
   "outputs": [],
   "source": [
    "def read_as_json(file_name):\n",
    "    with open(file_name) as json_file:\n",
    "        data = json.load(json_file)\n",
    "    return data"
   ]
  },
  {
   "cell_type": "code",
   "execution_count": 35,
   "metadata": {},
   "outputs": [],
   "source": [
    "'''The order on vectors is corresponding with evaluated groups e.g.:[G1,G2,G3,G4,G5]'''\n",
    "baseline_ild = [0.9694159990485626,0.9442230039447174,0.9593941978720311,0.9354006319845902,0.97624502398981]\n",
    "baseline_p10 = [0.8,0.4,0.4,0.5,0.5]"
   ]
  },
  {
   "cell_type": "code",
   "execution_count": 36,
   "metadata": {},
   "outputs": [],
   "source": [
    "'''The vector for the proposal are disposed in order: [\n",
    "                                                        [[G1_stan,G1_greedy,G1_random],...,[G1_stan,G1_greedy,G1_random]],\n",
    "                                                        ...\n",
    "                                                        [[G5_stan,G5_greedy,G5_random],...,[G5_stan,G5_greedy,G5_random]]\n",
    "                                                      ]\n",
    "The number of time we ran the experiment of each group was 5.'''\n",
    "\n",
    "prop_ild = [\n",
    "    [\n",
    "        [0.7953019541614298, 0.9787078861191725, 0.9415961502132234],\n",
    "        [0.83595627722388, 0.9794474805350205, 0.9269096165856556],\n",
    "        [0.8046898441895997, 0.9786704305770814, 0.9498343426588619],\n",
    "        [0.7022654150181958, 0.9680878734647854, 0.9620026451215553],\n",
    "        [0.7826719901093202, 0.9647759255163505, 0.913428396728993]\n",
    "    ],\n",
    "    [\n",
    "        [0.8867713232142258, 0.9715281467775868, 0.9628325417950339],\n",
    "        [0.8867713232142258, 0.9625387435728876, 0.9544003846259438],\n",
    "        [0.9032843555872834, 0.9703775775686588, 0.9703063462249915],\n",
    "        [0.8867713232142257, 0.9625387435728876, 0.9518114636326479],\n",
    "        [0.9032843555872834, 0.9715281467775868, 0.9337829857250093]\n",
    "    ],\n",
    "    [\n",
    "        [0.8920139156044071, 0.966798794846502, 0.9697985676457304],\n",
    "        [0.8702020419685647, 0.970747543794492, 0.8768227023395017],\n",
    "        [0.8702020419685647, 0.9619970131026159, 0.9471800896121105],\n",
    "        [0.8818772896713497, 0.971108625977288, 0.9550575778521848],\n",
    "        [0.8337506089491183, 0.9756616313236539, 0.9340112560558589]\n",
    "    ],\n",
    "    [\n",
    "        [0.8505838166646339, 0.9522913415950041, 0.951958549063721],\n",
    "        [0.8138669593643366, 0.9705507902994455, 0.9604825088532633],\n",
    "        [0.8577610904066053, 0.9509413556439898, 0.9373745661158465],\n",
    "        [0.7624477228928005, 0.9318603997344501, 0.953664423885352],\n",
    "        [0.8856317578764273, 0.9683581044592141, 0.9363364809443784]\n",
    "    ],\n",
    "    [\n",
    "        [0.9148043937915583, 0.94185076469001, 0.9562622538784413],\n",
    "        [0.9178876062072044, 0.942209485189788, 0.9203903595071468],\n",
    "        [0.9123873254810145, 0.9430853210971428, 0.9317932765696845],\n",
    "        [0.914837868893038, 0.9533031351106007, 0.9289118635298854],\n",
    "        [0.8867019303506269, 0.9450310271629726, 0.9240419189104845]\n",
    "    ]\n",
    "]\n",
    "\n",
    "prop_p10 = [\n",
    "    [\n",
    "        [0.4, 0.4, 0.4],\n",
    "        [0.6, 0.6, 0.2],\n",
    "        [0.4, 0.5, 0.1],\n",
    "        [0.4, 0.5, 0.2],\n",
    "        [0.5, 0.6, 0.3]\n",
    "    ],\n",
    "    [\n",
    "        [0.4, 0.6, 0.3],\n",
    "        [0.4, 0.6, 0.3],\n",
    "        [0.4, 0.5, 0.4],\n",
    "        [0.4, 0.6, 0.3],\n",
    "        [0.4, 0.7, 0.4]\n",
    "    ],\n",
    "    [\n",
    "        [0.4, 0.5, 0.3],\n",
    "        [0.3, 0.5, 0.4],\n",
    "        [0.3, 0.5, 0.5],\n",
    "        [0.3, 0.5, 0.5],\n",
    "        [0.3, 0.5, 0.1]\n",
    "    ],\n",
    "    [\n",
    "        [0.4, 0.4, 0.1],\n",
    "        [0.4, 0.5, 0.3],\n",
    "        [0.5, 0.5, 0.3],\n",
    "        [0.3, 0.4, 0.3],\n",
    "        [0.5, 0.5, 0.3]\n",
    "    ],\n",
    "    [\n",
    "        [0.4, 0.4, 0.3],\n",
    "        [0.4, 0.4, 0.5],\n",
    "        [0.5, 0.5, 0.3],\n",
    "        [0.4, 0.4, 0.5],\n",
    "        [0.5, 0.6, 0.6]\n",
    "    ]\n",
    "]"
   ]
  },
  {
   "cell_type": "code",
   "execution_count": 37,
   "metadata": {},
   "outputs": [
    {
     "name": "stdout",
     "output_type": "stream",
     "text": [
      "[{'m_standard': 0.46, 'm_greedy': 0.52, 'm_random': 0.24, 'std_standard': 0.0894, 'std_greedy': 0.0837, 'std_random': 0.114}, {'m_standard': 0.4, 'm_greedy': 0.6, 'm_random': 0.34, 'std_standard': 0.0, 'std_greedy': 0.0707, 'std_random': 0.0548}, {'m_standard': 0.32, 'm_greedy': 0.5, 'm_random': 0.36, 'std_standard': 0.0447, 'std_greedy': 0.0, 'std_random': 0.1673}, {'m_standard': 0.42, 'm_greedy': 0.46, 'm_random': 0.26, 'std_standard': 0.0837, 'std_greedy': 0.0548, 'std_random': 0.0894}, {'m_standard': 0.44, 'm_greedy': 0.46, 'm_random': 0.44, 'std_standard': 0.0548, 'std_greedy': 0.0894, 'std_random': 0.1342}]\n"
     ]
    }
   ],
   "source": [
    "prop_p10_plot = []\n",
    "for group in prop_p10:\n",
    "    standard = []\n",
    "    greedy = []\n",
    "    random = []\n",
    "    for run in group:\n",
    "        standard.append(run[0])\n",
    "        greedy.append(run[1])\n",
    "        random.append(run[2])\n",
    "        \n",
    "    my_dict = dict()\n",
    "    my_dict['m_standard'] = round(statistics.mean(standard),4)\n",
    "    my_dict['m_greedy'] = round(statistics.mean(greedy),4)\n",
    "    my_dict['m_random'] = round(statistics.mean(random),4)\n",
    "    my_dict['std_standard'] = round(statistics.stdev(standard),4)\n",
    "    my_dict['std_greedy'] = round(statistics.stdev(greedy),4)\n",
    "    my_dict['std_random'] = round(statistics.stdev(random),4)\n",
    "    \n",
    "    prop_p10_plot.append(my_dict)\n",
    "        \n",
    "print(prop_p10_plot)"
   ]
  },
  {
   "cell_type": "code",
   "execution_count": 38,
   "metadata": {},
   "outputs": [],
   "source": [
    "with open('prop_p10.json', 'w') as json_file:  \n",
    "    json.dump(prop_p10_plot, json_file)"
   ]
  },
  {
   "cell_type": "code",
   "execution_count": 39,
   "metadata": {},
   "outputs": [
    {
     "name": "stdout",
     "output_type": "stream",
     "text": [
      "[[[0.7953019541614298, 0.9787078861191725, 0.9415961502132234], [0.83595627722388, 0.9794474805350205, 0.9269096165856556], [0.8046898441895997, 0.9786704305770814, 0.9498343426588619], [0.7022654150181958, 0.9680878734647854, 0.9620026451215553], [0.7826719901093202, 0.9647759255163505, 0.913428396728993]], [[0.8867713232142258, 0.9715281467775868, 0.9628325417950339], [0.8867713232142258, 0.9625387435728876, 0.9544003846259438], [0.9032843555872834, 0.9703775775686588, 0.9703063462249915], [0.8867713232142257, 0.9625387435728876, 0.9518114636326479], [0.9032843555872834, 0.9715281467775868, 0.9337829857250093]], [[0.8920139156044071, 0.966798794846502, 0.9697985676457304], [0.8702020419685647, 0.970747543794492, 0.8768227023395017], [0.8702020419685647, 0.9619970131026159, 0.9471800896121105], [0.8818772896713497, 0.971108625977288, 0.9550575778521848], [0.8337506089491183, 0.9756616313236539, 0.9340112560558589]], [[0.8505838166646339, 0.9522913415950041, 0.951958549063721], [0.8138669593643366, 0.9705507902994455, 0.9604825088532633], [0.8577610904066053, 0.9509413556439898, 0.9373745661158465], [0.7624477228928005, 0.9318603997344501, 0.953664423885352], [0.8856317578764273, 0.9683581044592141, 0.9363364809443784]], [[0.9148043937915583, 0.94185076469001, 0.9562622538784413], [0.9178876062072044, 0.942209485189788, 0.9203903595071468], [0.9123873254810145, 0.9430853210971428, 0.9317932765696845], [0.914837868893038, 0.9533031351106007, 0.9289118635298854], [0.8867019303506269, 0.9450310271629726, 0.9240419189104845]]]\n"
     ]
    }
   ],
   "source": [
    "print(prop_ild)"
   ]
  },
  {
   "cell_type": "code",
   "execution_count": 40,
   "metadata": {},
   "outputs": [
    {
     "name": "stdout",
     "output_type": "stream",
     "text": [
      "[[[0.7953, 0.9787, 0.9416], [0.836, 0.9794, 0.9269], [0.8047, 0.9787, 0.9498], [0.7023, 0.9681, 0.962], [0.7827, 0.9648, 0.9134]], [[0.8868, 0.9715, 0.9628], [0.8868, 0.9625, 0.9544], [0.9033, 0.9704, 0.9703], [0.8868, 0.9625, 0.9518], [0.9033, 0.9715, 0.9338]], [[0.892, 0.9668, 0.9698], [0.8702, 0.9707, 0.8768], [0.8702, 0.962, 0.9472], [0.8819, 0.9711, 0.9551], [0.8338, 0.9757, 0.934]], [[0.8506, 0.9523, 0.952], [0.8139, 0.9706, 0.9605], [0.8578, 0.9509, 0.9374], [0.7624, 0.9319, 0.9537], [0.8856, 0.9684, 0.9363]], [[0.9148, 0.9419, 0.9563], [0.9179, 0.9422, 0.9204], [0.9124, 0.9431, 0.9318], [0.9148, 0.9533, 0.9289], [0.8867, 0.945, 0.924]]]\n"
     ]
    }
   ],
   "source": [
    "rounded = []\n",
    "for group in prop_ild:\n",
    "    block = []\n",
    "    for run in group:\n",
    "        block.append(rounding_vector(run,4))\n",
    "    rounded.append(block)\n",
    "    \n",
    "print(rounded)"
   ]
  },
  {
   "cell_type": "code",
   "execution_count": 41,
   "metadata": {},
   "outputs": [
    {
     "name": "stdout",
     "output_type": "stream",
     "text": [
      "[{'m_standard': 0.7842, 'm_greedy': 0.9739, 'm_random': 0.9387, 'std_standard': 0.0498, 'std_greedy': 0.0069, 'std_random': 0.0191}, {'m_standard': 0.8934, 'm_greedy': 0.9677, 'm_random': 0.9546, 'std_standard': 0.009, 'std_greedy': 0.0047, 'std_random': 0.0137}, {'m_standard': 0.8696, 'm_greedy': 0.9693, 'm_random': 0.9366, 'std_standard': 0.022, 'std_greedy': 0.0051, 'std_random': 0.0358}, {'m_standard': 0.8341, 'm_greedy': 0.9548, 'm_random': 0.948, 'std_standard': 0.0475, 'std_greedy': 0.0157, 'std_random': 0.0107}, {'m_standard': 0.9093, 'm_greedy': 0.9451, 'm_random': 0.9323, 'std_standard': 0.0128, 'std_greedy': 0.0047, 'std_random': 0.0141}]\n"
     ]
    }
   ],
   "source": [
    "prop_ild_plot = []\n",
    "for group in rounded:\n",
    "    standard = []\n",
    "    greedy = []\n",
    "    random = []\n",
    "    for run in group:\n",
    "        standard.append(run[0])\n",
    "        greedy.append(run[1])\n",
    "        random.append(run[2])\n",
    "        \n",
    "    my_dict = dict()\n",
    "    my_dict['m_standard'] = round(statistics.mean(standard),4)\n",
    "    my_dict['m_greedy'] = round(statistics.mean(greedy),4)\n",
    "    my_dict['m_random'] = round(statistics.mean(random),4)\n",
    "    my_dict['std_standard'] = round(statistics.stdev(standard),4)\n",
    "    my_dict['std_greedy'] = round(statistics.stdev(greedy),4)\n",
    "    my_dict['std_random'] = round(statistics.stdev(random),4)\n",
    "    \n",
    "    prop_ild_plot.append(my_dict)\n",
    "        \n",
    "print(prop_ild_plot)"
   ]
  },
  {
   "cell_type": "code",
   "execution_count": null,
   "metadata": {},
   "outputs": [],
   "source": []
  },
  {
   "cell_type": "code",
   "execution_count": 42,
   "metadata": {},
   "outputs": [],
   "source": [
    "with open('prop_ild.json', 'w') as json_file:  \n",
    "    json.dump(prop_ild_plot, json_file)"
   ]
  },
  {
   "cell_type": "code",
   "execution_count": null,
   "metadata": {},
   "outputs": [],
   "source": []
  },
  {
   "cell_type": "code",
   "execution_count": 43,
   "metadata": {},
   "outputs": [
    {
     "name": "stdout",
     "output_type": "stream",
     "text": [
      "[0.9694, 0.9442, 0.9594, 0.9354, 0.9762]\n"
     ]
    }
   ],
   "source": [
    "baseline_ild = rounding_vector(baseline_ild,4)\n",
    "print(baseline_ild)"
   ]
  },
  {
   "cell_type": "code",
   "execution_count": 44,
   "metadata": {},
   "outputs": [
    {
     "data": {
      "text/plain": [
       "Text(0.5, 1.0, 'Baseline performance on ILD metric')"
      ]
     },
     "execution_count": 44,
     "metadata": {},
     "output_type": "execute_result"
    },
    {
     "data": {
      "image/png": "[encoded data removed]",
      "text/plain": [
       "<Figure size 576x396 with 1 Axes>"
      ]
     },
     "metadata": {},
     "output_type": "display_data"
    }
   ],
   "source": [
    "objects = ('G1', 'G2', 'G3', 'G4', 'G5')\n",
    "y_pos = np.arange(len(objects))\n",
    "values_ild = baseline_ild\n",
    "\n",
    "plt.bar(y_pos, values_ild, width=0.6, align='center', alpha=0.5)\n",
    "plt.xticks(y_pos, objects)\n",
    "plt.ylabel('ILD')\n",
    "plt.xlabel('Groups')\n",
    "plt.title('Baseline performance on ILD metric')"
   ]
  },
  {
   "cell_type": "code",
   "execution_count": null,
   "metadata": {},
   "outputs": [],
   "source": []
  },
  {
   "cell_type": "code",
   "execution_count": 46,
   "metadata": {},
   "outputs": [
    {
     "data": {
      "text/plain": [
       "[{'m_standard': 0.7842,\n",
       "  'm_greedy': 0.9739,\n",
       "  'm_random': 0.9387,\n",
       "  'std_standard': 0.0498,\n",
       "  'std_greedy': 0.0069,\n",
       "  'std_random': 0.0191},\n",
       " {'m_standard': 0.8934,\n",
       "  'm_greedy': 0.9677,\n",
       "  'm_random': 0.9546,\n",
       "  'std_standard': 0.009,\n",
       "  'std_greedy': 0.0047,\n",
       "  'std_random': 0.0137},\n",
       " {'m_standard': 0.8696,\n",
       "  'm_greedy': 0.9693,\n",
       "  'm_random': 0.9366,\n",
       "  'std_standard': 0.022,\n",
       "  'std_greedy': 0.0051,\n",
       "  'std_random': 0.0358},\n",
       " {'m_standard': 0.8341,\n",
       "  'm_greedy': 0.9548,\n",
       "  'm_random': 0.948,\n",
       "  'std_standard': 0.0475,\n",
       "  'std_greedy': 0.0157,\n",
       "  'std_random': 0.0107},\n",
       " {'m_standard': 0.9093,\n",
       "  'm_greedy': 0.9451,\n",
       "  'm_random': 0.9323,\n",
       "  'std_standard': 0.0128,\n",
       "  'std_greedy': 0.0047,\n",
       "  'std_random': 0.0141}]"
      ]
     },
     "execution_count": 46,
     "metadata": {},
     "output_type": "execute_result"
    }
   ],
   "source": [
    "prop_ild = read_as_json('prop_ild.json')\n",
    "prop_ild"
   ]
  },
  {
   "cell_type": "code",
   "execution_count": 47,
   "metadata": {},
   "outputs": [
    {
     "name": "stdout",
     "output_type": "stream",
     "text": [
      "[0.7842, 0.8934, 0.8696, 0.8341, 0.9093] [0.9739, 0.9677, 0.9693, 0.9548, 0.9451] [0.9387, 0.9546, 0.9366, 0.948, 0.9323]\n"
     ]
    }
   ],
   "source": [
    "m_standard = []\n",
    "m_greedy = []\n",
    "m_random = []\n",
    "std_standard = []\n",
    "std_greedy = []\n",
    "std_random = []\n",
    "for group in prop_ild:\n",
    "    m_standard.append(group['m_standard'])\n",
    "    m_greedy.append(group['m_greedy'])\n",
    "    m_random.append(group['m_random'])\n",
    "    std_standard.append(group['std_standard'])\n",
    "    std_greedy.append(group['std_greedy'])\n",
    "    std_random.append(group['std_random'])\n",
    "    \n",
    "print(m_standard, m_greedy, m_random)"
   ]
  },
  {
   "cell_type": "code",
   "execution_count": null,
   "metadata": {},
   "outputs": [],
   "source": []
  },
  {
   "cell_type": "code",
   "execution_count": 69,
   "metadata": {},
   "outputs": [
    {
     "data": {
      "image/png": "[encoded data removed]",
      "text/plain": [
       "<Figure size 1080x576 with 1 Axes>"
      ]
     },
     "metadata": {},
     "output_type": "display_data"
    }
   ],
   "source": [
    "plt.rcParams['figure.figsize'] = (15,8)\n",
    "\n",
    "# data to plot\n",
    "n = 5\n",
    "baseline_ild\n",
    "m_standard\n",
    "m_greedy\n",
    "m_random\n",
    "std_standard\n",
    "std_greedy\n",
    "std_random\n",
    "\n",
    "# create plot\n",
    "fig, ax = plt.subplots()\n",
    "index = np.arange(n)\n",
    "bar_width = 0.2\n",
    "opacity = 0.8\n",
    "\n",
    "line1 = plt.bar(index, m_standard, bar_width, alpha=opacity, color='palevioletred', yerr=std_standard, label='Standard')\n",
    "line2 = plt.bar(index + bar_width, baseline_ild, bar_width, alpha=opacity, color='darkseagreen', label='Baseline')\n",
    "line3 = plt.bar(index + bar_width + bar_width, m_greedy, bar_width, alpha=opacity, color='cornflowerblue', yerr=std_greedy, label='Greedy')\n",
    "line4 = plt.bar(index + bar_width + bar_width + bar_width, m_random, bar_width, alpha=opacity, color='darkkhaki', yerr=std_random, label='Random')\n",
    "\n",
    "\n",
    "plt.xlabel('Groups', fontweight=\"bold\", fontsize=16)\n",
    "plt.ylabel('ILD', fontweight=\"bold\", fontsize=16)\n",
    "plt.title('ILD scores by groups', fontweight=\"bold\", fontsize=20)\n",
    "plt.xticks(index + bar_width, ('G1', 'G2', 'G3', 'G4', 'G5'), fontweight=\"bold\", fontsize=\"12\")\n",
    "plt.legend()\n",
    "\n",
    "plt.tight_layout()\n",
    "plt.show()"
   ]
  },
  {
   "cell_type": "code",
   "execution_count": null,
   "metadata": {},
   "outputs": [],
   "source": []
  },
  {
   "cell_type": "code",
   "execution_count": null,
   "metadata": {},
   "outputs": [],
   "source": []
  },
  {
   "cell_type": "code",
   "execution_count": null,
   "metadata": {},
   "outputs": [],
   "source": []
  },
  {
   "cell_type": "code",
   "execution_count": null,
   "metadata": {},
   "outputs": [],
   "source": []
  }
 ],
 "metadata": {
  "kernelspec": {
   "display_name": "Python 3",
   "language": "python",
   "name": "python3"
  },
  "language_info": {
   "codemirror_mode": {
    "name": "ipython",
    "version": 3
   },
   "file_extension": ".py",
   "mimetype": "text/x-python",
   "name": "python",
   "nbconvert_exporter": "python",
   "pygments_lexer": "ipython3",
   "version": "3.7.3"
  }
 },
 "nbformat": 4,
 "nbformat_minor": 4
}
