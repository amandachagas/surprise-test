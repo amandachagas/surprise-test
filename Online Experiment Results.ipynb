{
  "cells": [
    {
      "cell_type": "code",
      "execution_count": 1,
      "metadata": {
        "id": "CtEmBQ_MKlFl"
      },
      "outputs": [],
      "source": [
        "from sklearn.metrics import ndcg_score\n",
        "import numpy as np\n",
        "import matplotlib.pyplot as plt"
      ]
    },
    {
      "cell_type": "code",
      "execution_count": 2,
      "metadata": {
        "id": "wsLq8jISKlFo"
      },
      "outputs": [],
      "source": [
        "plt.style.use('seaborn-whitegrid')"
      ]
    },
    {
      "cell_type": "code",
      "execution_count": 2,
      "metadata": {
        "id": "OtEPlR2DKlFp"
      },
      "outputs": [],
      "source": [
        ""
      ]
    },
    {
      "cell_type": "code",
      "execution_count": 3,
      "metadata": {
        "id": "n9vZDrEyKlFp"
      },
      "outputs": [],
      "source": [
        "def round_up(entry):\n",
        "    \n",
        "    rounded_up = [round(num, 2) for num in entry]\n",
        "    \n",
        "    return rounded_up        "
      ]
    },
    {
      "cell_type": "code",
      "execution_count": 3,
      "metadata": {
        "id": "OD4EBrocKlFq"
      },
      "outputs": [],
      "source": [
        ""
      ]
    },
    {
      "cell_type": "code",
      "execution_count": 3,
      "metadata": {
        "id": "fP624oQtKlFq"
      },
      "outputs": [],
      "source": [
        ""
      ]
    },
    {
      "cell_type": "code",
      "execution_count": 4,
      "metadata": {
        "id": "Oy0wRhpVKlFr"
      },
      "outputs": [],
      "source": [
        "import math\n",
        "\n",
        "def ndcg(truth, score, at):\n",
        "    \n",
        "    if not len(score) == len(truth):\n",
        "        return \"Error, the size of 'truth' and 'score' must be the same\"\n",
        "    \n",
        "    g = score\n",
        "    g_i = truth\n",
        "    \n",
        "#     print('g: {}'.format(g))\n",
        "#     print('g_i: {}'.format(g_i))\n",
        "#     print()\n",
        "    \n",
        "    \n",
        "#  Swap 'score' and 'truth' from places if score > truth, this way does not bug the calculation\n",
        "    aux_g = g.copy()\n",
        "    aux_g_i = g_i.copy()\n",
        "\n",
        "    for idx in range(0, len(g)): \n",
        "        if g[idx] > g_i[idx]:\n",
        "            aux_g_i[idx] = g[idx]\n",
        "            aux_g[idx] = g_i[idx]\n",
        "            \n",
        "    g = aux_g\n",
        "    g_i = aux_g_i\n",
        "    \n",
        "#     print('corrected g: {}'.format(g))\n",
        "#     print('correctedg_i: {}'.format(g_i))\n",
        "#     print()\n",
        "\n",
        "    cg = []\n",
        "    cg_i = []\n",
        "    \n",
        "# # Calculates CG and CGi\n",
        "    for idx in range(0, len(g)): \n",
        "        if idx == 0:\n",
        "            cg.insert(idx, g[idx])\n",
        "            cg_i.insert(idx, g_i[idx])\n",
        "        else:\n",
        "            cg.insert(idx, cg[idx-1] + g[idx])\n",
        "            cg_i.insert(idx, cg_i[idx-1] + g_i[idx])\n",
        "    \n",
        "            \n",
        "#     print('cg: {}'.format(cg))\n",
        "#     print('cg_i: {}'.format(cg_i))\n",
        "#     print()\n",
        "    \n",
        "    dcg = []\n",
        "    dcg_i = []\n",
        "    \n",
        "# # Calculates DCG and DCGi\n",
        "    for idx in range(0, len(g)): \n",
        "        if idx == 0 :\n",
        "            dcg.insert(idx, round(cg[idx], 2))\n",
        "            dcg_i.insert(idx, round(cg_i[idx], 2))\n",
        "        else:\n",
        "            dcg.insert(idx, dcg[idx-1] + round((g[idx] / math.log2(idx+1)), 2) )\n",
        "            dcg_i.insert(idx, dcg_i[idx-1] + round((g_i[idx] / math.log2(idx+1)), 2) )\n",
        "            \n",
        "#     print('dcg: {}'.format(dcg))\n",
        "#     print('dcg_i: {}'.format(dcg_i))\n",
        "#     print()\n",
        "    \n",
        "# # Calculates nDCG@  = DCG@ / DCGi@\n",
        "#     print('TESTE at={}, at-1={}, dcg[at-1]={}, dcg_i[at-1]={}'.format(at, at-1, dcg[at-1], dcg_i[at-1]))\n",
        "    ndcg_value = round(dcg[at-1] / dcg_i[at-1], 2)\n",
        "    \n",
        "#     print('ndcg@{} = {}'.format(at, ndcg_value))\n",
        "   \n",
        "    return ndcg_value"
      ]
    },
    {
      "cell_type": "code",
      "execution_count": 5,
      "metadata": {
        "id": "iLlZngZtKlFs"
      },
      "outputs": [],
      "source": [
        "# ndcg([0.8,0.5,0.4], [0.6,0.4,0.3], 3)"
      ]
    },
    {
      "cell_type": "code",
      "execution_count": 6,
      "metadata": {
        "colab": {
          "base_uri": "https://localhost:8080/"
        },
        "id": "cIiOit6WKlFt",
        "outputId": "67a09d03-9101-4a58-dda2-f831311414ee"
      },
      "outputs": [
        {
          "output_type": "execute_result",
          "data": {
            "text/plain": [
              "0.62"
            ]
          },
          "metadata": {},
          "execution_count": 6
        }
      ],
      "source": [
        "ndcg([0.4, 1, 0.4, 0.4, 0.2, 1, 0.6, 0.4, 0.5, 0.6], [0.799,0.71,0.721,0.702,0.684,0.703,0.763,0.738,0.651,0.678], 10)"
      ]
    },
    {
      "cell_type": "code",
      "execution_count": 6,
      "metadata": {
        "id": "_eTeWs-7KlFu"
      },
      "outputs": [],
      "source": [
        ""
      ]
    },
    {
      "cell_type": "code",
      "execution_count": 6,
      "metadata": {
        "id": "RV3BY226KlFu"
      },
      "outputs": [],
      "source": [
        ""
      ]
    },
    {
      "cell_type": "code",
      "execution_count": 7,
      "metadata": {
        "id": "8AY8n6_iKlFu"
      },
      "outputs": [],
      "source": [
        "g31_b = [3.0,1.0,4.0,2.0,3.5,3.0,2.0,1.5,1.5,3.5]\n",
        "g32_b = [3.5,4.5,1.0,3.5,3.0,4.5,3.5,3.4,2.4,1.7]\n",
        "g33_b = [3.0,2.5,3.5,2.5,1.5,1.0,3.5,3.4,2.5,2.5]\n",
        "g51_b = [2.5,2.5,2.0,4.5,2.5,1.4,1.9,1.1,2.9,2.5]\n",
        "g52_b = [3.7,3.0,3.0,2.7,2.5,3.0,3.3,3.8,3.0,3.5]\n",
        "g53_b = [4.4,2.0,3.0,3.8,3.5,3.666666667,2.833333333,3.166666667,3.5,4.0]"
      ]
    },
    {
      "cell_type": "code",
      "execution_count": 8,
      "metadata": {
        "id": "byxIBy9RKlFv"
      },
      "outputs": [],
      "source": [
        "def convert_rating_to_relevance(ratings):\n",
        "    result = []    \n",
        "    for item in ratings:\n",
        "        aux = item/5\n",
        "        result.append(aux)\n",
        "    return result"
      ]
    },
    {
      "cell_type": "code",
      "execution_count": 9,
      "metadata": {
        "id": "dAHBou-VKlFv"
      },
      "outputs": [],
      "source": [
        "# print(convert_rating_to_relevance(bla))"
      ]
    },
    {
      "cell_type": "code",
      "execution_count": 9,
      "metadata": {
        "id": "PGGW2W-6KlFw"
      },
      "outputs": [],
      "source": [
        ""
      ]
    },
    {
      "cell_type": "code",
      "execution_count": 10,
      "metadata": {
        "id": "YAJfLdhIKlFw"
      },
      "outputs": [],
      "source": [
        "def set_baseline_lists():\n",
        "    \n",
        "    groups_baseline = []\n",
        "    \n",
        "    \n",
        "    g31_baseline = round_up(convert_rating_to_relevance(g31_b))\n",
        "    g32_baseline = round_up(convert_rating_to_relevance(g32_b))\n",
        "    g33_baseline = round_up(convert_rating_to_relevance(g33_b))\n",
        "    g51_baseline = round_up(convert_rating_to_relevance(g51_b))\n",
        "    g52_baseline = round_up(convert_rating_to_relevance(g52_b))  \n",
        "    g53_baseline = round_up(convert_rating_to_relevance(g53_b))\n",
        "    \n",
        "    groups_baseline.append(g31_baseline)\n",
        "    groups_baseline.append(g32_baseline)\n",
        "    groups_baseline.append(g33_baseline)\n",
        "    groups_baseline.append(g51_baseline)\n",
        "    groups_baseline.append(g52_baseline)\n",
        "    groups_baseline.append(g53_baseline)\n",
        "    \n",
        "    return groups_baseline"
      ]
    },
    {
      "cell_type": "code",
      "execution_count": 11,
      "metadata": {
        "colab": {
          "base_uri": "https://localhost:8080/"
        },
        "id": "2rzqahaRKlFw",
        "outputId": "1ec23a38-ebbf-4fbe-bf77-32c3f7e70813"
      },
      "outputs": [
        {
          "output_type": "stream",
          "name": "stdout",
          "text": [
            "[0.6, 0.2, 0.8, 0.4, 0.7, 0.6, 0.4, 0.3, 0.3, 0.7]\n",
            "[0.7, 0.9, 0.2, 0.7, 0.6, 0.9, 0.7, 0.68, 0.48, 0.34]\n",
            "[0.6, 0.5, 0.7, 0.5, 0.3, 0.2, 0.7, 0.68, 0.5, 0.5]\n",
            "[0.5, 0.5, 0.4, 0.9, 0.5, 0.28, 0.38, 0.22, 0.58, 0.5]\n",
            "[0.74, 0.6, 0.6, 0.54, 0.5, 0.6, 0.66, 0.76, 0.6, 0.7]\n",
            "[0.88, 0.4, 0.6, 0.76, 0.7, 0.73, 0.57, 0.63, 0.7, 0.8]\n"
          ]
        }
      ],
      "source": [
        "groups_baseline = set_baseline_lists()\n",
        "\n",
        "for item in groups_baseline:\n",
        "    print(item)"
      ]
    },
    {
      "cell_type": "code",
      "execution_count": 11,
      "metadata": {
        "id": "Ia97PuPyKlFw"
      },
      "outputs": [],
      "source": [
        ""
      ]
    },
    {
      "cell_type": "code",
      "execution_count": 12,
      "metadata": {
        "id": "RwcClhcUKlFx"
      },
      "outputs": [],
      "source": [
        "def set_ground_truth_lists():\n",
        "    \n",
        "    groups_ground_truth = []\n",
        "    \n",
        "#     g31_ground_truth = round_up([2,5,2,2,1,5,3,2,2.5,3])\n",
        "#     g32_ground_truth = round_up([2,3,3.5,2.5,4,2.5,4.5,1.5,4.5,4.5])\n",
        "#     g33_ground_truth = round_up([4.5, 4, 3.5, 3.5, 4, 2.5, 4, 4, 2.5, 3.5])\n",
        "#     g51_ground_truth = round_up([3.5, 2, 2.5, 2, 4.5, 4, 1, 4, 4, 1.5])\n",
        "#     g52_ground_truth = round_up([2.5, 4, 2.5, 2.7, 3, 4, 2, 2, 3.7, 3])\n",
        "#     g53_ground_truth = round_up([3, 5, 3, 4, 2, 4, 3.5, 3.5, 3, 3])\n",
        "    \n",
        "    g31_ground_truth = round_up([0.4, 1, 0.4, 0.4, 0.2, 1, 0.6, 0.4, 0.5, 0.6])\n",
        "    g32_ground_truth = round_up([0.4, 0.6, 0.7, 0.5, 0.8, 0.5, 0.9, 0.3, 0.9, 0.9])\n",
        "    g33_ground_truth = round_up([0.9, 0.8, 0.7, 0.7, 0.8, 0.5, 0.8, 0.8, 0.5, 0.7])\n",
        "    g51_ground_truth = round_up([0.7, 0.4, 0.5, 0.4, 0.9, 0.8, 0.2, 0.8, 0.8, 0.3])\n",
        "    g52_ground_truth = round_up([0.5, 0.8, 0.5, 0.54, 0.6, 0.8, 0.4, 0.4, 0.74, 0.6])  \n",
        "    g53_ground_truth = round_up([0.6, 1, 0.6, 0.8, 0.4, 0.8, 0.7, 0.7, 0.6, 0.6])\n",
        "    \n",
        "    groups_ground_truth.append(g31_ground_truth)\n",
        "    groups_ground_truth.append(g32_ground_truth)\n",
        "    groups_ground_truth.append(g33_ground_truth)\n",
        "    groups_ground_truth.append(g51_ground_truth)\n",
        "    groups_ground_truth.append(g52_ground_truth)\n",
        "    groups_ground_truth.append(g53_ground_truth)\n",
        "    \n",
        "    return groups_ground_truth"
      ]
    },
    {
      "cell_type": "code",
      "execution_count": 13,
      "metadata": {
        "colab": {
          "base_uri": "https://localhost:8080/"
        },
        "id": "C-g76u4LKlFx",
        "outputId": "51921c91-e392-4fec-8a07-20bf5528f42a"
      },
      "outputs": [
        {
          "output_type": "stream",
          "name": "stdout",
          "text": [
            "[0.4, 1, 0.4, 0.4, 0.2, 1, 0.6, 0.4, 0.5, 0.6]\n",
            "[0.4, 0.6, 0.7, 0.5, 0.8, 0.5, 0.9, 0.3, 0.9, 0.9]\n",
            "[0.9, 0.8, 0.7, 0.7, 0.8, 0.5, 0.8, 0.8, 0.5, 0.7]\n",
            "[0.7, 0.4, 0.5, 0.4, 0.9, 0.8, 0.2, 0.8, 0.8, 0.3]\n",
            "[0.5, 0.8, 0.5, 0.54, 0.6, 0.8, 0.4, 0.4, 0.74, 0.6]\n",
            "[0.6, 1, 0.6, 0.8, 0.4, 0.8, 0.7, 0.7, 0.6, 0.6]\n"
          ]
        }
      ],
      "source": [
        "groups_ground_truth = set_ground_truth_lists()\n",
        "\n",
        "for item in groups_ground_truth:\n",
        "    print(item)"
      ]
    },
    {
      "cell_type": "code",
      "execution_count": 13,
      "metadata": {
        "id": "F_gT7JG1KlFx"
      },
      "outputs": [],
      "source": [
        ""
      ]
    },
    {
      "cell_type": "code",
      "execution_count": 14,
      "metadata": {
        "id": "JWWCGY_IKlFy"
      },
      "outputs": [],
      "source": [
        "def set_scores_lists():\n",
        "    \n",
        "    groups_scores = []\n",
        "    \n",
        "#     g31_scores = round_up([3.995,3.55,3.605,3.51,3.42,3.515,3.815,3.69,3.255,3.39])\n",
        "#     g32_scores = round_up([3.69,3.63,3.26,3.32,3.49,3.05,2.86,2.875,3.41,3.08])\n",
        "#     g33_scores = round_up([3.59,3.46,3.29,3.305,3.245,3.355,3.17,3.465,3.15,3.215])\n",
        "#     g51_scores = round_up([4.02,3.345,3.735,3.235,3.42,3.835,3.125,3.53,3.135,3.29])\n",
        "#     g52_scores = round_up([4.075,3.675,3.41,3.3,3.375,3.36,3.275,3.825,3.245,3.2])\n",
        "#     g53_scores = round_up([4.18,4.15,3.86,3.715,3.73,3.47,4.045,3.36,3.765,3.86])\n",
        "\n",
        "    g31_scores = round_up([0.799,0.71,0.721,0.702,0.684,0.703,0.763,0.738,0.651,0.678])\n",
        "    g32_scores = round_up([0.738,0.726,0.652,0.664,0.698,0.61,0.572,0.575,0.682,0.616])\n",
        "    g33_scores = round_up([0.718,0.692,0.658,0.661,0.649,0.671,0.634,0.693,0.63,0.643])\n",
        "    g51_scores = round_up([0.804,0.669,0.747,0.647,0.684,0.767,0.625,0.706,0.627,0.658])\n",
        "    g52_scores = round_up([0.815,0.735,0.682,0.66,0.675,0.672,0.655,0.765,0.649,0.64])\n",
        "    g53_scores = round_up([0.836,0.83,0.772,0.743,0.746,0.694,0.809,0.672,0.753,0.772])\n",
        "    \n",
        "    \n",
        "    groups_scores.append(g31_scores)\n",
        "    groups_scores.append(g32_scores)\n",
        "    groups_scores.append(g33_scores)\n",
        "    groups_scores.append(g51_scores)\n",
        "    groups_scores.append(g52_scores)\n",
        "    groups_scores.append(g53_scores)\n",
        "    \n",
        "    return groups_scores"
      ]
    },
    {
      "cell_type": "code",
      "execution_count": 15,
      "metadata": {
        "colab": {
          "base_uri": "https://localhost:8080/"
        },
        "id": "bVcZ-45-KlFy",
        "outputId": "f102901a-e356-4f5e-d550-491fbf83f692"
      },
      "outputs": [
        {
          "output_type": "stream",
          "name": "stdout",
          "text": [
            "[0.8, 0.71, 0.72, 0.7, 0.68, 0.7, 0.76, 0.74, 0.65, 0.68]\n",
            "[0.74, 0.73, 0.65, 0.66, 0.7, 0.61, 0.57, 0.57, 0.68, 0.62]\n",
            "[0.72, 0.69, 0.66, 0.66, 0.65, 0.67, 0.63, 0.69, 0.63, 0.64]\n",
            "[0.8, 0.67, 0.75, 0.65, 0.68, 0.77, 0.62, 0.71, 0.63, 0.66]\n",
            "[0.81, 0.73, 0.68, 0.66, 0.68, 0.67, 0.66, 0.77, 0.65, 0.64]\n",
            "[0.84, 0.83, 0.77, 0.74, 0.75, 0.69, 0.81, 0.67, 0.75, 0.77]\n"
          ]
        }
      ],
      "source": [
        "groups_scores = set_scores_lists()\n",
        "\n",
        "for item in groups_scores:\n",
        "    print(item)"
      ]
    },
    {
      "cell_type": "code",
      "execution_count": 15,
      "metadata": {
        "id": "n99vm8JVKlFy"
      },
      "outputs": [],
      "source": [
        ""
      ]
    },
    {
      "cell_type": "code",
      "execution_count": 16,
      "metadata": {
        "id": "XRBIKRDVKlFy"
      },
      "outputs": [],
      "source": [
        "def calculate_ndcg_at(ground_truth, score, at):\n",
        "    \n",
        "    groups_ndcg = []\n",
        "    \n",
        "    for i in range(0,6):\n",
        "#         g_ndcg = round( ndcg_score(np.asarray([ground_truth[i]]), np.asarray([score[i]]),at) , 4 )\n",
        "        g_ndcg = round( ndcg(ground_truth[i], score[i], at) , 4 )\n",
        "        groups_ndcg.append(g_ndcg)\n",
        "        \n",
        "    return groups_ndcg   "
      ]
    },
    {
      "cell_type": "code",
      "execution_count": 16,
      "metadata": {
        "id": "JxqOci2vKlFz"
      },
      "outputs": [],
      "source": [
        ""
      ]
    },
    {
      "cell_type": "code",
      "execution_count": 16,
      "metadata": {
        "id": "6GcAPz-YKlFz"
      },
      "outputs": [],
      "source": [
        ""
      ]
    },
    {
      "cell_type": "code",
      "execution_count": 17,
      "metadata": {
        "colab": {
          "base_uri": "https://localhost:8080/"
        },
        "id": "gh_OBXNgKlFz",
        "outputId": "c3154dc1-f862-4c2e-b15a-49b01a43a51a"
      },
      "outputs": [
        {
          "output_type": "stream",
          "name": "stdout",
          "text": [
            "[0.6, 0.74, 0.86, 0.73, 0.76, 0.78]\n"
          ]
        }
      ],
      "source": [
        "groups_ndcg_at_3 = calculate_ndcg_at(groups_ground_truth, groups_scores, 3)\n",
        "print(groups_ndcg_at_3)"
      ]
    },
    {
      "cell_type": "code",
      "execution_count": 18,
      "metadata": {
        "colab": {
          "base_uri": "https://localhost:8080/"
        },
        "id": "ZrVAbKORKlFz",
        "outputId": "09890382-7d9f-4e3a-b91c-562ff33cf4ec"
      },
      "outputs": [
        {
          "output_type": "stream",
          "name": "stdout",
          "text": [
            "[0.57, 0.76, 0.86, 0.72, 0.78, 0.77]\n"
          ]
        }
      ],
      "source": [
        "groups_ndcg_at_5 = calculate_ndcg_at(groups_ground_truth, groups_scores, 5)\n",
        "print(groups_ndcg_at_5)"
      ]
    },
    {
      "cell_type": "code",
      "execution_count": 19,
      "metadata": {
        "colab": {
          "base_uri": "https://localhost:8080/"
        },
        "id": "uudSyzHZKlFz",
        "outputId": "c5bd0dd4-880b-4c36-886b-44034511f8d1"
      },
      "outputs": [
        {
          "output_type": "stream",
          "name": "stdout",
          "text": [
            "[0.62, 0.73, 0.85, 0.72, 0.77, 0.8]\n"
          ]
        }
      ],
      "source": [
        "groups_ndcg_at_10 = calculate_ndcg_at(groups_ground_truth, groups_scores, 10)\n",
        "print(groups_ndcg_at_10)"
      ]
    },
    {
      "cell_type": "code",
      "execution_count": 19,
      "metadata": {
        "id": "7sxEapzsKlF0"
      },
      "outputs": [],
      "source": [
        ""
      ]
    },
    {
      "cell_type": "code",
      "execution_count": 19,
      "metadata": {
        "id": "OqJz9ZN9KlF0"
      },
      "outputs": [],
      "source": [
        ""
      ]
    },
    {
      "cell_type": "code",
      "execution_count": 19,
      "metadata": {
        "id": "yDPvkTBIKlF0"
      },
      "outputs": [],
      "source": [
        ""
      ]
    },
    {
      "cell_type": "code",
      "execution_count": 19,
      "metadata": {
        "id": "z1q5BnkvKlF0"
      },
      "outputs": [],
      "source": [
        ""
      ]
    },
    {
      "cell_type": "code",
      "execution_count": 19,
      "metadata": {
        "id": "BnYyllaGKlF0"
      },
      "outputs": [],
      "source": [
        ""
      ]
    },
    {
      "cell_type": "code",
      "execution_count": 19,
      "metadata": {
        "id": "VrE1rDV6KlF0"
      },
      "outputs": [],
      "source": [
        ""
      ]
    },
    {
      "cell_type": "code",
      "execution_count": 20,
      "metadata": {
        "colab": {
          "base_uri": "https://localhost:8080/",
          "height": 437
        },
        "id": "1WFFPr-PKlF0",
        "outputId": "332c5c6f-0f7a-43aa-bf56-36307e85b752"
      },
      "outputs": [
        {
          "output_type": "execute_result",
          "data": {
            "text/plain": [
              "Text(0.5, 1.0, 'nDCG at 3 performance over groups')"
            ]
          },
          "metadata": {},
          "execution_count": 20
        },
        {
          "output_type": "display_data",
          "data": {
            "text/plain": [
              "<Figure size 720x432 with 1 Axes>"
            ],
            "image/png": "[encoded data removed]"
          },
          "metadata": {}
        }
      ],
      "source": [
        "plt.rcParams['figure.figsize'] = (10,6)\n",
        "\n",
        "groups = ('G31', 'G32', 'G33', 'G51', 'G52', 'G53')\n",
        "y_pos = np.arange(len(groups))\n",
        "ndcg_at_3 = groups_ndcg_at_3\n",
        "\n",
        "plt.bar(groups, ndcg_at_3, width=0.6, align='center', alpha=0.75, color=['palevioletred', 'cornflowerblue', 'darkkhaki', 'seagreen', 'darkorchid', 'tomato'])\n",
        "plt.xticks(y_pos, groups, fontweight=\"bold\", fontsize=16)\n",
        "plt.yticks(fontweight=\"bold\", fontsize=16)\n",
        "plt.ylabel('nDCG score',fontweight=\"bold\", fontsize=20)\n",
        "plt.xlabel('Groups',fontweight=\"bold\", fontsize=20)\n",
        "plt.title('nDCG at 3 performance over groups',fontweight=\"bold\", fontsize=20)\n",
        "\n",
        "# plt.savefig('ndcg@3.png', transparent=True)"
      ]
    },
    {
      "cell_type": "code",
      "execution_count": 20,
      "metadata": {
        "id": "LguSVvhtKlF1"
      },
      "outputs": [],
      "source": [
        ""
      ]
    },
    {
      "cell_type": "code",
      "execution_count": 21,
      "metadata": {
        "colab": {
          "base_uri": "https://localhost:8080/",
          "height": 437
        },
        "id": "mJ6Y0WpvKlF1",
        "outputId": "1d229509-654e-4ed3-db77-e914880560ae"
      },
      "outputs": [
        {
          "output_type": "execute_result",
          "data": {
            "text/plain": [
              "Text(0.5, 1.0, 'nDCG at 5 performance over groups')"
            ]
          },
          "metadata": {},
          "execution_count": 21
        },
        {
          "output_type": "display_data",
          "data": {
            "text/plain": [
              "<Figure size 720x432 with 1 Axes>"
            ],
            "image/png": "[encoded data removed]"
          },
          "metadata": {}
        }
      ],
      "source": [
        "plt.rcParams['figure.figsize'] = (10,6)\n",
        "\n",
        "groups = ('G31', 'G32', 'G33', 'G51', 'G52', 'G53')\n",
        "y_pos = np.arange(len(groups))\n",
        "ndcg_at_5 = groups_ndcg_at_5\n",
        "\n",
        "plt.bar(groups, ndcg_at_5, width=0.6, align='center', alpha=0.75, color=['palevioletred', 'cornflowerblue', 'darkkhaki', 'seagreen', 'darkorchid', 'tomato'])\n",
        "plt.xticks(y_pos, groups, fontweight=\"bold\", fontsize=16)\n",
        "plt.yticks(fontweight=\"bold\", fontsize=16)\n",
        "plt.ylabel('nDCG score',fontweight=\"bold\", fontsize=20)\n",
        "plt.xlabel('Groups',fontweight=\"bold\", fontsize=20)\n",
        "plt.title('nDCG at 5 performance over groups',fontweight=\"bold\", fontsize=20)\n",
        "\n",
        "# plt.savefig('ndcg@5.png', transparent=True)"
      ]
    },
    {
      "cell_type": "code",
      "execution_count": 21,
      "metadata": {
        "id": "vbJisKcWKlF1"
      },
      "outputs": [],
      "source": [
        ""
      ]
    },
    {
      "cell_type": "code",
      "execution_count": 22,
      "metadata": {
        "colab": {
          "base_uri": "https://localhost:8080/",
          "height": 437
        },
        "id": "ZN4BJ6PEKlF1",
        "outputId": "390573d8-a5f4-4d2e-d52b-09d09621da37"
      },
      "outputs": [
        {
          "output_type": "execute_result",
          "data": {
            "text/plain": [
              "Text(0.5, 1.0, 'nDCG at 10 performance over groups')"
            ]
          },
          "metadata": {},
          "execution_count": 22
        },
        {
          "output_type": "display_data",
          "data": {
            "text/plain": [
              "<Figure size 720x432 with 1 Axes>"
            ],
            "image/png": "[encoded data removed]"
          },
          "metadata": {}
        }
      ],
      "source": [
        "plt.rcParams['figure.figsize'] = (10,6)\n",
        "\n",
        "groups = ('G31', 'G32', 'G33', 'G51', 'G52', 'G53')\n",
        "y_pos = np.arange(len(groups))\n",
        "ndcg_at_10 = groups_ndcg_at_10\n",
        "\n",
        "plt.bar(groups, ndcg_at_10, width=0.6, align='center', alpha=0.75, color=['palevioletred', 'cornflowerblue', 'darkkhaki', 'seagreen', 'darkorchid', 'tomato'])\n",
        "plt.xticks(y_pos, groups, fontweight=\"bold\", fontsize=16)\n",
        "plt.yticks(fontweight=\"bold\", fontsize=16)\n",
        "plt.ylabel('nDCG score',fontweight=\"bold\", fontsize=20)\n",
        "plt.xlabel('Groups',fontweight=\"bold\", fontsize=20)\n",
        "plt.title('nDCG at 10 performance over groups',fontweight=\"bold\", fontsize=20)\n",
        "\n",
        "# plt.savefig('ndcg@10.png', transparent=True)"
      ]
    },
    {
      "cell_type": "code",
      "execution_count": 22,
      "metadata": {
        "id": "ZZ47gYKOKlF2"
      },
      "outputs": [],
      "source": [
        ""
      ]
    },
    {
      "cell_type": "code",
      "execution_count": 23,
      "metadata": {
        "colab": {
          "base_uri": "https://localhost:8080/",
          "height": 397
        },
        "id": "T4AB0gd4KlF2",
        "outputId": "858b35ed-5c28-4c6f-8625-6ec8d33daf3b"
      },
      "outputs": [
        {
          "output_type": "display_data",
          "data": {
            "text/plain": [
              "<Figure size 720x432 with 1 Axes>"
            ],
            "image/png": "[encoded data removed]"
          },
          "metadata": {}
        }
      ],
      "source": [
        "plt.rcParams['figure.figsize'] = (10,6)\n",
        "\n",
        "\n",
        "from collections import OrderedDict\n",
        "\n",
        "linestyles = OrderedDict(\n",
        "    [('solid',               (0, ())),\n",
        "     \n",
        "     ('dotted',              (0, (1, 5))),\n",
        "     ('dashed',              (0, (5, 5))),\n",
        "     ('dashdotted',          (0, (3, 5, 1, 5))),\n",
        "     \n",
        "     ('loosely dotted',      (0, (1, 10))),\n",
        "     ('loosely dashed',        (0, (5, 10))),\n",
        "     ('loosely dashdotted',    (0, (3, 10, 1, 10))),\n",
        "     ('loosely dashdotdotted', (0, (3, 10, 1, 10, 1, 10))),\n",
        "     \n",
        "     ('densely dotted',        (0, (1, 1))),\n",
        "     ('densely dashed',        (0, (5, 1))),\n",
        "     ('densely dashdotted',  (0, (3, 1, 1, 1))),\n",
        "     ('densely dashdotdotted', (0, (3, 1, 1, 1, 1, 1)))])\n",
        "\n",
        "\n",
        "ndcg_at = ['nDCG@3','nDCG@5','nDCG@10']\n",
        "\n",
        "opacity = 0.75\n",
        "\n",
        "g31 = [groups_ndcg_at_3[0], groups_ndcg_at_5[0], groups_ndcg_at_10[0]]\n",
        "g32 = [groups_ndcg_at_3[1], groups_ndcg_at_5[1], groups_ndcg_at_10[1]]\n",
        "g33 = [groups_ndcg_at_3[2], groups_ndcg_at_5[2], groups_ndcg_at_10[2]]\n",
        "g51 = [groups_ndcg_at_3[3], groups_ndcg_at_5[3], groups_ndcg_at_10[3]]\n",
        "g52 = [groups_ndcg_at_3[4], groups_ndcg_at_5[4], groups_ndcg_at_10[4]]\n",
        "g53 = [groups_ndcg_at_3[5], groups_ndcg_at_5[5], groups_ndcg_at_10[5]]\n",
        "\n",
        "p_g31, = plt.plot(ndcg_at, g31, color='palevioletred', linestyle=':', linewidth=5.0, alpha=opacity)\n",
        "p_g32, = plt.plot(ndcg_at, g32, color='cornflowerblue', linestyle='solid', linewidth=5.0, alpha=opacity)\n",
        "p_g33, = plt.plot(ndcg_at, g33, color='darkkhaki', linestyle=linestyles['densely dashdotdotted'], linewidth=5.0, alpha=opacity)\n",
        "p_g51, = plt.plot(ndcg_at, g51, color='seagreen', linestyle=linestyles['densely dotted'], linewidth=5.0, alpha=opacity)\n",
        "p_g52, = plt.plot(ndcg_at, g52, color='darkorchid', linestyle=linestyles['densely dashed'], linewidth=5.0, alpha=opacity)\n",
        "p_g53, = plt.plot(ndcg_at, g53, color='tomato', linestyle=linestyles['densely dashdotted'], linewidth=5.0, alpha=opacity)\n",
        "\n",
        "# plt.xlabel('nDCG at',fontweight=\"bold\", fontsize=24)\n",
        "plt.ylabel('nDCG score',fontweight=\"bold\", fontsize=20)\n",
        "plt.title('nDCG at 3, 5 and 10 for the groups',fontweight=\"bold\", fontsize=20)\n",
        "plt.xticks(ndcg_at, ('nDCG@3','nDCG@5','nDCG@10'), fontweight=\"bold\", fontsize=16)\n",
        "plt.yticks(fontweight=\"bold\", fontsize=16)\n",
        "\n",
        "plt.legend([p_g31, p_g32, p_g33, p_g51, p_g52, p_g53],['G31','G32','G33','G51','G52','G53'], fontsize=16)\n",
        "\n",
        "# plt.savefig('ndcg@3_5_10.png', transparent=True)\n",
        "plt.show()"
      ]
    },
    {
      "cell_type": "code",
      "execution_count": 23,
      "metadata": {
        "id": "3qAvMkJ7KlF2"
      },
      "outputs": [],
      "source": [
        ""
      ]
    },
    {
      "cell_type": "code",
      "execution_count": 23,
      "metadata": {
        "id": "z0FxcpmmKlF2"
      },
      "outputs": [],
      "source": [
        ""
      ]
    },
    {
      "cell_type": "code",
      "execution_count": 23,
      "metadata": {
        "id": "4wnqwZsNKlF5"
      },
      "outputs": [],
      "source": [
        ""
      ]
    },
    {
      "cell_type": "code",
      "execution_count": 23,
      "metadata": {
        "id": "jdXLMzNNKlF5"
      },
      "outputs": [],
      "source": [
        ""
      ]
    },
    {
      "cell_type": "code",
      "execution_count": 23,
      "metadata": {
        "id": "lRDQ1__iKlF5"
      },
      "outputs": [],
      "source": [
        ""
      ]
    },
    {
      "cell_type": "code",
      "execution_count": 23,
      "metadata": {
        "id": "wA9i2tj9KlF5"
      },
      "outputs": [],
      "source": [
        ""
      ]
    },
    {
      "cell_type": "code",
      "execution_count": 24,
      "metadata": {
        "id": "fIUwPfEyKlF5"
      },
      "outputs": [],
      "source": [
        "from sklearn.metrics import precision_score\n",
        "\n",
        "# # # # # # # # # # PRECISION Module # # # # # # # # # #    \n",
        "\n",
        "def binary_mean(movies_mean, cutoff):\n",
        "    binary_mean = []\n",
        "    returned_movies = []\n",
        "    for item in movies_mean:\n",
        "        if item >= cutoff:\n",
        "            binary_mean.append(1)\n",
        "        else:\n",
        "            binary_mean.append(0)\n",
        "\n",
        "        returned_movies.append(1)\n",
        "\n",
        "    return precision_score(binary_mean, returned_movies)\n",
        "\n",
        "\n",
        "def precision_at(movies_list, cutoff, at):\n",
        "\n",
        "#     print(\"movies_list: {},\\t cutoff: {}\\n\".format(movies_list, cutoff))\n",
        "\n",
        "    precision = binary_mean(movies_list[:at], cutoff)\n",
        "    return precision"
      ]
    },
    {
      "cell_type": "code",
      "execution_count": 25,
      "metadata": {
        "id": "BNGjT5jZKlF6"
      },
      "outputs": [],
      "source": [
        "# score_g1 = [0.8, 0.71, 0.72, 0.7, 0.68, 0.7, 0.76, 0.74, 0.65, 0.68]"
      ]
    },
    {
      "cell_type": "code",
      "execution_count": 26,
      "metadata": {
        "colab": {
          "base_uri": "https://localhost:8080/"
        },
        "id": "mTVmd9BpKlF6",
        "outputId": "14e0a730-eb9e-4a9f-de48-c063c6da4ba3"
      },
      "outputs": [
        {
          "output_type": "stream",
          "name": "stdout",
          "text": [
            "Precision @ 10 for the GROUPS: [0.7, 0.3, 0.1, 0.4, 0.3, 0.8]\n",
            "\n",
            "Precision @ 5 for the GROUPS: [0.8, 0.6, 0.2, 0.4, 0.4, 1.0]\n",
            "\n",
            "Precision @ 3 for the GROUPS: [1.0, 0.6666666666666666, 0.3333333333333333, 0.6666666666666666, 0.6666666666666666, 1.0]\n",
            "\n"
          ]
        }
      ],
      "source": [
        "at = 10\n",
        "cufoff = 0.7\n",
        "\n",
        "groups_p_at_10 = []\n",
        "groups_p_at_5 = []\n",
        "groups_p_at_3 = []\n",
        "\n",
        "for idx in range(0,6):\n",
        "    precision = precision_at(groups_scores[idx], cufoff, at)\n",
        "#     print(\"Precision @ {} for GROUP {} : {}\\n\\n\".format(at, idx+1, precision))\n",
        "    groups_p_at_10.append(precision)\n",
        "    \n",
        "print(\"Precision @ 10 for the GROUPS: {}\\n\".format(groups_p_at_10))\n",
        "\n",
        "\n",
        "at = 5\n",
        "\n",
        "for idx in range(0,6):\n",
        "    precision = precision_at(groups_scores[idx], cufoff, at)\n",
        "#     print(\"Precision @ {} for GROUP {} : {}\\n\\n\".format(at, idx+1, precision))\n",
        "    groups_p_at_5.append(precision)\n",
        "    \n",
        "print(\"Precision @ 5 for the GROUPS: {}\\n\".format(groups_p_at_5))\n",
        "\n",
        "\n",
        "at = 3\n",
        "\n",
        "for idx in range(0,6):\n",
        "    precision = precision_at(groups_scores[idx], cufoff, at)\n",
        "#     print(\"Precision @ {} for GROUP {} : {}\\n\\n\".format(at, idx+1, precision))\n",
        "    groups_p_at_3.append(precision)\n",
        "    \n",
        "print(\"Precision @ 3 for the GROUPS: {}\\n\".format(groups_p_at_3))"
      ]
    },
    {
      "cell_type": "code",
      "execution_count": 26,
      "metadata": {
        "id": "cX_7gN32KlF7"
      },
      "outputs": [],
      "source": [
        ""
      ]
    },
    {
      "cell_type": "code",
      "execution_count": 26,
      "metadata": {
        "id": "mYBnjurSKlF7"
      },
      "outputs": [],
      "source": [
        ""
      ]
    },
    {
      "cell_type": "code",
      "execution_count": 27,
      "metadata": {
        "colab": {
          "base_uri": "https://localhost:8080/",
          "height": 747
        },
        "id": "8T_adLd7KlF7",
        "outputId": "4d556267-09e2-41b1-b519-6b8e31cbacf4"
      },
      "outputs": [
        {
          "output_type": "stream",
          "name": "stdout",
          "text": [
            "[1.0, 0.8, 0.7] [0.6666666666666666, 0.6, 0.3] [0.3333333333333333, 0.2, 0.1] [0.6666666666666666, 0.4, 0.4] [0.6666666666666666, 0.4, 0.3] [1.0, 1.0, 0.8]\n"
          ]
        },
        {
          "output_type": "display_data",
          "data": {
            "text/plain": [
              "<Figure size 1080x720 with 1 Axes>"
            ],
            "image/png": "[encoded data removed]"
          },
          "metadata": {}
        }
      ],
      "source": [
        "plt.rcParams['figure.figsize'] = (15,10)\n",
        "\n",
        "# data to plot\n",
        "n = 3\n",
        "precision_g_31 = [groups_p_at_3[0], groups_p_at_5[0], groups_p_at_10[0]]\n",
        "precision_g_32 = [groups_p_at_3[1], groups_p_at_5[1], groups_p_at_10[1]]\n",
        "precision_g_33 = [groups_p_at_3[2], groups_p_at_5[2], groups_p_at_10[2]]\n",
        "precision_g_51 = [groups_p_at_3[3], groups_p_at_5[3], groups_p_at_10[3]]\n",
        "precision_g_52 = [groups_p_at_3[4], groups_p_at_5[4], groups_p_at_10[4]]\n",
        "precision_g_53 = [groups_p_at_3[5], groups_p_at_5[5], groups_p_at_10[5]]\n",
        "\n",
        "# m_baseline = [m_bl_p3, m_bl_p5, m_bl_p10]\n",
        "# m_standard = [m_p3_s, m_p5_s, m_p10_s]\n",
        "# m_greedy = [m_p3_g, m_p5_g, m_p10_g]\n",
        "# m_random = [m_p3_r, m_p5_r, m_p10_r]\n",
        "\n",
        "print(precision_g_31, precision_g_32, precision_g_33, precision_g_51, precision_g_52, precision_g_53)\n",
        "\n",
        "# create plot\n",
        "fig, ax = plt.subplots()\n",
        "index = np.arange(n)\n",
        "bar_width = 0.13\n",
        "opacity = 0.75\n",
        "\n",
        "line1 = plt.bar(index, precision_g_31, bar_width, alpha=opacity, color='palevioletred', label='G31', hatch=\"\\\\\", edgecolor='white')\n",
        "line2 = plt.bar(index + bar_width, precision_g_32, bar_width, alpha=opacity, color='cornflowerblue',  label='G32', hatch=\"-\", edgecolor='white')\n",
        "line3 = plt.bar(index + bar_width + bar_width, precision_g_33, bar_width, alpha=opacity, color='darkkhaki', label='G33', hatch=\"x\", edgecolor='white')\n",
        "line4 = plt.bar(index + bar_width + bar_width + bar_width, precision_g_51, bar_width, alpha=opacity, color='seagreen', label='G51', hatch=\"//\", edgecolor='white')\n",
        "line5 = plt.bar(index + bar_width + bar_width + bar_width + bar_width, precision_g_52, bar_width, alpha=opacity, color='darkorchid', label='G52', hatch=\"+\", edgecolor='white')\n",
        "line6 = plt.bar(index + bar_width + bar_width + bar_width + bar_width + bar_width, precision_g_53, bar_width, alpha=opacity, color='tomato', label='G53', hatch=\".\", edgecolor='white')\n",
        "\n",
        "\n",
        "# plt.xlabel('Precision@', fontweight=\"bold\", fontsize=28)\n",
        "plt.ylabel('Score', fontweight=\"bold\", fontsize=28)\n",
        "plt.title('Precision scores for all 6 groups.', fontweight=\"bold\", fontsize=28)\n",
        "plt.xticks(index + bar_width + bar_width, ('p@3', 'p@5', 'p@10'), fontweight=\"bold\", fontsize=28)\n",
        "plt.yticks(fontweight=\"bold\", fontsize=20)\n",
        "\n",
        "plt.legend(fontsize=20, ncol=6)\n",
        "\n",
        "axes = plt.gca()\n",
        "# axes.set_xlim([xmin,xmax])\n",
        "axes.set_ylim([0.001,1.1])\n",
        "\n",
        "# plt.savefig('pecrision_scores_prop_apprch_all_groups.png', transparent=True)\n",
        "plt.tight_layout()\n",
        "plt.show()"
      ]
    },
    {
      "cell_type": "code",
      "execution_count": 27,
      "metadata": {
        "id": "AHZ3a2ElKlF7"
      },
      "outputs": [],
      "source": [
        ""
      ]
    },
    {
      "cell_type": "code",
      "execution_count": 27,
      "metadata": {
        "id": "cdly2jd2KlF8"
      },
      "outputs": [],
      "source": [
        ""
      ]
    },
    {
      "cell_type": "code",
      "execution_count": 27,
      "metadata": {
        "id": "FsSHbWNQKlF8"
      },
      "outputs": [],
      "source": [
        ""
      ]
    },
    {
      "cell_type": "code",
      "execution_count": 38,
      "metadata": {
        "colab": {
          "base_uri": "https://localhost:8080/"
        },
        "id": "dXU9NMn6KlF8",
        "outputId": "bd24488f-3703-41cb-86d3-89ecdaa84150"
      },
      "outputs": [
        {
          "output_type": "stream",
          "name": "stdout",
          "text": [
            "Precision @ 10 for the GROUPS: [0.7, 0.3, 0.1, 0.4, 0.3, 0.8]\n",
            "\n",
            "Precision @ 5 for the GROUPS: [0.8, 0.6, 0.2, 0.4, 0.4, 1.0]\n",
            "\n",
            "Precision @ 3 for the GROUPS: [1.0, 0.6666666666666666, 0.3333333333333333, 0.6666666666666666, 0.6666666666666666, 1.0]\n",
            "\n"
          ]
        }
      ],
      "source": [
        "## Calculate preciosion levels for ground truth\n",
        "\n",
        "at = 10\n",
        "cufoff = 0.7\n",
        "\n",
        "groups_score_p_at_10 = []\n",
        "groups_score_p_at_5 = []\n",
        "groups_score_p_at_3 = []\n",
        "\n",
        "for idx in range(0,6):\n",
        "    precision = precision_at(groups_scores[idx], cufoff, at)\n",
        "#     print(\"Precision @ {} for GROUP {} : {}\\n\\n\".format(at, idx+1, precision))\n",
        "    groups_score_p_at_10.append(precision)\n",
        "    \n",
        "print(\"Precision @ 10 for the GROUPS: {}\\n\".format(groups_score_p_at_10))\n",
        "\n",
        "\n",
        "at = 5\n",
        "\n",
        "for idx in range(0,6):\n",
        "    precision = precision_at(groups_scores[idx], cufoff, at)\n",
        "#     print(\"Precision @ {} for GROUP {} : {}\\n\\n\".format(at, idx+1, precision))\n",
        "    groups_score_p_at_5.append(precision)\n",
        "    \n",
        "print(\"Precision @ 5 for the GROUPS: {}\\n\".format(groups_score_p_at_5))\n",
        "\n",
        "\n",
        "at = 3\n",
        "\n",
        "for idx in range(0,6):\n",
        "    precision = precision_at(groups_scores[idx], cufoff, at)\n",
        "#     print(\"Precision @ {} for GROUP {} : {}\\n\\n\".format(at, idx+1, precision))\n",
        "    groups_score_p_at_3.append(precision)\n",
        "    \n",
        "print(\"Precision @ 3 for the GROUPS: {}\\n\".format(groups_score_p_at_3))"
      ]
    },
    {
      "cell_type": "code",
      "execution_count": 38,
      "metadata": {
        "id": "otyqeeD_KlF8"
      },
      "outputs": [],
      "source": [
        ""
      ]
    },
    {
      "cell_type": "code",
      "execution_count": 39,
      "metadata": {
        "colab": {
          "base_uri": "https://localhost:8080/"
        },
        "id": "t5WWtoH-KlF8",
        "outputId": "8f935f35-b909-4d9b-e166-547736ecb1df"
      },
      "outputs": [
        {
          "output_type": "stream",
          "name": "stdout",
          "text": [
            "Precision @ 10 for the GROUPS: [0.3, 0.5, 0.2, 0.1, 0.3, 0.6]\n",
            "\n",
            "Precision @ 5 for the GROUPS: [0.4, 0.6, 0.2, 0.2, 0.2, 0.6]\n",
            "\n",
            "Precision @ 3 for the GROUPS: [0.3333333333333333, 0.6666666666666666, 0.3333333333333333, 0.0, 0.3333333333333333, 0.3333333333333333]\n",
            "\n"
          ]
        }
      ],
      "source": [
        "## Calculate preciosion levels for baseline\n",
        "\n",
        "at = 10\n",
        "cufoff = 0.7\n",
        "\n",
        "groups_baseline_p_at_10 = []\n",
        "groups_baseline_p_at_5 = []\n",
        "groups_baseline_p_at_3 = []\n",
        "\n",
        "for idx in range(0,6):\n",
        "    precision = precision_at(groups_baseline[idx], cufoff, at)\n",
        "#     print(\"Precision @ {} for GROUP {} : {}\\n\\n\".format(at, idx+1, precision))\n",
        "    groups_baseline_p_at_10.append(precision)\n",
        "    \n",
        "print(\"Precision @ 10 for the GROUPS: {}\\n\".format(groups_baseline_p_at_10))\n",
        "\n",
        "\n",
        "at = 5\n",
        "\n",
        "for idx in range(0,6):\n",
        "    precision = precision_at(groups_baseline[idx], cufoff, at)\n",
        "#     print(\"Precision @ {} for GROUP {} : {}\\n\\n\".format(at, idx+1, precision))\n",
        "    groups_baseline_p_at_5.append(precision)\n",
        "    \n",
        "print(\"Precision @ 5 for the GROUPS: {}\\n\".format(groups_baseline_p_at_5))\n",
        "\n",
        "\n",
        "at = 3\n",
        "\n",
        "for idx in range(0,6):\n",
        "    precision = precision_at(groups_baseline[idx], cufoff, at)\n",
        "#     print(\"Precision @ {} for GROUP {} : {}\\n\\n\".format(at, idx+1, precision))\n",
        "    groups_baseline_p_at_3.append(precision)\n",
        "    \n",
        "print(\"Precision @ 3 for the GROUPS: {}\\n\".format(groups_baseline_p_at_3))"
      ]
    },
    {
      "cell_type": "code",
      "execution_count": 39,
      "metadata": {
        "id": "h0KhstLhKlF9"
      },
      "outputs": [],
      "source": [
        ""
      ]
    },
    {
      "cell_type": "code",
      "execution_count": 39,
      "metadata": {
        "id": "D4Fljjr9KlF9"
      },
      "outputs": [],
      "source": [
        ""
      ]
    },
    {
      "cell_type": "code",
      "execution_count": 40,
      "metadata": {
        "id": "mIMPUKfcKlF9"
      },
      "outputs": [],
      "source": [
        "def average(lst):\n",
        "    return sum(lst) / len(lst)"
      ]
    },
    {
      "cell_type": "code",
      "execution_count": 41,
      "metadata": {
        "colab": {
          "base_uri": "https://localhost:8080/"
        },
        "id": "MqIrTxg5KlF9",
        "outputId": "bdda333d-6a25-4cb0-a80b-34bfffbfd54e"
      },
      "outputs": [
        {
          "output_type": "stream",
          "name": "stdout",
          "text": [
            "Precision @ 3 AVERAGE for the SCORE: 0.7222222222222222\n",
            "\n",
            "Precision @ 5 AVERAGE for the SCORE: 0.5666666666666667\n",
            "\n",
            "Precision @ 10 AVERAGE for the SCORE: 0.43333333333333335\n",
            "\n"
          ]
        }
      ],
      "source": [
        "avg_score_p_3 = average(groups_score_p_at_3)\n",
        "avg_score_p_5 = average(groups_score_p_at_5)\n",
        "avg_score_p_10 = average(groups_score_p_at_10)\n",
        "\n",
        "print(\"Precision @ 3 AVERAGE for the SCORE: {}\\n\".format(avg_score_p_3))\n",
        "print(\"Precision @ 5 AVERAGE for the SCORE: {}\\n\".format(avg_score_p_5))\n",
        "print(\"Precision @ 10 AVERAGE for the SCORE: {}\\n\".format(avg_score_p_10))"
      ]
    },
    {
      "cell_type": "code",
      "execution_count": 42,
      "metadata": {
        "colab": {
          "base_uri": "https://localhost:8080/"
        },
        "id": "f5NZeV0fKlF9",
        "outputId": "5b8f3fbd-3343-405c-8d16-a8dcefbc9af0"
      },
      "outputs": [
        {
          "output_type": "stream",
          "name": "stdout",
          "text": [
            "Precision @ 3 AVERAGE for the BASELINE: 0.3333333333333333\n",
            "\n",
            "Precision @ 5 AVERAGE for the BASELINE: 0.36666666666666664\n",
            "\n",
            "Precision @ 10 AVERAGE for the BASELINE: 0.3333333333333333\n",
            "\n"
          ]
        }
      ],
      "source": [
        "avg_baseline_p_3 = average(groups_baseline_p_at_3)\n",
        "avg_baseline_p_5 = average(groups_baseline_p_at_5)\n",
        "avg_baseline_p_10 = average(groups_baseline_p_at_10)\n",
        "\n",
        "print(\"Precision @ 3 AVERAGE for the BASELINE: {}\\n\".format(avg_baseline_p_3))\n",
        "print(\"Precision @ 5 AVERAGE for the BASELINE: {}\\n\".format(avg_baseline_p_5))\n",
        "print(\"Precision @ 10 AVERAGE for the BASELINE: {}\\n\".format(avg_baseline_p_10))"
      ]
    },
    {
      "cell_type": "code",
      "execution_count": 42,
      "metadata": {
        "id": "wiZ7miZkKlF9"
      },
      "outputs": [],
      "source": [
        ""
      ]
    },
    {
      "cell_type": "code",
      "execution_count": 42,
      "metadata": {
        "id": "DhwGwxwGKlF-"
      },
      "outputs": [],
      "source": [
        ""
      ]
    },
    {
      "cell_type": "code",
      "execution_count": 46,
      "metadata": {
        "colab": {
          "base_uri": "https://localhost:8080/",
          "height": 747
        },
        "id": "R9qPlbeTKlF-",
        "outputId": "d839183a-6d42-480f-b983-5a062598ac2c"
      },
      "outputs": [
        {
          "output_type": "stream",
          "name": "stdout",
          "text": [
            "[0.7222222222222222, 0.5666666666666667, 0.43333333333333335] [0.3333333333333333, 0.36666666666666664, 0.3333333333333333]\n"
          ]
        },
        {
          "output_type": "display_data",
          "data": {
            "text/plain": [
              "<Figure size 1080x720 with 1 Axes>"
            ],
            "image/png": "[encoded data removed]"
          },
          "metadata": {}
        }
      ],
      "source": [
        "plt.rcParams['figure.figsize'] = (15,10)\n",
        "\n",
        "# data to plot\n",
        "n = 3\n",
        "\n",
        "# precision_avg_at_3 = [avg_truth_p_3, avg_baseline_p_3]\n",
        "# precision_avg_at_5 = [avg_truth_p_5, avg_baseline_p_5]\n",
        "# precision_avg_at_10 = [avg_truth_p_10, avg_baseline_p_10]\n",
        "\n",
        "score_avg = [avg_score_p_3, avg_score_p_5, avg_score_p_10]\n",
        "baseline_avg = [avg_baseline_p_3, avg_baseline_p_5, avg_baseline_p_10]\n",
        "\n",
        "\n",
        "# m_baseline = [m_bl_p3, m_bl_p5, m_bl_p10]\n",
        "# m_standard = [m_p3_s, m_p5_s, m_p10_s]\n",
        "# m_greedy = [m_p3_g, m_p5_g, m_p10_g]\n",
        "# m_random = [m_p3_r, m_p5_r, m_p10_r]\n",
        "\n",
        "print(score_avg, baseline_avg)\n",
        "\n",
        "# create plot\n",
        "fig, ax = plt.subplots()\n",
        "index = np.arange(n)\n",
        "bar_width = 0.2\n",
        "opacity = 0.75\n",
        "\n",
        "line1 = plt.bar(index, score_avg, bar_width, alpha=opacity, color='darkseagreen', label='Proposal', hatch=\"\\\\\", edgecolor='white')\n",
        "line2 = plt.bar(index + bar_width, baseline_avg, bar_width, alpha=opacity, color='palevioletred',  label='Baseline', hatch=\"-\", edgecolor='white')\n",
        "# line3 = plt.bar(index + bar_width + bar_width, precision_avg_at_10, bar_width, alpha=opacity, color='cornflowerblue', label='G33', hatch=\"x\", edgecolor='white')\n",
        "# line4 = plt.bar(index + bar_width + bar_width + bar_width, precision_g_51, bar_width, alpha=opacity, color='darkkhaki', label='G51', hatch=\"//\", edgecolor='white')\n",
        "# line5 = plt.bar(index + bar_width + bar_width + bar_width + bar_width, precision_g_52, bar_width, alpha=opacity, color='mediumpurple', label='G52', hatch=\"+\", edgecolor='white')\n",
        "# line6 = plt.bar(index + bar_width + bar_width + bar_width + bar_width + bar_width, precision_g_53, bar_width, alpha=opacity, color='skyblue', label='G53', hatch=\".\", edgecolor='white')\n",
        "\n",
        "\n",
        "# plt.xlabel('Precision@', fontweight=\"bold\", fontsize=28)\n",
        "plt.ylabel('Score', fontweight=\"bold\", fontsize=28)\n",
        "plt.title('Precisoin mean between approaches.', fontweight=\"bold\", fontsize=28)\n",
        "# plt.title('Média da Precisão entre os métodos.', fontweight=\"bold\", fontsize=28)\n",
        "plt.xticks(index + 0.1, ('p@3', 'p@5', 'p@10'), fontweight=\"bold\", fontsize=28)\n",
        "plt.yticks(fontweight=\"bold\", fontsize=20)\n",
        "\n",
        "plt.legend(fontsize=20, ncol=6)\n",
        "\n",
        "axes = plt.gca()\n",
        "# axes.set_xlim([xmin,xmax])\n",
        "axes.set_ylim([0.001,.8])\n",
        "\n",
        "plt.savefig('precision_average_between_approaches.png', transparent=True)\n",
        "plt.tight_layout()\n",
        "plt.show()"
      ]
    },
    {
      "cell_type": "code",
      "execution_count": 33,
      "metadata": {
        "id": "yIa9DGiIKlF-"
      },
      "outputs": [],
      "source": [
        ""
      ]
    }
  ],
  "metadata": {
    "kernelspec": {
      "display_name": "Python 3",
      "language": "python",
      "name": "python3"
    },
    "language_info": {
      "codemirror_mode": {
        "name": "ipython",
        "version": 3
      },
      "file_extension": ".py",
      "mimetype": "text/x-python",
      "name": "python",
      "nbconvert_exporter": "python",
      "pygments_lexer": "ipython3",
      "version": "3.7.3"
    },
    "colab": {
      "name": "Online Experiment Results.ipynb",
      "provenance": [],
      "collapsed_sections": []
    }
  },
  "nbformat": 4,
  "nbformat_minor": 0
}