{
 "cells": [
  {
   "cell_type": "code",
   "execution_count": 2,
   "metadata": {},
   "outputs": [],
   "source": [
    "from collections import defaultdict\n",
    "import pandas as pd\n",
    "from surprise import Reader, Dataset\n",
    "from surprise import KNNWithMeans\n",
    "from surprise import accuracy\n",
    "from surprise.model_selection import train_test_split, cross_validate"
   ]
  },
  {
   "cell_type": "code",
   "execution_count": 24,
   "metadata": {},
   "outputs": [
    {
     "ename": "SyntaxError",
     "evalue": "unexpected EOF while parsing (<ipython-input-24-dab26c17abd2>, line 1)",
     "output_type": "error",
     "traceback": [
      "\u001b[0;36m  File \u001b[0;32m\"<ipython-input-24-dab26c17abd2>\"\u001b[0;36m, line \u001b[0;32m1\u001b[0m\n\u001b[0;31m    class MyAlgo():\u001b[0m\n\u001b[0m                   ^\u001b[0m\n\u001b[0;31mSyntaxError\u001b[0m\u001b[0;31m:\u001b[0m unexpected EOF while parsing\n"
     ]
    }
   ],
   "source": []
  },
  {
   "cell_type": "code",
   "execution_count": 4,
   "metadata": {},
   "outputs": [],
   "source": [
    "def init(self):\n",
    "    # Define the format\n",
    "    reader = Reader(line_format='user item rating timestamp', sep=',')\n",
    "    # Load the data from the file using the reader format\n",
    "    # data = Dataset.load_from_file('ml-latest-small/ratings.csv', reader=reader)\n",
    "\n",
    "    df = pd.read_csv('ml-latest-small/ratings.csv', low_memory=False)\n",
    "    data = Dataset.load_from_file('ml-latest-small/ratings.csv', reader)\n",
    "\n",
    "    trainset, testset = train_test_split(data, test_size=0.25)\n",
    "    # trainset = data.build_full_trainset()\n",
    "\n",
    "    sim_options = {'name': 'cosine',\n",
    "                   'user_based': False  # compute  similarities between items\n",
    "                   }\n",
    "    # algo = KNNWithMeans(k=5, sim_options=sim_options)\n",
    "    # algo.fit(trainset)\n",
    "    \n"
   ]
  },
  {
   "cell_type": "markdown",
   "metadata": {},
   "source": [
    "Para encontrar o valor de K você vai precisar variar o K e rodar o cross_validate"
   ]
  },
  {
   "cell_type": "code",
   "execution_count": 20,
   "metadata": {},
   "outputs": [
    {
     "name": "stdout",
     "output_type": "stream",
     "text": [
      "K = 2\n",
      "Computing the cosine similarity matrix...\n",
      "Done computing similarity matrix.\n",
      "Computing the cosine similarity matrix...\n",
      "Done computing similarity matrix.\n",
      "Computing the cosine similarity matrix...\n",
      "Done computing similarity matrix.\n",
      "Evaluating RMSE, MAE of algorithm KNNWithMeans on 3 split(s).\n",
      "\n",
      "                  Fold 1  Fold 2  Fold 3  Mean    Std     \n",
      "RMSE (testset)    1.0512  1.0484  1.0538  1.0511  0.0022  \n",
      "MAE (testset)     0.8092  0.8036  0.8071  0.8066  0.0023  \n",
      "Fit time          9.55    9.64    9.67    9.62    0.05    \n",
      "Test time         5.31    5.71    6.03    5.68    0.29    \n",
      "\n",
      "\n",
      "\n",
      "K = 3\n",
      "Computing the cosine similarity matrix...\n",
      "Done computing similarity matrix.\n",
      "Computing the cosine similarity matrix...\n",
      "Done computing similarity matrix.\n",
      "Computing the cosine similarity matrix...\n",
      "Done computing similarity matrix.\n",
      "Evaluating RMSE, MAE of algorithm KNNWithMeans on 3 split(s).\n",
      "\n",
      "                  Fold 1  Fold 2  Fold 3  Mean    Std     \n",
      "RMSE (testset)    0.9994  1.0061  0.9984  1.0013  0.0034  \n",
      "MAE (testset)     0.7656  0.7720  0.7645  0.7674  0.0033  \n",
      "Fit time          10.01   9.28    9.40    9.56    0.32    \n",
      "Test time         5.36    5.42    5.39    5.39    0.02    \n",
      "\n",
      "\n",
      "\n",
      "K = 5\n",
      "Computing the cosine similarity matrix...\n",
      "Done computing similarity matrix.\n",
      "Computing the cosine similarity matrix...\n",
      "Done computing similarity matrix.\n",
      "Computing the cosine similarity matrix...\n",
      "Done computing similarity matrix.\n",
      "Evaluating RMSE, MAE of algorithm KNNWithMeans on 3 split(s).\n",
      "\n",
      "                  Fold 1  Fold 2  Fold 3  Mean    Std     \n",
      "RMSE (testset)    0.9704  0.9702  0.9685  0.9697  0.0009  \n",
      "MAE (testset)     0.7440  0.7416  0.7414  0.7423  0.0012  \n",
      "Fit time          9.35    9.66    9.52    9.51    0.13    \n",
      "Test time         5.45    5.61    5.60    5.55    0.07    \n",
      "\n",
      "\n",
      "\n",
      "K = 10\n",
      "Computing the cosine similarity matrix...\n",
      "Done computing similarity matrix.\n",
      "Computing the cosine similarity matrix...\n",
      "Done computing similarity matrix.\n",
      "Computing the cosine similarity matrix...\n",
      "Done computing similarity matrix.\n",
      "Evaluating RMSE, MAE of algorithm KNNWithMeans on 3 split(s).\n",
      "\n",
      "                  Fold 1  Fold 2  Fold 3  Mean    Std     \n",
      "RMSE (testset)    0.9462  0.9348  0.9334  0.9381  0.0058  \n",
      "MAE (testset)     0.7243  0.7157  0.7146  0.7182  0.0043  \n",
      "Fit time          9.51    9.54    9.41    9.49    0.06    \n",
      "Test time         5.75    5.88    5.84    5.82    0.05    \n",
      "\n",
      "\n",
      "\n",
      "K = 20\n",
      "Computing the cosine similarity matrix...\n",
      "Done computing similarity matrix.\n",
      "Computing the cosine similarity matrix...\n",
      "Done computing similarity matrix.\n",
      "Computing the cosine similarity matrix...\n",
      "Done computing similarity matrix.\n",
      "Evaluating RMSE, MAE of algorithm KNNWithMeans on 3 split(s).\n",
      "\n",
      "                  Fold 1  Fold 2  Fold 3  Mean    Std     \n",
      "RMSE (testset)    0.9255  0.9173  0.9161  0.9197  0.0042  \n",
      "MAE (testset)     0.7091  0.7027  0.7004  0.7041  0.0037  \n",
      "Fit time          9.45    9.77    9.47    9.56    0.15    \n",
      "Test time         6.56    6.33    6.42    6.44    0.09    \n",
      "\n",
      "\n",
      "\n",
      "K = 30\n",
      "Computing the cosine similarity matrix...\n",
      "Done computing similarity matrix.\n",
      "Computing the cosine similarity matrix...\n",
      "Done computing similarity matrix.\n",
      "Computing the cosine similarity matrix...\n",
      "Done computing similarity matrix.\n",
      "Evaluating RMSE, MAE of algorithm KNNWithMeans on 3 split(s).\n",
      "\n",
      "                  Fold 1  Fold 2  Fold 3  Mean    Std     \n",
      "RMSE (testset)    0.9106  0.9161  0.9162  0.9143  0.0026  \n",
      "MAE (testset)     0.6982  0.7024  0.6988  0.6998  0.0018  \n",
      "Fit time          9.50    9.49    9.34    9.44    0.07    \n",
      "Test time         6.97    6.96    6.80    6.91    0.08    \n",
      "\n",
      "\n",
      "\n",
      "K = 40\n",
      "Computing the cosine similarity matrix...\n",
      "Done computing similarity matrix.\n",
      "Computing the cosine similarity matrix...\n",
      "Done computing similarity matrix.\n",
      "Computing the cosine similarity matrix...\n",
      "Done computing similarity matrix.\n",
      "Evaluating RMSE, MAE of algorithm KNNWithMeans on 3 split(s).\n",
      "\n",
      "                  Fold 1  Fold 2  Fold 3  Mean    Std     \n",
      "RMSE (testset)    0.9102  0.9059  0.9117  0.9093  0.0024  \n",
      "MAE (testset)     0.6962  0.6938  0.6956  0.6952  0.0010  \n",
      "Fit time          9.38    9.57    9.64    9.53    0.11    \n",
      "Test time         7.64    7.65    7.59    7.63    0.02    \n",
      "\n",
      "\n",
      "\n"
     ]
    }
   ],
   "source": [
    "# sim_options = {'name': 'cosine',\n",
    "#                'user_based': False  # compute  similarities between items\n",
    "               }\n",
    "for k_value in [2, 3, 5, 10, 20, 30, 40]:\n",
    "    print('K = {}'.format(k_value))\n",
    "    algo = KNNWithMeans(k=k_value, sim_options=sim_options)\n",
    "    cross_validate(algo, data, measures=['RMSE', 'MAE'], cv=3, verbose=True)\n",
    "    print('\\n\\n')"
   ]
  },
  {
   "cell_type": "code",
   "execution_count": 6,
   "metadata": {},
   "outputs": [
    {
     "name": "stdout",
     "output_type": "stream",
     "text": [
      "Computing the cosine similarity matrix...\n",
      "Done computing similarity matrix.\n"
     ]
    },
    {
     "data": {
      "text/plain": [
       "<surprise.prediction_algorithms.knns.KNNWithMeans at 0x7fed7c2bb5c0>"
      ]
     },
     "execution_count": 6,
     "metadata": {},
     "output_type": "execute_result"
    }
   ],
   "source": [
    "algo = KNNWithMeans(k=3, sim_options=sim_options)\n",
    "algo.fit(trainset)"
   ]
  },
  {
   "cell_type": "code",
   "execution_count": 23,
   "metadata": {},
   "outputs": [
    {
     "data": {
      "text/plain": [
       "(3.0268527047373657, {'actual_k': 3})"
      ]
     },
     "execution_count": 23,
     "metadata": {},
     "output_type": "execute_result"
    }
   ],
   "source": [
    "# for u, i in testset:\n",
    "#     algo.estimate(2, 1000) (+/-*) score de similaridade\n",
    "\n",
    "# estimate all -> take 10\n",
    "algo.estimate(420, 480)"
   ]
  },
  {
   "cell_type": "code",
   "execution_count": 33,
   "metadata": {},
   "outputs": [
    {
     "data": {
      "text/plain": [
       "Prediction(uid=4, iid=348, r_ui=4, est=3.5018049109445037, details={'was_impossible': True, 'reason': 'User and/or item is unkown.'})"
      ]
     },
     "execution_count": 33,
     "metadata": {},
     "output_type": "execute_result"
    }
   ],
   "source": [
    "algo.predict(4, 348, 4)"
   ]
  },
  {
   "cell_type": "code",
   "execution_count": null,
   "metadata": {},
   "outputs": [],
   "source": []
  }
 ],
 "metadata": {
  "kernelspec": {
   "display_name": "Python 3",
   "language": "python",
   "name": "python3"
  },
  "language_info": {
   "codemirror_mode": {
    "name": "ipython",
    "version": 3
   },
   "file_extension": ".py",
   "mimetype": "text/x-python",
   "name": "python",
   "nbconvert_exporter": "python",
   "pygments_lexer": "ipython3",
   "version": "3.6.7"
  }
 },
 "nbformat": 4,
 "nbformat_minor": 2
}
