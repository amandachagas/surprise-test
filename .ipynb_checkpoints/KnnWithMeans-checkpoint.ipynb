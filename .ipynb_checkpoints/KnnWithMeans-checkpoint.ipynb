{
 "cells": [
  {
   "cell_type": "code",
   "execution_count": 1,
   "metadata": {},
   "outputs": [],
   "source": [
    "from collections import defaultdict\n",
    "import pandas as pd\n",
    "from surprise import Reader, Dataset\n",
    "from surprise import KNNWithMeans\n",
    "from surprise import accuracy\n",
    "from surprise.model_selection import train_test_split, cross_validate"
   ]
  },
  {
   "cell_type": "code",
   "execution_count": 6,
   "metadata": {},
   "outputs": [],
   "source": [
    "class MyAlgo():\n",
    "    def __init__(self, rating_data=''):\n",
    "        if rating_data:\n",
    "            reader = Reader(line_format='user item rating timestamp', sep=',')\n",
    "            self.ratings = Dataset.load_from_file(rating_data, reader)\n",
    "            self.trainset, self.testset = train_test_split(self.ratings, test_size=0.25)\n",
    "            self.sim_options = {'name': 'cosine','user_based': False}\n",
    "            \n",
    "    def setK(self, k_value):\n",
    "        algo = KNNWithMeans(k=k_value, sim_options=self.sim_options)\n",
    "        self.algo = algo\n",
    "        self.algo.fit(trainset)\n",
    "    \n",
    "# # Define the format\n",
    "# reader = Reader(line_format='user item rating timestamp', sep=',')\n",
    "# # Load the data from the file using the reader format\n",
    "# # data = Dataset.load_from_file('ml-latest-small/ratings.csv', reader=reader)\n",
    "\n",
    "# df = pd.read_csv('ml-latest-small/ratings.csv', low_memory=False)\n",
    "# data = Dataset.load_from_file('ml-latest-small/ratings.csv', reader)\n",
    "\n",
    "# trainset, testset = train_test_split(data, test_size=0.25)\n",
    "# # trainset = data.build_full_trainset()\n",
    "\n",
    "# sim_options = {'name': 'cosine',\n",
    "#                'user_based': False  # compute  similarities between items\n",
    "#                }\n",
    "# # algo = KNNWithMeans(k=5, sim_options=sim_options)\n",
    "# # algo.fit(trainset)"
   ]
  },
  {
   "cell_type": "markdown",
   "metadata": {},
   "source": [
    "Para encontrar o valor de K você vai precisar variar o K e rodar o cross_validate"
   ]
  },
  {
   "cell_type": "code",
   "execution_count": 26,
   "metadata": {},
   "outputs": [],
   "source": [
    "    def findBestK(self):\n",
    "        for k_value in [2, 3, 5, 10, 20, 30, 40]:\n",
    "            print('K = {}'.format(k_value))\n",
    "            algo = KNNWithMeans(k=k_value, sim_options=self.sim_options)\n",
    "            cross_validate(algo, self.ratings, measures=['RMSE', 'MAE'], cv=3, verbose=True)\n",
    "            print('\\n\\n')"
   ]
  },
  {
   "cell_type": "code",
   "execution_count": 33,
   "metadata": {},
   "outputs": [],
   "source": [
    "    def setK(self, k_value):\n",
    "        algo = KNNWithMeans(k=k_value, sim_options=self.sim_options)\n",
    "        self.algo = algo\n",
    "        self.algo.fit(trainset)"
   ]
  },
  {
   "cell_type": "code",
   "execution_count": 7,
   "metadata": {},
   "outputs": [
    {
     "data": {
      "text/plain": [
       "{'name': 'cosine', 'user_based': False}"
      ]
     },
     "execution_count": 7,
     "metadata": {},
     "output_type": "execute_result"
    }
   ],
   "source": [
    "bla = MyAlgo('ml-latest-small/ratings.csv')\n",
    "bla.sim_options"
   ]
  },
  {
   "cell_type": "code",
   "execution_count": 37,
   "metadata": {},
   "outputs": [
    {
     "name": "stdout",
     "output_type": "stream",
     "text": [
      "Computing the cosine similarity matrix...\n",
      "Done computing similarity matrix.\n"
     ]
    }
   ],
   "source": [
    "bla.setK(3)"
   ]
  },
  {
   "cell_type": "code",
   "execution_count": 23,
   "metadata": {},
   "outputs": [
    {
     "data": {
      "text/plain": [
       "(3.0268527047373657, {'actual_k': 3})"
      ]
     },
     "execution_count": 23,
     "metadata": {},
     "output_type": "execute_result"
    }
   ],
   "source": [
    "# for u, i in testset:\n",
    "#     algo.estimate(2, 1000) (+/-*) score de similaridade\n",
    "\n",
    "# estimate all -> take 10\n",
    "algo.estimate(420, 480)"
   ]
  },
  {
   "cell_type": "code",
   "execution_count": 33,
   "metadata": {},
   "outputs": [
    {
     "data": {
      "text/plain": [
       "Prediction(uid=4, iid=348, r_ui=4, est=3.5018049109445037, details={'was_impossible': True, 'reason': 'User and/or item is unkown.'})"
      ]
     },
     "execution_count": 33,
     "metadata": {},
     "output_type": "execute_result"
    }
   ],
   "source": [
    "algo.predict(4, 348, 4)"
   ]
  },
  {
   "cell_type": "code",
   "execution_count": null,
   "metadata": {},
   "outputs": [],
   "source": []
  }
 ],
 "metadata": {
  "kernelspec": {
   "display_name": "Python 3",
   "language": "python",
   "name": "python3"
  },
  "language_info": {
   "codemirror_mode": {
    "name": "ipython",
    "version": 3
   },
   "file_extension": ".py",
   "mimetype": "text/x-python",
   "name": "python",
   "nbconvert_exporter": "python",
   "pygments_lexer": "ipython3",
   "version": "3.6.7"
  }
 },
 "nbformat": 4,
 "nbformat_minor": 2
}
