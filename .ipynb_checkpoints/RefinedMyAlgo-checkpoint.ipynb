{
 "cells": [
  {
   "cell_type": "code",
   "execution_count": 13,
   "metadata": {},
   "outputs": [],
   "source": [
    "from collections import defaultdict\n",
    "import pandas as pd\n",
    "from surprise import Reader, Dataset\n",
    "from surprise import KNNWithMeans\n",
    "from surprise import accuracy\n",
    "from surprise.model_selection import train_test_split, cross_validate"
   ]
  },
  {
   "cell_type": "code",
   "execution_count": 14,
   "metadata": {},
   "outputs": [],
   "source": [
    "class RefinedMyAlgo():\n",
    "    def __init__(self, rating_data='', data_frame='', movie_data=''):\n",
    "        if rating_data:\n",
    "            reader = Reader(line_format='user item rating timestamp', sep=',')\n",
    "            self.ratings = Dataset.load_from_file(rating_data, reader)\n",
    "#             self.trainset, self.testset = train_test_split(self.ratings, test_size=0.25)\n",
    "            self.trainset = self.ratings.build_full_trainset()\n",
    "            self.sim_options = {'name': 'cosine','user_based': False}\n",
    "        elif not data_frame.empty:\n",
    "            reader = Reader(rating_scale=(0, 5))\n",
    "            self.ratings = Dataset.load_from_df(data_frame[['userId', 'movieId', 'rating']], reader)\n",
    "            self.trainset = self.ratings.build_full_trainset()\n",
    "            self.sim_options = {'name': 'cosine','user_based': False}\n",
    "            \n",
    "        if movie_data:\n",
    "            self.movies = pd.read_csv(movie_data, low_memory=False)\n",
    "\n",
    "        \n",
    "    def set_k(self, k_value):\n",
    "        algo = KNNWithMeans(k=k_value, sim_options=self.sim_options)\n",
    "        self.algo = algo\n",
    "        self.algo.fit(self.trainset)\n",
    "        \n",
    "        \n",
    "    def find_best_k(self, k_value):\n",
    "        if k_value:\n",
    "            print('K = {}'.format(k_value))\n",
    "            algo = KNNWithMeans(k=k_value, sim_options=self.sim_options)\n",
    "            cross_validate(algo, self.ratings, measures=['RMSE', 'MAE'], cv=10, verbose=True)\n",
    "        else:\n",
    "            for k_value in [2, 3, 5, 10, 20, 30, 40]:\n",
    "                print('K = {}'.format(k_value))\n",
    "                algo = KNNWithMeans(k=k_value, sim_options=self.sim_options)\n",
    "                cross_validate(algo, self.ratings, measures=['RMSE', 'MAE'], cv=3, verbose=True)\n",
    "                print('\\n\\n')\n",
    "        \n",
    "        \n",
    "    def get_top_n(self, predictions, n=10):\n",
    "        '''Return the top-N recommendation for each user from a set of predictions.\n",
    "\n",
    "        Args:\n",
    "            predictions(list of Prediction objects): The list of predictions, as\n",
    "                returned by the test method of an algorithm.\n",
    "            n(int): The number of recommendation to output for each user. Default\n",
    "                is 10.\n",
    "\n",
    "        Returns:\n",
    "        A dict where keys are user (raw) ids and values are lists of tuples:\n",
    "            [(raw item id, rating estimation), ...] of size n.\n",
    "        '''\n",
    "\n",
    "        # First map the predictions to each user.\n",
    "        top_n = defaultdict(list)\n",
    "        for uid, iid, true_r, est, _ in predictions:\n",
    "            top_n[uid].append((iid, est))\n",
    "\n",
    "        # Then sort the predictions for each user and retrieve the k highest ones.\n",
    "        for uid, user_ratings in top_n.items():\n",
    "            user_ratings.sort(key=lambda x: x[1], reverse=True)\n",
    "            top_n[uid] = user_ratings[:n]\n",
    "\n",
    "        return top_n\n",
    "    \n",
    "    \n",
    "    def set_testset(self, users):\n",
    "        if users:\n",
    "            user_ratings = self.trainset.ur\n",
    "            movies_ids = list(self.movies['movieId'])\n",
    "            global_mean=self.trainset.global_mean\n",
    "            my_testset = []\n",
    "            \n",
    "            for user in users:\n",
    "                iuid = self.trainset.to_inner_uid(str(user))\n",
    "                for movie in movies_ids:\n",
    "                    is_in = False\n",
    "                    for rating in user_ratings[iuid]:\n",
    "#                         print( 'MOVIE: {}, RATING: {}'.format(movie,bla.trainset.to_raw_iid(rating[0])) )\n",
    "                        if int(movie) == int(self.trainset.to_raw_iid(int(rating[0]))):\n",
    "                            is_in = True\n",
    "                            break\n",
    "                    if not is_in:\n",
    "                        my_tuple = (str(user),str(movie),global_mean)\n",
    "                        my_testset.append(my_tuple)\n",
    "                        \n",
    "            self.testset = my_testset\n",
    "        else:\n",
    "            testset = self.trainset.build_anti_testset()\n",
    "            self.testset = testset\n",
    "        return self.testset\n",
    "\n",
    "\n",
    "    def predict_ratings(self,users=''):\n",
    "        # # Predict ratings for all pairs (u, i) that are NOT in the training set.\n",
    "#         testset = self.trainset.build_anti_testset()\n",
    "#         self.testset = testset\n",
    "        testset = self.set_testset(users)\n",
    "        predictions = self.algo.test(testset)\n",
    "        self.predictions = predictions\n",
    "        \n",
    "        \n",
    "    def recs_for_user(self, uid):\n",
    "        user_filtered = list(filter(lambda x: x.uid == str(uid), self.predictions))\n",
    "        print(len(user_filtered))\n",
    "        top_n = self.get_top_n(predictions=user_filtered, n=10)\n",
    "        \n",
    "        return top_n"
   ]
  },
  {
   "cell_type": "code",
   "execution_count": 15,
   "metadata": {},
   "outputs": [
    {
     "name": "stdout",
     "output_type": "stream",
     "text": [
      "Computing the cosine similarity matrix...\n",
      "Done computing similarity matrix.\n"
     ]
    }
   ],
   "source": [
    "refinedMyAlgo = RefinedMyAlgo(rating_data='ml-latest-small/ratings.csv', movie_data='ml-latest-small/movies.csv')\n",
    "refinedMyAlgo.set_k(k_value=10)"
   ]
  },
  {
   "cell_type": "code",
   "execution_count": 16,
   "metadata": {},
   "outputs": [
    {
     "data": {
      "text/plain": [
       "19411"
      ]
     },
     "execution_count": 16,
     "metadata": {},
     "output_type": "execute_result"
    }
   ],
   "source": [
    "refinedMyAlgo.predict_ratings(users=[2,5])\n",
    "len(refinedMyAlgo.predictions)"
   ]
  },
  {
   "cell_type": "code",
   "execution_count": null,
   "metadata": {},
   "outputs": [],
   "source": []
  },
  {
   "cell_type": "code",
   "execution_count": null,
   "metadata": {},
   "outputs": [],
   "source": []
  },
  {
   "cell_type": "code",
   "execution_count": null,
   "metadata": {},
   "outputs": [],
   "source": []
  },
  {
   "cell_type": "code",
   "execution_count": null,
   "metadata": {},
   "outputs": [],
   "source": []
  },
  {
   "cell_type": "code",
   "execution_count": null,
   "metadata": {},
   "outputs": [],
   "source": []
  },
  {
   "cell_type": "code",
   "execution_count": null,
   "metadata": {},
   "outputs": [],
   "source": []
  },
  {
   "cell_type": "code",
   "execution_count": null,
   "metadata": {},
   "outputs": [],
   "source": []
  },
  {
   "cell_type": "code",
   "execution_count": null,
   "metadata": {},
   "outputs": [],
   "source": []
  },
  {
   "cell_type": "code",
   "execution_count": null,
   "metadata": {},
   "outputs": [],
   "source": []
  }
 ],
 "metadata": {
  "kernelspec": {
   "display_name": "Python 3",
   "language": "python",
   "name": "python3"
  },
  "language_info": {
   "codemirror_mode": {
    "name": "ipython",
    "version": 3
   },
   "file_extension": ".py",
   "mimetype": "text/x-python",
   "name": "python",
   "nbconvert_exporter": "python",
   "pygments_lexer": "ipython3",
   "version": "3.6.7"
  }
 },
 "nbformat": 4,
 "nbformat_minor": 2
}
