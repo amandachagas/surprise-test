{
 "cells": [
  {
   "cell_type": "code",
   "execution_count": 2,
   "metadata": {},
   "outputs": [],
   "source": [
    "from collections import defaultdict\n",
    "import pandas as pd\n",
    "import matplotlib.pyplot as plt\n",
    "import numpy as np\n",
    "import statistics\n",
    "import json\n",
    "import time"
   ]
  },
  {
   "cell_type": "code",
   "execution_count": 2,
   "metadata": {},
   "outputs": [],
   "source": [
    "plt.style.use('seaborn')\n",
    "plt.rcParams['figure.figsize'] = (8,5)"
   ]
  },
  {
   "cell_type": "code",
   "execution_count": 3,
   "metadata": {},
   "outputs": [],
   "source": [
    "def read_as_json(file_name):\n",
    "    with open(file_name) as json_file:\n",
    "        data = json.load(json_file)\n",
    "    return data"
   ]
  },
  {
   "cell_type": "code",
   "execution_count": 4,
   "metadata": {},
   "outputs": [],
   "source": [
    "movies = pd.read_csv('ml-latest-small/movies.csv', low_memory=False)\n",
    "movies['genres'] = movies['genres'].apply(lambda x: x.replace('|',', '))\n",
    "ratings = pd.read_csv('ml-latest-small/ratings.csv', low_memory=False, names=['userId', 'movieId', 'rating','timestamp'])\n",
    "ratings = ratings.drop(columns=['timestamp'])"
   ]
  },
  {
   "cell_type": "code",
   "execution_count": 5,
   "metadata": {},
   "outputs": [
    {
     "data": {
      "text/html": [
       "<div>\n",
       "<style scoped>\n",
       "    .dataframe tbody tr th:only-of-type {\n",
       "        vertical-align: middle;\n",
       "    }\n",
       "\n",
       "    .dataframe tbody tr th {\n",
       "        vertical-align: top;\n",
       "    }\n",
       "\n",
       "    .dataframe thead th {\n",
       "        text-align: right;\n",
       "    }\n",
       "</style>\n",
       "<table border=\"1\" class=\"dataframe\">\n",
       "  <thead>\n",
       "    <tr style=\"text-align: right;\">\n",
       "      <th></th>\n",
       "      <th>movieId</th>\n",
       "      <th>title</th>\n",
       "      <th>genres</th>\n",
       "    </tr>\n",
       "  </thead>\n",
       "  <tbody>\n",
       "    <tr>\n",
       "      <th>0</th>\n",
       "      <td>1</td>\n",
       "      <td>Toy Story (1995)</td>\n",
       "      <td>Adventure, Animation, Children, Comedy, Fantasy</td>\n",
       "    </tr>\n",
       "    <tr>\n",
       "      <th>1</th>\n",
       "      <td>2</td>\n",
       "      <td>Jumanji (1995)</td>\n",
       "      <td>Adventure, Children, Fantasy</td>\n",
       "    </tr>\n",
       "    <tr>\n",
       "      <th>2</th>\n",
       "      <td>3</td>\n",
       "      <td>Grumpier Old Men (1995)</td>\n",
       "      <td>Comedy, Romance</td>\n",
       "    </tr>\n",
       "    <tr>\n",
       "      <th>3</th>\n",
       "      <td>4</td>\n",
       "      <td>Waiting to Exhale (1995)</td>\n",
       "      <td>Comedy, Drama, Romance</td>\n",
       "    </tr>\n",
       "    <tr>\n",
       "      <th>4</th>\n",
       "      <td>5</td>\n",
       "      <td>Father of the Bride Part II (1995)</td>\n",
       "      <td>Comedy</td>\n",
       "    </tr>\n",
       "  </tbody>\n",
       "</table>\n",
       "</div>"
      ],
      "text/plain": [
       "   movieId                               title  \\\n",
       "0        1                    Toy Story (1995)   \n",
       "1        2                      Jumanji (1995)   \n",
       "2        3             Grumpier Old Men (1995)   \n",
       "3        4            Waiting to Exhale (1995)   \n",
       "4        5  Father of the Bride Part II (1995)   \n",
       "\n",
       "                                            genres  \n",
       "0  Adventure, Animation, Children, Comedy, Fantasy  \n",
       "1                     Adventure, Children, Fantasy  \n",
       "2                                  Comedy, Romance  \n",
       "3                           Comedy, Drama, Romance  \n",
       "4                                           Comedy  "
      ]
     },
     "execution_count": 5,
     "metadata": {},
     "output_type": "execute_result"
    }
   ],
   "source": [
    "movies.head()"
   ]
  },
  {
   "cell_type": "code",
   "execution_count": 6,
   "metadata": {},
   "outputs": [
    {
     "name": "stdout",
     "output_type": "stream",
     "text": [
      "100836\n"
     ]
    },
    {
     "data": {
      "text/html": [
       "<div>\n",
       "<style scoped>\n",
       "    .dataframe tbody tr th:only-of-type {\n",
       "        vertical-align: middle;\n",
       "    }\n",
       "\n",
       "    .dataframe tbody tr th {\n",
       "        vertical-align: top;\n",
       "    }\n",
       "\n",
       "    .dataframe thead th {\n",
       "        text-align: right;\n",
       "    }\n",
       "</style>\n",
       "<table border=\"1\" class=\"dataframe\">\n",
       "  <thead>\n",
       "    <tr style=\"text-align: right;\">\n",
       "      <th></th>\n",
       "      <th>userId</th>\n",
       "      <th>movieId</th>\n",
       "      <th>rating</th>\n",
       "    </tr>\n",
       "  </thead>\n",
       "  <tbody>\n",
       "    <tr>\n",
       "      <th>0</th>\n",
       "      <td>1</td>\n",
       "      <td>1</td>\n",
       "      <td>4.0</td>\n",
       "    </tr>\n",
       "    <tr>\n",
       "      <th>1</th>\n",
       "      <td>1</td>\n",
       "      <td>3</td>\n",
       "      <td>4.0</td>\n",
       "    </tr>\n",
       "    <tr>\n",
       "      <th>2</th>\n",
       "      <td>1</td>\n",
       "      <td>6</td>\n",
       "      <td>4.0</td>\n",
       "    </tr>\n",
       "    <tr>\n",
       "      <th>3</th>\n",
       "      <td>1</td>\n",
       "      <td>47</td>\n",
       "      <td>5.0</td>\n",
       "    </tr>\n",
       "    <tr>\n",
       "      <th>4</th>\n",
       "      <td>1</td>\n",
       "      <td>50</td>\n",
       "      <td>5.0</td>\n",
       "    </tr>\n",
       "  </tbody>\n",
       "</table>\n",
       "</div>"
      ],
      "text/plain": [
       "   userId  movieId  rating\n",
       "0       1        1     4.0\n",
       "1       1        3     4.0\n",
       "2       1        6     4.0\n",
       "3       1       47     5.0\n",
       "4       1       50     5.0"
      ]
     },
     "execution_count": 6,
     "metadata": {},
     "output_type": "execute_result"
    }
   ],
   "source": [
    "print(len(ratings))\n",
    "ratings.head()"
   ]
  },
  {
   "cell_type": "code",
   "execution_count": 7,
   "metadata": {},
   "outputs": [
    {
     "name": "stdout",
     "output_type": "stream",
     "text": [
      "Tamanhos: 1000, 1000, 1000, 1000, 1000, 1000, 1000, 1000, 1000 e 742\n"
     ]
    }
   ],
   "source": [
    "v1 = read_as_json('01.json')\n",
    "v2 = read_as_json('02.json')\n",
    "v3 = read_as_json('03.json')\n",
    "v4 = read_as_json('04.json')\n",
    "v5 = read_as_json('05.json')\n",
    "v6 = read_as_json('06.json')\n",
    "v7 = read_as_json('07.json')\n",
    "v8 = read_as_json('08.json')\n",
    "v9 = read_as_json('09.json')\n",
    "v10 = read_as_json('10.json')\n",
    "\n",
    "print(\"Tamanhos: {}, {}, {}, {}, {}, {}, {}, {}, {} e {}\".format(len(v1),len(v2),len(v3),len(v4),len(v5),len(v6),len(v7),len(v8),len(v9),len(v10)))"
   ]
  },
  {
   "cell_type": "code",
   "execution_count": 8,
   "metadata": {},
   "outputs": [
    {
     "name": "stdout",
     "output_type": "stream",
     "text": [
      "9742\n"
     ]
    }
   ],
   "source": [
    "total = v1 + v2 + v3 + v4 + v5 + v6 + v7 + v8 + v9 + v10 \n",
    "print(len(total))"
   ]
  },
  {
   "cell_type": "code",
   "execution_count": 9,
   "metadata": {},
   "outputs": [],
   "source": [
    "\"\"\"\n",
    "Calculando a média, mediana e moda de cada filmes e adicionando esse valores no dicionário da variável total\n",
    "\"\"\"\n",
    "count=0\n",
    "\n",
    "for item in total:\n",
    "    if len(item['ratings']) < 1:\n",
    "        my_mean = 'NO MEAN'\n",
    "        my_median = 'NO MEDIAN'\n",
    "        my_mode = 'NO MODE'\n",
    "        my_desvio = 'NO DESVIO'\n",
    "    else:\n",
    "        my_aux = pd.Series(item['ratings'])\n",
    "        my_mean = my_aux.mean()\n",
    "        my_median = my_aux.median()\n",
    "        my_mode = my_aux.mode()\n",
    "        my_desvio = my_aux.std()\n",
    "        \n",
    "#         my_mode = statistics.mode(item['ratings'])\n",
    "    \n",
    "    item['mean'] = my_mean\n",
    "    item['median'] = my_median\n",
    "    item['mode'] = my_mode[0]\n",
    "    item['desvio'] = my_desvio"
   ]
  },
  {
   "cell_type": "code",
   "execution_count": 10,
   "metadata": {},
   "outputs": [
    {
     "name": "stdout",
     "output_type": "stream",
     "text": [
      "{'movieId': 45, 'ratings': [3.0, 3.0, 3.5, 4.0, 3.0, 2.5, 4.0, 3.0, 3.0, 2.0, 3.0, 4.0, 2.0, 2.0, 4.5, 3.0, 3.0, 2.5, 3.0, 3.0, 3.0, 4.0, 4.0, 3.0, 3.0, 3.0, 3.5, 5.0, 5.0, 2.5, 5.0, 4.0], 'counter': 32, 'acc': 106.0, 'mean': 3.3125, 'median': 3.0, 'mode': 3.0, 'desvio': 0.8303710791159926}\n"
     ]
    }
   ],
   "source": [
    "print(total[41])"
   ]
  },
  {
   "cell_type": "code",
   "execution_count": 11,
   "metadata": {},
   "outputs": [],
   "source": [
    "with open('all.json', 'w') as json_file:  \n",
    "    json.dump(total, json_file)"
   ]
  },
  {
   "cell_type": "code",
   "execution_count": null,
   "metadata": {},
   "outputs": [],
   "source": []
  },
  {
   "cell_type": "code",
   "execution_count": null,
   "metadata": {},
   "outputs": [],
   "source": []
  },
  {
   "cell_type": "code",
   "execution_count": null,
   "metadata": {},
   "outputs": [],
   "source": []
  },
  {
   "cell_type": "code",
   "execution_count": 11,
   "metadata": {},
   "outputs": [],
   "source": [
    "\"\"\"\n",
    "Serão definidos 5 Grupos de filmes, tal que:\n",
    "\n",
    "    G1, filmes bastante avaliados, tq, ratings(G1) > 100\n",
    "    G2, filmes muito avaliados, tq, 100 >= ratings(G2) > 50\n",
    "    G3, filmes razoavelmente avaliados, tq, 50 >= ratings(G3) > 20\n",
    "    G4, filmes pouco avaliados, tq, 20 >= ratings(G4) > 5\n",
    "    G5, filmes pouqíssimo avaliados, tq, 5 >= ratings(G5)\n",
    "\"\"\"\n",
    "\n",
    "G1 = []\n",
    "G2 = []\n",
    "G3 = []\n",
    "G4 = []\n",
    "G5 = []\n",
    "\n",
    "for item in total:\n",
    "    if item['counter'] > 100:\n",
    "        G1.append(item)\n",
    "    elif 100 >= item['counter'] > 50:\n",
    "        G2.append(item)\n",
    "    elif 50 >= item['counter'] > 20:\n",
    "        G3.append(item)\n",
    "    elif 20 >= item['counter'] > 5:\n",
    "        G4.append(item)\n",
    "    else:\n",
    "        G5.append(item)"
   ]
  },
  {
   "cell_type": "code",
   "execution_count": 13,
   "metadata": {},
   "outputs": [
    {
     "name": "stdout",
     "output_type": "stream",
     "text": [
      "Tamanho dos grupos: G1=134, G2=302, G3=799, G4=2033 e G5=6474\n"
     ]
    }
   ],
   "source": [
    "print(\"Tamanho dos grupos: G1={}, G2={}, G3={}, G4={} e G5={}\".format(len(G1), len(G2), len(G3), len(G4), len(G5)))"
   ]
  },
  {
   "cell_type": "code",
   "execution_count": 14,
   "metadata": {},
   "outputs": [
    {
     "name": "stdout",
     "output_type": "stream",
     "text": [
      "Tamanho data_G1=19788, data_G2=20872, data_G3=25998, data_G4=21706, data_G5=12472 e TOTAL=100836\n"
     ]
    }
   ],
   "source": [
    "data_G1 = []\n",
    "data_G2 = []\n",
    "data_G3 = []\n",
    "data_G4 = []\n",
    "data_G5 = []\n",
    "\n",
    "for item in G1:\n",
    "    data_G1 += item['ratings']\n",
    "    \n",
    "for item in G2:\n",
    "    data_G2 += item['ratings']\n",
    "    \n",
    "for item in G3:\n",
    "    data_G3 += item['ratings']\n",
    "    \n",
    "for item in G4:\n",
    "    data_G4 += item['ratings']\n",
    "    \n",
    "for item in G5:\n",
    "    data_G5 += item['ratings']\n",
    "    \n",
    "print(\"Tamanho data_G1={}, data_G2={}, data_G3={}, data_G4={}, data_G5={} e TOTAL={}\".format(len(data_G1), len(data_G2), \n",
    "                                                                                        len(data_G3), len(data_G4), \n",
    "                                                                                        len(data_G5), \n",
    "                                                                   len(data_G1)+len(data_G2)+len(data_G3)+len(data_G4)+len(data_G5) ))\n",
    "\n",
    "# print(G1[3])"
   ]
  },
  {
   "cell_type": "code",
   "execution_count": 15,
   "metadata": {},
   "outputs": [
    {
     "name": "stdout",
     "output_type": "stream",
     "text": [
      "[134, 302, 799, 2033, 6474]\n"
     ]
    },
    {
     "data": {
      "image/png": "[encoded data removed]",
      "text/plain": [
       "<Figure size 576x360 with 1 Axes>"
      ]
     },
     "metadata": {},
     "output_type": "display_data"
    },
    {
     "data": {
      "text/plain": [
       "<Figure size 576x360 with 0 Axes>"
      ]
     },
     "metadata": {},
     "output_type": "display_data"
    }
   ],
   "source": [
    "categorias = ['F1', 'F2', 'F3', 'F4', 'F5']\n",
    "filmes = [len(G1), len(G2), len(G3), len(G4), len(G5)]\n",
    "\n",
    "print(filmes)\n",
    "\n",
    "plt.bar(categorias, filmes, color='#580330')\n",
    "plt.xticks(categorias)\n",
    "plt.ylabel('Nº de filmes')\n",
    "plt.xlabel('Categorias')\n",
    "plt.title('Categorias x Número de filmes')\n",
    "\n",
    "plt.show()\n",
    "plt.savefig(fname='categ_vs_movies.png', format='png')"
   ]
  },
  {
   "cell_type": "code",
   "execution_count": 16,
   "metadata": {},
   "outputs": [
    {
     "name": "stdout",
     "output_type": "stream",
     "text": [
      "[19788, 20872, 25998, 21706, 12472]\n"
     ]
    },
    {
     "data": {
      "image/png": "[encoded data removed]",
      "text/plain": [
       "<Figure size 576x360 with 1 Axes>"
      ]
     },
     "metadata": {},
     "output_type": "display_data"
    }
   ],
   "source": [
    "categorias = ['F1', 'F2', 'F3', 'F4', 'F5']\n",
    "avaliacoes = [len(data_G1), len(data_G2), len(data_G3), len(data_G4), len(data_G5)]\n",
    "\n",
    "print(avaliacoes)\n",
    "\n",
    "plt.bar(categorias, avaliacoes, color='#138F6A')\n",
    "plt.xticks(categorias)\n",
    "plt.ylabel('Nº de avaliações')\n",
    "plt.xlabel('Categorias')\n",
    "plt.title('Categorias x Número de avaliações')\n",
    "\n",
    "plt.show()"
   ]
  },
  {
   "cell_type": "code",
   "execution_count": 17,
   "metadata": {},
   "outputs": [
    {
     "data": {
      "image/png": "[encoded data removed]",
      "text/plain": [
       "<Figure size 576x360 with 1 Axes>"
      ]
     },
     "metadata": {},
     "output_type": "display_data"
    }
   ],
   "source": [
    "box_plot_data=[data_G1, data_G2, data_G3, data_G4, data_G5]\n",
    "\n",
    "fig1, ax1 = plt.subplots()\n",
    "ax1.set_title('Categorias x Valor das avaliações')\n",
    "ax1.set_xlabel('Categorias')\n",
    "ax1.set_ylabel('Valor das avaliações')\n",
    "box = ax1.boxplot(box_plot_data,patch_artist=True,labels=['F1','F2','F3','F4','F5'])\n",
    "\n",
    "colors = ['#001f47', '#001f47', '#001f47', '#001f47', '#001f47']\n",
    "for patch, color in zip(box['boxes'], colors):\n",
    "    patch.set_facecolor(color)\n",
    "    \n",
    "\n",
    "plt.show()"
   ]
  },
  {
   "cell_type": "code",
   "execution_count": null,
   "metadata": {},
   "outputs": [],
   "source": []
  },
  {
   "cell_type": "code",
   "execution_count": 12,
   "metadata": {},
   "outputs": [
    {
     "data": {
      "text/plain": [
       "['Adventure,',\n",
       " 'Animation,',\n",
       " 'Children,',\n",
       " 'Comedy,',\n",
       " 'Fantasy',\n",
       " 'Romance',\n",
       " 'Drama,',\n",
       " 'Comedy',\n",
       " 'Action,',\n",
       " 'Crime,',\n",
       " 'Thriller',\n",
       " 'Children',\n",
       " 'Action',\n",
       " 'Horror',\n",
       " 'Drama',\n",
       " 'Horror,',\n",
       " 'Mystery,',\n",
       " 'Sci-Fi',\n",
       " 'Fantasy,',\n",
       " 'Sci-Fi,',\n",
       " 'War',\n",
       " 'Musical,',\n",
       " 'Crime',\n",
       " 'Documentary',\n",
       " 'Musical',\n",
       " 'Mystery',\n",
       " 'IMAX',\n",
       " 'Romance,',\n",
       " 'Thriller,',\n",
       " 'Western',\n",
       " 'Film-Noir,',\n",
       " 'War,',\n",
       " 'Adventure',\n",
       " 'Film-Noir',\n",
       " 'Documentary,',\n",
       " 'Animation',\n",
       " 'Western,',\n",
       " '(no',\n",
       " 'genres',\n",
       " 'listed)']"
      ]
     },
     "execution_count": 12,
     "metadata": {},
     "output_type": "execute_result"
    }
   ],
   "source": [
    "my_list = []\n",
    "for index, row in movies.iterrows():\n",
    "    aux = row.genres.split()\n",
    "    for item in aux:\n",
    "        if item not in my_list:\n",
    "            my_list.append(item)\n",
    "\n",
    "my_list"
   ]
  },
  {
   "cell_type": "code",
   "execution_count": 13,
   "metadata": {},
   "outputs": [
    {
     "name": "stdout",
     "output_type": "stream",
     "text": [
      "40\n",
      "38\n",
      "20\n"
     ]
    },
    {
     "data": {
      "text/plain": [
       "['Adventure',\n",
       " 'Animation',\n",
       " 'Children',\n",
       " 'Comedy',\n",
       " 'Fantasy',\n",
       " 'Romance',\n",
       " 'Drama',\n",
       " 'Action',\n",
       " 'Crime',\n",
       " 'Thriller',\n",
       " 'Horror',\n",
       " 'Mystery',\n",
       " 'Sci-Fi',\n",
       " 'War',\n",
       " 'Musical',\n",
       " 'Documentary',\n",
       " 'IMAX',\n",
       " 'Western',\n",
       " 'Film-Noir',\n",
       " '(no genres listed)']"
      ]
     },
     "execution_count": 13,
     "metadata": {},
     "output_type": "execute_result"
    }
   ],
   "source": [
    "print(len(my_list))\n",
    "my_list[37] = \"(no genres listed)\"\n",
    "genres = my_list[0:38]\n",
    "\n",
    "genres_clean = []\n",
    "for item in genres:\n",
    "    item = item.replace(',','')\n",
    "    genres_clean.append(item)\n",
    "\n",
    "print(len(genres_clean))\n",
    "\n",
    "genres_clean = list(dict.fromkeys(genres_clean))\n",
    "print(len(genres_clean))\n",
    "\n",
    "genres_clean"
   ]
  },
  {
   "cell_type": "code",
   "execution_count": 14,
   "metadata": {},
   "outputs": [
    {
     "data": {
      "text/html": [
       "<div>\n",
       "<style scoped>\n",
       "    .dataframe tbody tr th:only-of-type {\n",
       "        vertical-align: middle;\n",
       "    }\n",
       "\n",
       "    .dataframe tbody tr th {\n",
       "        vertical-align: top;\n",
       "    }\n",
       "\n",
       "    .dataframe thead th {\n",
       "        text-align: right;\n",
       "    }\n",
       "</style>\n",
       "<table border=\"1\" class=\"dataframe\">\n",
       "  <thead>\n",
       "    <tr style=\"text-align: right;\">\n",
       "      <th></th>\n",
       "      <th>movieId</th>\n",
       "      <th>title</th>\n",
       "      <th>genres</th>\n",
       "    </tr>\n",
       "  </thead>\n",
       "  <tbody>\n",
       "    <tr>\n",
       "      <th>0</th>\n",
       "      <td>1</td>\n",
       "      <td>Toy Story (1995)</td>\n",
       "      <td>Adventure, Animation, Children, Comedy, Fantasy</td>\n",
       "    </tr>\n",
       "    <tr>\n",
       "      <th>1</th>\n",
       "      <td>2</td>\n",
       "      <td>Jumanji (1995)</td>\n",
       "      <td>Adventure, Children, Fantasy</td>\n",
       "    </tr>\n",
       "    <tr>\n",
       "      <th>2</th>\n",
       "      <td>3</td>\n",
       "      <td>Grumpier Old Men (1995)</td>\n",
       "      <td>Comedy, Romance</td>\n",
       "    </tr>\n",
       "    <tr>\n",
       "      <th>3</th>\n",
       "      <td>4</td>\n",
       "      <td>Waiting to Exhale (1995)</td>\n",
       "      <td>Comedy, Drama, Romance</td>\n",
       "    </tr>\n",
       "    <tr>\n",
       "      <th>4</th>\n",
       "      <td>5</td>\n",
       "      <td>Father of the Bride Part II (1995)</td>\n",
       "      <td>Comedy</td>\n",
       "    </tr>\n",
       "  </tbody>\n",
       "</table>\n",
       "</div>"
      ],
      "text/plain": [
       "   movieId                               title  \\\n",
       "0        1                    Toy Story (1995)   \n",
       "1        2                      Jumanji (1995)   \n",
       "2        3             Grumpier Old Men (1995)   \n",
       "3        4            Waiting to Exhale (1995)   \n",
       "4        5  Father of the Bride Part II (1995)   \n",
       "\n",
       "                                            genres  \n",
       "0  Adventure, Animation, Children, Comedy, Fantasy  \n",
       "1                     Adventure, Children, Fantasy  \n",
       "2                                  Comedy, Romance  \n",
       "3                           Comedy, Drama, Romance  \n",
       "4                                           Comedy  "
      ]
     },
     "execution_count": 14,
     "metadata": {},
     "output_type": "execute_result"
    }
   ],
   "source": [
    "movies.head()"
   ]
  },
  {
   "cell_type": "code",
   "execution_count": 15,
   "metadata": {},
   "outputs": [
    {
     "data": {
      "text/plain": [
       "[{'genre': 'Adventure', 'count': 1263},\n",
       " {'genre': 'Animation', 'count': 611},\n",
       " {'genre': 'Children', 'count': 664},\n",
       " {'genre': 'Comedy', 'count': 3756},\n",
       " {'genre': 'Fantasy', 'count': 779},\n",
       " {'genre': 'Romance', 'count': 1596},\n",
       " {'genre': 'Drama', 'count': 4361},\n",
       " {'genre': 'Action', 'count': 1828},\n",
       " {'genre': 'Crime', 'count': 1199},\n",
       " {'genre': 'Thriller', 'count': 1894},\n",
       " {'genre': 'Horror', 'count': 978},\n",
       " {'genre': 'Mystery', 'count': 573},\n",
       " {'genre': 'Sci-Fi', 'count': 980},\n",
       " {'genre': 'War', 'count': 382},\n",
       " {'genre': 'Musical', 'count': 334},\n",
       " {'genre': 'Documentary', 'count': 440},\n",
       " {'genre': 'IMAX', 'count': 158},\n",
       " {'genre': 'Western', 'count': 167},\n",
       " {'genre': 'Film-Noir', 'count': 87},\n",
       " {'genre': '(no genres listed)', 'count': 34}]"
      ]
     },
     "execution_count": 15,
     "metadata": {},
     "output_type": "execute_result"
    }
   ],
   "source": [
    "genres_counter = []\n",
    "for genre in genres_clean:\n",
    "    count = 0\n",
    "    aux = {}\n",
    "    for index, row in movies.iterrows():\n",
    "        if genre in row.genres:\n",
    "            count += 1\n",
    "    aux['genre'] = genre\n",
    "    aux['count'] = count\n",
    "    genres_counter.append(aux)\n",
    "    \n",
    "genres_counter"
   ]
  },
  {
   "cell_type": "code",
   "execution_count": 18,
   "metadata": {},
   "outputs": [],
   "source": [
    "with open('genres_counter.json', 'w') as json_file:  \n",
    "    json.dump(genres_counter, json_file)"
   ]
  },
  {
   "cell_type": "code",
   "execution_count": null,
   "metadata": {},
   "outputs": [],
   "source": []
  },
  {
   "cell_type": "code",
   "execution_count": 14,
   "metadata": {},
   "outputs": [],
   "source": [
    "# x = [u'INFO', u'CUISINE', u'TYPE_OF_PLACE', u'DRINK', u'PLACE', u'MEAL_TIME', u'DISH', u'NEIGHBOURHOOD']\n",
    "# y = [160, 167, 137, 18, 120, 36, 155, 130]\n",
    "\n",
    "# fig, ax = plt.subplots()    \n",
    "# width = 0.75 # the width of the bars \n",
    "# ind = np.arange(len(y))  # the x locations for the groups\n",
    "# ax.barh(ind, y, width, color=\"blue\")\n",
    "# ax.set_yticks(ind+width/2)\n",
    "# ax.set_yticklabels(x, minor=False)\n",
    "# plt.title('title')\n",
    "# plt.xlabel('x')\n",
    "# plt.ylabel('y')\n",
    "\n",
    "# for i, v in enumerate(y):\n",
    "#     ax.text(v + 3, i + .25, str(v), color='blue', fontweight='bold')\n",
    "\n",
    "# plt.show()"
   ]
  },
  {
   "cell_type": "code",
   "execution_count": null,
   "metadata": {},
   "outputs": [],
   "source": []
  },
  {
   "cell_type": "code",
   "execution_count": 22,
   "metadata": {},
   "outputs": [
    {
     "name": "stdout",
     "output_type": "stream",
     "text": [
      "['Adventure', 'Animation', 'Children', 'Comedy', 'Fantasy', 'Romance', 'Drama', 'Action', 'Crime', 'Thriller', 'Horror', 'Mystery', 'Sci-Fi', 'War', 'Musical', 'Documentary', 'IMAX', 'Western', 'Film-Noir', '(no genres listed)']\n"
     ]
    },
    {
     "data": {
      "image/png": "[encoded data removed]",
      "text/plain": [
       "<Figure size 720x864 with 1 Axes>"
      ]
     },
     "metadata": {},
     "output_type": "display_data"
    }
   ],
   "source": [
    "plt.rcParams['figure.figsize'] = (10,12)\n",
    "\n",
    "fig, ax = plt.subplots()\n",
    "\n",
    "repeats = []\n",
    "for item in genres_counter:\n",
    "    repeats.append(item['count'])\n",
    "\n",
    "# Data to plot\n",
    "print(genres_clean)\n",
    "genres_label = genres_clean\n",
    "y_pos = np.arange(len(genres_label))\n",
    "repeats_label = repeats\n",
    "\n",
    "\n",
    "ax.barh(y_pos, repeats_label, align='center')\n",
    "ax.set_yticks(y_pos)\n",
    "ax.set_yticklabels(genres_label)\n",
    "ax.invert_yaxis()  # labels read top-to-bottom\n",
    "# ax.set_xlabel('Times that appears')\n",
    "ax.set_xlabel('Frequência')\n",
    "# ax.set_title('How many times the genres appears in movies?')\n",
    "ax.set_title('Quantas vezes os gêneros aparecem no dataset?')\n",
    "\n",
    "# Annotating values on each column\n",
    "for i, v in enumerate(repeats_label):\n",
    "#     ax.text(v + 3, i + .25, str(v), color='navy', fontweight='bold')\n",
    "    ax.text(v, i, \" \"+str(v), color='navy', va='center', fontweight='bold') \n",
    "\n",
    "plt.show()"
   ]
  },
  {
   "cell_type": "code",
   "execution_count": null,
   "metadata": {},
   "outputs": [],
   "source": []
  },
  {
   "cell_type": "code",
   "execution_count": 16,
   "metadata": {},
   "outputs": [
    {
     "name": "stdout",
     "output_type": "stream",
     "text": [
      " - - - - - - - - - - - - - - - - - - - - - - - - - - - - - - - - - - - - - - - - - - - - - - - - - - -\n",
      "1 gênero: 2851\t 2 gêneros: 3218\t 3 gêneros: 2338\t 4 ou mais gêneros: 1335\n",
      "total: 9742\n"
     ]
    }
   ],
   "source": [
    "genres_clean\n",
    "\n",
    "genres_counter_1 = 0\n",
    "genres_counter_2 = 0\n",
    "genres_counter_3 = 0\n",
    "genres_counter_4 = 0\n",
    "\n",
    "# for genre in genres_clean:\n",
    "count = 0\n",
    "\n",
    "for index, row in movies.iterrows():\n",
    "    aux = row.genres.split(',')\n",
    "#     print(aux)\n",
    "    if len(aux) == 2:\n",
    "        genres_counter_2 += 1\n",
    "    elif len(aux) == 3:\n",
    "        genres_counter_3 += 1\n",
    "    elif len(aux) >= 4:\n",
    "        genres_counter_4 += 1\n",
    "    else:\n",
    "        genres_counter_1 += 1\n",
    "                \n",
    "                \n",
    "print(' - - - - - - - - - - - - - - - - - - - - - - - - - - - - - - - - - - - - - - - - - - - - - - - - - - -')\n",
    "print(\"1 gênero: {}\\t 2 gêneros: {}\\t 3 gêneros: {}\\t 4 ou mais gêneros: {}\".format(genres_counter_1, genres_counter_2, genres_counter_3, genres_counter_4))\n",
    "print(\"total: {}\".format(genres_counter_1+genres_counter_2+genres_counter_3+genres_counter_4))"
   ]
  },
  {
   "cell_type": "code",
   "execution_count": 43,
   "metadata": {},
   "outputs": [
    {
     "data": {
      "image/png": "[encoded data removed]",
      "text/plain": [
       "<Figure size 576x648 with 1 Axes>"
      ]
     },
     "metadata": {},
     "output_type": "display_data"
    }
   ],
   "source": [
    "plt.rcParams['figure.figsize'] = (8,9)\n",
    "categorias = ['01', '02', '03', '04+']\n",
    "generos_multiplos = [genres_counter_1, genres_counter_2, genres_counter_3, genres_counter_4]\n",
    "\n",
    "# plt.bar(categorias, generos_multiplos, color='#580693')\n",
    "# plt.xticks(categorias)\n",
    "# plt.ylabel('Nº de filmes')\n",
    "# plt.xlabel('Nº de gêneros do filme')\n",
    "# plt.title('Nº de gêneros do filme x Nº de filmes')\n",
    "\n",
    "\n",
    "plt.bar(categorias, generos_multiplos, color='#580693')\n",
    "\n",
    "# zip joins x and y coordinates in pairs\n",
    "for x,y in zip(categorias,generos_multiplos):\n",
    "\n",
    "    label = \"{}\".format(y)\n",
    "\n",
    "    plt.annotate(label, # this is the text\n",
    "                 (x,y), # this is the point to label\n",
    "                 textcoords=\"offset points\", # how to position the text\n",
    "                 xytext=(0,10), # distance from text to points (x,y)\n",
    "                 ha='center',\n",
    "                fontweight='bold',\n",
    "                color='#580679') # horizontal alignment can be left, right or center\n",
    "\n",
    "plt.xticks(categorias)\n",
    "plt.ylabel('Nº de filmes')\n",
    "plt.xlabel('Nº de gêneros do filme')\n",
    "plt.title('Nº de gêneros do filme x Nº de filmes')\n",
    "\n",
    "plt.show()"
   ]
  },
  {
   "cell_type": "code",
   "execution_count": 30,
   "metadata": {},
   "outputs": [
    {
     "name": "stdout",
     "output_type": "stream",
     "text": [
      "{'movieId': 1, 'ratings': [4.0, 4.0, 4.5, 2.5, 4.5, 3.5, 4.0, 3.5, 3.0, 5.0, 3.0, 3.0, 5.0, 5.0, 3.0, 4.0, 5.0, 3.0, 3.0, 5.0, 5.0, 4.0, 4.0, 2.5, 5.0, 4.5, 0.5, 4.0, 2.5, 4.0, 3.0, 3.0, 4.0, 3.0, 5.0, 4.5, 4.0, 4.0, 3.0, 3.5, 4.0, 4.0, 3.0, 2.0, 3.0, 4.0, 4.0, 3.0, 4.0, 3.5, 5.0, 5.0, 2.0, 3.0, 4.0, 4.5, 4.0, 4.0, 5.0, 3.5, 4.5, 5.0, 5.0, 4.0, 4.0, 4.0, 4.0, 4.0, 4.0, 2.0, 3.5, 5.0, 4.0, 5.0, 3.5, 3.0, 3.0, 4.0, 3.5, 5.0, 3.5, 3.5, 5.0, 3.5, 3.0, 5.0, 4.0, 5.0, 5.0, 4.0, 4.5, 4.5, 4.0, 4.0, 2.0, 5.0, 5.0, 5.0, 4.0, 5.0, 4.0, 4.0, 3.0, 4.5, 4.5, 3.0, 4.5, 4.0, 4.0, 4.0, 3.0, 2.0, 5.0, 4.0, 3.0, 3.5, 3.5, 5.0, 4.0, 4.0, 3.5, 4.0, 4.0, 4.0, 5.0, 5.0, 4.0, 5.0, 5.0, 4.0, 5.0, 5.0, 3.0, 3.0, 4.5, 5.0, 3.5, 4.5, 4.0, 5.0, 3.0, 5.0, 4.0, 3.5, 5.0, 2.0, 4.0, 4.0, 4.0, 2.5, 4.0, 4.0, 4.5, 4.0, 5.0, 5.0, 5.0, 5.0, 4.5, 1.5, 4.0, 4.0, 4.0, 5.0, 4.0, 4.0, 4.0, 3.0, 4.0, 4.5, 4.5, 3.5, 4.0, 4.0, 4.0, 4.0, 4.0, 4.0, 3.0, 4.0, 4.0, 2.5, 3.0, 5.0, 4.0, 3.0, 3.0, 4.0, 4.0, 5.0, 3.0, 4.0, 4.5, 3.5, 4.0, 4.0, 5.0, 4.0, 3.0, 5.0, 5.0, 4.0, 4.0, 4.0, 3.0, 2.5, 4.0, 4.0, 3.0, 4.0, 2.5, 4.0, 2.5, 3.0, 5.0], 'counter': 215, 'acc': 843.0, 'mean': 3.9209302325581397, 'median': 4.0, 'mode': 4.0, 'desvio': 0.8348591407114047}\n",
      "Adventure, Animation, Children, Comedy, Fantasy\n"
     ]
    }
   ],
   "source": [
    "print(G1[0])\n",
    "\n",
    "print(movies.loc[0].genres)"
   ]
  },
  {
   "cell_type": "code",
   "execution_count": 32,
   "metadata": {},
   "outputs": [],
   "source": [
    "def genres_per_movie(my_list):\n",
    "    \n",
    "    genres_counter_1 = 0\n",
    "    genres_counter_2 = 0\n",
    "    genres_counter_3 = 0\n",
    "    genres_counter_4 = 0\n",
    "\n",
    "    # for genre in genres_clean:\n",
    "    count = 0\n",
    "\n",
    "    for item in my_list:\n",
    "        bla = item['movieId']\n",
    "        index = int(movies[movies['movieId']==bla].index[0])\n",
    "        this_genres = movies.loc[index].genres\n",
    "        total_genres = this_genres.split(',')\n",
    "        if len(total_genres) == 2:\n",
    "            genres_counter_2 += 1\n",
    "        elif len(total_genres) == 3:\n",
    "            genres_counter_3 += 1\n",
    "        elif len(total_genres) >= 4:\n",
    "            genres_counter_4 += 1\n",
    "        else:\n",
    "            genres_counter_1 += 1\n",
    "\n",
    "\n",
    "#     print(' - - - - - - - - - - - - - - - - - - - - - - - - - - - - - - - - - - - - - - - - - - - - - - - - - - -')\n",
    "#     print(\"1 gênero: {}\\t 2 gêneros: {}\\t 3 gêneros: {}\\t 4 ou mais gêneros: {}\".format(genres_counter_1, genres_counter_2, genres_counter_3, genres_counter_4))\n",
    "#     print(\"total: {}\".format(genres_counter_1+genres_counter_2+genres_counter_3+genres_counter_4))\n",
    "    \n",
    "    return genres_counter_1, genres_counter_2, genres_counter_3, genres_counter_4"
   ]
  },
  {
   "cell_type": "code",
   "execution_count": 35,
   "metadata": {},
   "outputs": [
    {
     "name": "stdout",
     "output_type": "stream",
     "text": [
      "(6, 37, 54, 37)\n",
      "134\n",
      "-------------------------------------\n",
      "(41, 75, 98, 88)\n",
      "302\n",
      "-------------------------------------\n",
      "(126, 210, 257, 206)\n",
      "799\n",
      "-------------------------------------\n",
      "(463, 680, 557, 333)\n",
      "2033\n",
      "-------------------------------------\n",
      "(2215, 2216, 1372, 671)\n",
      "6474\n",
      "-------------------------------------\n"
     ]
    }
   ],
   "source": [
    "print(genres_per_movie(G1))\n",
    "print(sum(genres_per_movie(G1)))\n",
    "print(\"-------------------------------------\")\n",
    "print(genres_per_movie(G2))\n",
    "print(sum(genres_per_movie(G2)))\n",
    "print(\"-------------------------------------\")\n",
    "print(genres_per_movie(G3))\n",
    "print(sum(genres_per_movie(G3)))\n",
    "print(\"-------------------------------------\")\n",
    "print(genres_per_movie(G4))\n",
    "print(sum(genres_per_movie(G4)))\n",
    "print(\"-------------------------------------\")\n",
    "print(genres_per_movie(G5))\n",
    "print(sum(genres_per_movie(G5)))\n",
    "print(\"-------------------------------------\")"
   ]
  },
  {
   "cell_type": "code",
   "execution_count": 37,
   "metadata": {},
   "outputs": [
    {
     "data": {
      "image/png": "[encoded data removed]",
      "text/plain": [
       "<Figure size 576x648 with 1 Axes>"
      ]
     },
     "metadata": {},
     "output_type": "display_data"
    }
   ],
   "source": [
    "plt.rcParams['figure.figsize'] = (8,9)\n",
    "categorias = ['01', '02', '03', '04+']\n",
    "generos_multiplos = genres_per_movie(G1)\n",
    "\n",
    "# plt.bar(categorias, generos_multiplos, color='#580693')\n",
    "# plt.xticks(categorias)\n",
    "# plt.ylabel('Nº de filmes')\n",
    "# plt.xlabel('Nº de gêneros do filme')\n",
    "# plt.title('Nº de gêneros do filme x Nº de filmes')\n",
    "\n",
    "\n",
    "plt.bar(categorias, generos_multiplos, color='#098345')\n",
    "\n",
    "# zip joins x and y coordinates in pairs\n",
    "for x,y in zip(categorias,generos_multiplos):\n",
    "\n",
    "    label = \"{}\".format(y)\n",
    "\n",
    "    plt.annotate(label, # this is the text\n",
    "                 (x,y), # this is the point to label\n",
    "                 textcoords=\"offset points\", # how to position the text\n",
    "                 xytext=(0,10), # distance from text to points (x,y)\n",
    "                 ha='center',\n",
    "                fontweight='bold',\n",
    "                color='#098345') # horizontal alignment can be left, right or center\n",
    "\n",
    "plt.xticks(categorias)\n",
    "plt.ylabel('Nº de filmes')\n",
    "plt.xlabel('Nº de gêneros do filme')\n",
    "plt.title('Nº de gêneros do filme x Nº de filmes de F1')\n",
    "\n",
    "plt.show()"
   ]
  },
  {
   "cell_type": "code",
   "execution_count": 42,
   "metadata": {},
   "outputs": [
    {
     "data": {
      "image/png": "[encoded data removed]",
      "text/plain": [
       "<Figure size 576x648 with 1 Axes>"
      ]
     },
     "metadata": {},
     "output_type": "display_data"
    }
   ],
   "source": [
    "plt.rcParams['figure.figsize'] = (8,9)\n",
    "categorias = ['01', '02', '03', '04+']\n",
    "generos_multiplos = genres_per_movie(G2)\n",
    "\n",
    "# plt.bar(categorias, generos_multiplos, color='#580693')\n",
    "# plt.xticks(categorias)\n",
    "# plt.ylabel('Nº de filmes')\n",
    "# plt.xlabel('Nº de gêneros do filme')\n",
    "# plt.title('Nº de gêneros do filme x Nº de filmes')\n",
    "\n",
    "\n",
    "plt.bar(categorias, generos_multiplos, color='#665509')\n",
    "\n",
    "# zip joins x and y coordinates in pairs\n",
    "for x,y in zip(categorias,generos_multiplos):\n",
    "\n",
    "    label = \"{}\".format(y)\n",
    "\n",
    "    plt.annotate(label, # this is the text\n",
    "                 (x,y), # this is the point to label\n",
    "                 textcoords=\"offset points\", # how to position the text\n",
    "                 xytext=(0,10), # distance from text to points (x,y)\n",
    "                 ha='center',\n",
    "                fontweight='bold',\n",
    "                color='#665509') # horizontal alignment can be left, right or center\n",
    "\n",
    "plt.xticks(categorias)\n",
    "plt.ylabel('Nº de filmes')\n",
    "plt.xlabel('Nº de gêneros do filme')\n",
    "plt.title('Nº de gêneros do filme x Nº de filmes de F2')\n",
    "\n",
    "plt.show()"
   ]
  },
  {
   "cell_type": "code",
   "execution_count": 43,
   "metadata": {},
   "outputs": [
    {
     "data": {
      "image/png": "[encoded data removed]",
      "text/plain": [
       "<Figure size 576x648 with 1 Axes>"
      ]
     },
     "metadata": {},
     "output_type": "display_data"
    }
   ],
   "source": [
    "plt.rcParams['figure.figsize'] = (8,9)\n",
    "categorias = ['01', '02', '03', '04+']\n",
    "generos_multiplos = genres_per_movie(G3)\n",
    "\n",
    "# plt.bar(categorias, generos_multiplos, color='#580693')\n",
    "# plt.xticks(categorias)\n",
    "# plt.ylabel('Nº de filmes')\n",
    "# plt.xlabel('Nº de gêneros do filme')\n",
    "# plt.title('Nº de gêneros do filme x Nº de filmes')\n",
    "\n",
    "\n",
    "plt.bar(categorias, generos_multiplos, color='#585866')\n",
    "\n",
    "# zip joins x and y coordinates in pairs\n",
    "for x,y in zip(categorias,generos_multiplos):\n",
    "\n",
    "    label = \"{}\".format(y)\n",
    "\n",
    "    plt.annotate(label, # this is the text\n",
    "                 (x,y), # this is the point to label\n",
    "                 textcoords=\"offset points\", # how to position the text\n",
    "                 xytext=(0,10), # distance from text to points (x,y)\n",
    "                 ha='center',\n",
    "                fontweight='bold',\n",
    "                color='#585866') # horizontal alignment can be left, right or center\n",
    "\n",
    "plt.xticks(categorias)\n",
    "plt.ylabel('Nº de filmes')\n",
    "plt.xlabel('Nº de gêneros do filme')\n",
    "plt.title('Nº de gêneros do filme x Nº de filmes de F3')\n",
    "\n",
    "plt.show()"
   ]
  },
  {
   "cell_type": "code",
   "execution_count": 41,
   "metadata": {},
   "outputs": [
    {
     "data": {
      "image/png": "[encoded data removed]",
      "text/plain": [
       "<Figure size 576x648 with 1 Axes>"
      ]
     },
     "metadata": {},
     "output_type": "display_data"
    }
   ],
   "source": [
    "plt.rcParams['figure.figsize'] = (8,9)\n",
    "categorias = ['01', '02', '03', '04+']\n",
    "generos_multiplos = genres_per_movie(G4)\n",
    "\n",
    "# plt.bar(categorias, generos_multiplos, color='#580693')\n",
    "# plt.xticks(categorias)\n",
    "# plt.ylabel('Nº de filmes')\n",
    "# plt.xlabel('Nº de gêneros do filme')\n",
    "# plt.title('Nº de gêneros do filme x Nº de filmes')\n",
    "\n",
    "\n",
    "plt.bar(categorias, generos_multiplos, color='#340934')\n",
    "\n",
    "# zip joins x and y coordinates in pairs\n",
    "for x,y in zip(categorias,generos_multiplos):\n",
    "\n",
    "    label = \"{}\".format(y)\n",
    "\n",
    "    plt.annotate(label, # this is the text\n",
    "                 (x,y), # this is the point to label\n",
    "                 textcoords=\"offset points\", # how to position the text\n",
    "                 xytext=(0,10), # distance from text to points (x,y)\n",
    "                 ha='center',\n",
    "                fontweight='bold',\n",
    "                color='#340934') # horizontal alignment can be left, right or center\n",
    "\n",
    "plt.xticks(categorias)\n",
    "plt.ylabel('Nº de filmes')\n",
    "plt.xlabel('Nº de gêneros do filme')\n",
    "plt.title('Nº de gêneros do filme x Nº de filmes de F4')\n",
    "\n",
    "plt.show()"
   ]
  },
  {
   "cell_type": "code",
   "execution_count": 44,
   "metadata": {},
   "outputs": [
    {
     "data": {
      "image/png": "[encoded data removed]",
      "text/plain": [
       "<Figure size 576x648 with 1 Axes>"
      ]
     },
     "metadata": {},
     "output_type": "display_data"
    }
   ],
   "source": [
    "plt.rcParams['figure.figsize'] = (8,9)\n",
    "categorias = ['01', '02', '03', '04+']\n",
    "generos_multiplos = genres_per_movie(G5)\n",
    "\n",
    "# plt.bar(categorias, generos_multiplos, color='#580693')\n",
    "# plt.xticks(categorias)\n",
    "# plt.ylabel('Nº de filmes')\n",
    "# plt.xlabel('Nº de gêneros do filme')\n",
    "# plt.title('Nº de gêneros do filme x Nº de filmes')\n",
    "\n",
    "\n",
    "plt.bar(categorias, generos_multiplos, color='#432890')\n",
    "\n",
    "# zip joins x and y coordinates in pairs\n",
    "for x,y in zip(categorias,generos_multiplos):\n",
    "\n",
    "    label = \"{}\".format(y)\n",
    "\n",
    "    plt.annotate(label, # this is the text\n",
    "                 (x,y), # this is the point to label\n",
    "                 textcoords=\"offset points\", # how to position the text\n",
    "                 xytext=(0,10), # distance from text to points (x,y)\n",
    "                 ha='center',\n",
    "                fontweight='bold',\n",
    "                color='#432890') # horizontal alignment can be left, right or center\n",
    "\n",
    "plt.xticks(categorias)\n",
    "plt.ylabel('Nº de filmes')\n",
    "plt.xlabel('Nº de gêneros do filme')\n",
    "plt.title('Nº de gêneros do filme x Nº de filmes de F5')\n",
    "\n",
    "plt.show()"
   ]
  },
  {
   "cell_type": "code",
   "execution_count": null,
   "metadata": {},
   "outputs": [],
   "source": []
  },
  {
   "cell_type": "code",
   "execution_count": null,
   "metadata": {},
   "outputs": [],
   "source": []
  },
  {
   "cell_type": "code",
   "execution_count": null,
   "metadata": {},
   "outputs": [],
   "source": []
  }
 ],
 "metadata": {
  "kernelspec": {
   "display_name": "Python 3",
   "language": "python",
   "name": "python3"
  },
  "language_info": {
   "codemirror_mode": {
    "name": "ipython",
    "version": 3
   },
   "file_extension": ".py",
   "mimetype": "text/x-python",
   "name": "python",
   "nbconvert_exporter": "python",
   "pygments_lexer": "ipython3",
   "version": "3.6.8"
  }
 },
 "nbformat": 4,
 "nbformat_minor": 2
}
