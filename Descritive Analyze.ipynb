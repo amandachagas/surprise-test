{
 "cells": [
  {
   "cell_type": "code",
   "execution_count": 86,
   "metadata": {},
   "outputs": [],
   "source": [
    "from collections import defaultdict\n",
    "import pandas as pd\n",
    "import matplotlib.pyplot as plt\n",
    "import numpy as np\n",
    "import statistics\n",
    "import json\n",
    "import time"
   ]
  },
  {
   "cell_type": "code",
   "execution_count": 101,
   "metadata": {},
   "outputs": [],
   "source": [
    "# plt.style.use('seaborn')\n",
    "plt.rcParams['figure.figsize'] = (8,5)"
   ]
  },
  {
   "cell_type": "code",
   "execution_count": 88,
   "metadata": {},
   "outputs": [],
   "source": [
    "def read_as_json(file_name):\n",
    "    with open(file_name) as json_file:\n",
    "        data = json.load(json_file)\n",
    "    return data"
   ]
  },
  {
   "cell_type": "code",
   "execution_count": 89,
   "metadata": {},
   "outputs": [],
   "source": [
    "movies = pd.read_csv('ml-latest-small/movies.csv', low_memory=False)\n",
    "ratings = pd.read_csv('ml-latest-small/ratings.csv', low_memory=False, names=['userId', 'movieId', 'rating','timestamp'])\n",
    "ratings = ratings.drop(columns=['timestamp'])"
   ]
  },
  {
   "cell_type": "code",
   "execution_count": 90,
   "metadata": {},
   "outputs": [
    {
     "data": {
      "text/html": [
       "<div>\n",
       "<style scoped>\n",
       "    .dataframe tbody tr th:only-of-type {\n",
       "        vertical-align: middle;\n",
       "    }\n",
       "\n",
       "    .dataframe tbody tr th {\n",
       "        vertical-align: top;\n",
       "    }\n",
       "\n",
       "    .dataframe thead th {\n",
       "        text-align: right;\n",
       "    }\n",
       "</style>\n",
       "<table border=\"1\" class=\"dataframe\">\n",
       "  <thead>\n",
       "    <tr style=\"text-align: right;\">\n",
       "      <th></th>\n",
       "      <th>movieId</th>\n",
       "      <th>title</th>\n",
       "      <th>genres</th>\n",
       "    </tr>\n",
       "  </thead>\n",
       "  <tbody>\n",
       "    <tr>\n",
       "      <th>0</th>\n",
       "      <td>1</td>\n",
       "      <td>Toy Story (1995)</td>\n",
       "      <td>Adventure|Animation|Children|Comedy|Fantasy</td>\n",
       "    </tr>\n",
       "    <tr>\n",
       "      <th>1</th>\n",
       "      <td>2</td>\n",
       "      <td>Jumanji (1995)</td>\n",
       "      <td>Adventure|Children|Fantasy</td>\n",
       "    </tr>\n",
       "    <tr>\n",
       "      <th>2</th>\n",
       "      <td>3</td>\n",
       "      <td>Grumpier Old Men (1995)</td>\n",
       "      <td>Comedy|Romance</td>\n",
       "    </tr>\n",
       "    <tr>\n",
       "      <th>3</th>\n",
       "      <td>4</td>\n",
       "      <td>Waiting to Exhale (1995)</td>\n",
       "      <td>Comedy|Drama|Romance</td>\n",
       "    </tr>\n",
       "    <tr>\n",
       "      <th>4</th>\n",
       "      <td>5</td>\n",
       "      <td>Father of the Bride Part II (1995)</td>\n",
       "      <td>Comedy</td>\n",
       "    </tr>\n",
       "  </tbody>\n",
       "</table>\n",
       "</div>"
      ],
      "text/plain": [
       "   movieId                               title  \\\n",
       "0        1                    Toy Story (1995)   \n",
       "1        2                      Jumanji (1995)   \n",
       "2        3             Grumpier Old Men (1995)   \n",
       "3        4            Waiting to Exhale (1995)   \n",
       "4        5  Father of the Bride Part II (1995)   \n",
       "\n",
       "                                        genres  \n",
       "0  Adventure|Animation|Children|Comedy|Fantasy  \n",
       "1                   Adventure|Children|Fantasy  \n",
       "2                               Comedy|Romance  \n",
       "3                         Comedy|Drama|Romance  \n",
       "4                                       Comedy  "
      ]
     },
     "execution_count": 90,
     "metadata": {},
     "output_type": "execute_result"
    }
   ],
   "source": [
    "movies.head()"
   ]
  },
  {
   "cell_type": "code",
   "execution_count": 91,
   "metadata": {},
   "outputs": [
    {
     "name": "stdout",
     "output_type": "stream",
     "text": [
      "100836\n"
     ]
    },
    {
     "data": {
      "text/html": [
       "<div>\n",
       "<style scoped>\n",
       "    .dataframe tbody tr th:only-of-type {\n",
       "        vertical-align: middle;\n",
       "    }\n",
       "\n",
       "    .dataframe tbody tr th {\n",
       "        vertical-align: top;\n",
       "    }\n",
       "\n",
       "    .dataframe thead th {\n",
       "        text-align: right;\n",
       "    }\n",
       "</style>\n",
       "<table border=\"1\" class=\"dataframe\">\n",
       "  <thead>\n",
       "    <tr style=\"text-align: right;\">\n",
       "      <th></th>\n",
       "      <th>userId</th>\n",
       "      <th>movieId</th>\n",
       "      <th>rating</th>\n",
       "    </tr>\n",
       "  </thead>\n",
       "  <tbody>\n",
       "    <tr>\n",
       "      <th>0</th>\n",
       "      <td>1</td>\n",
       "      <td>1</td>\n",
       "      <td>4.0</td>\n",
       "    </tr>\n",
       "    <tr>\n",
       "      <th>1</th>\n",
       "      <td>1</td>\n",
       "      <td>3</td>\n",
       "      <td>4.0</td>\n",
       "    </tr>\n",
       "    <tr>\n",
       "      <th>2</th>\n",
       "      <td>1</td>\n",
       "      <td>6</td>\n",
       "      <td>4.0</td>\n",
       "    </tr>\n",
       "    <tr>\n",
       "      <th>3</th>\n",
       "      <td>1</td>\n",
       "      <td>47</td>\n",
       "      <td>5.0</td>\n",
       "    </tr>\n",
       "    <tr>\n",
       "      <th>4</th>\n",
       "      <td>1</td>\n",
       "      <td>50</td>\n",
       "      <td>5.0</td>\n",
       "    </tr>\n",
       "  </tbody>\n",
       "</table>\n",
       "</div>"
      ],
      "text/plain": [
       "   userId  movieId  rating\n",
       "0       1        1     4.0\n",
       "1       1        3     4.0\n",
       "2       1        6     4.0\n",
       "3       1       47     5.0\n",
       "4       1       50     5.0"
      ]
     },
     "execution_count": 91,
     "metadata": {},
     "output_type": "execute_result"
    }
   ],
   "source": [
    "print(len(ratings))\n",
    "ratings.head()"
   ]
  },
  {
   "cell_type": "code",
   "execution_count": 92,
   "metadata": {},
   "outputs": [
    {
     "name": "stdout",
     "output_type": "stream",
     "text": [
      "Tamanhos: 1000, 1000, 1000, 1000, 1000, 1000, 1000, 1000, 1000 e 742\n"
     ]
    }
   ],
   "source": [
    "v1 = read_as_json('01.json')\n",
    "v2 = read_as_json('02.json')\n",
    "v3 = read_as_json('03.json')\n",
    "v4 = read_as_json('04.json')\n",
    "v5 = read_as_json('05.json')\n",
    "v6 = read_as_json('06.json')\n",
    "v7 = read_as_json('07.json')\n",
    "v8 = read_as_json('08.json')\n",
    "v9 = read_as_json('09.json')\n",
    "v10 = read_as_json('10.json')\n",
    "\n",
    "print(\"Tamanhos: {}, {}, {}, {}, {}, {}, {}, {}, {} e {}\".format(len(v1),len(v2),len(v3),len(v4),len(v5),len(v6),len(v7),len(v8),len(v9),len(v10)))"
   ]
  },
  {
   "cell_type": "code",
   "execution_count": 93,
   "metadata": {},
   "outputs": [
    {
     "name": "stdout",
     "output_type": "stream",
     "text": [
      "9742\n"
     ]
    }
   ],
   "source": [
    "total = v1 + v2 + v3 + v4 + v5 + v6 + v7 + v8 + v9 + v10 \n",
    "print(len(total))"
   ]
  },
  {
   "cell_type": "code",
   "execution_count": 94,
   "metadata": {},
   "outputs": [],
   "source": [
    "\"\"\"\n",
    "Calculando a média, mediana e moda de cada filmes e adicionando esse valores no dicionário da variável total\n",
    "\"\"\"\n",
    "count=0\n",
    "\n",
    "for item in total:\n",
    "    if len(item['ratings']) < 1:\n",
    "        my_mean = 'NO MEAN'\n",
    "        my_median = 'NO MEDIAN'\n",
    "        my_mode = 'NO MODE'\n",
    "        my_desvio = 'NO DESVIO'\n",
    "    else:\n",
    "        my_aux = pd.Series(item['ratings'])\n",
    "        my_mean = my_aux.mean()\n",
    "        my_median = my_aux.median()\n",
    "        my_mode = my_aux.mode()\n",
    "        my_desvio = my_aux.std()\n",
    "        \n",
    "#         my_mode = statistics.mode(item['ratings'])\n",
    "    \n",
    "    item['mean'] = my_mean\n",
    "    item['median'] = my_median\n",
    "    item['mode'] = my_mode[0]\n",
    "    item['desvio'] = my_desvio"
   ]
  },
  {
   "cell_type": "code",
   "execution_count": 95,
   "metadata": {},
   "outputs": [
    {
     "name": "stdout",
     "output_type": "stream",
     "text": [
      "{'movieId': 45, 'ratings': [3.0, 3.0, 3.5, 4.0, 3.0, 2.5, 4.0, 3.0, 3.0, 2.0, 3.0, 4.0, 2.0, 2.0, 4.5, 3.0, 3.0, 2.5, 3.0, 3.0, 3.0, 4.0, 4.0, 3.0, 3.0, 3.0, 3.5, 5.0, 5.0, 2.5, 5.0, 4.0], 'counter': 32, 'acc': 106.0, 'mean': 3.3125, 'median': 3.0, 'mode': 3.0, 'desvio': 0.8303710791159926}\n"
     ]
    }
   ],
   "source": [
    "print(total[41])"
   ]
  },
  {
   "cell_type": "code",
   "execution_count": 96,
   "metadata": {},
   "outputs": [],
   "source": [
    "with open('all.json', 'w') as json_file:  \n",
    "    json.dump(total, json_file)"
   ]
  },
  {
   "cell_type": "code",
   "execution_count": null,
   "metadata": {},
   "outputs": [],
   "source": []
  },
  {
   "cell_type": "code",
   "execution_count": null,
   "metadata": {},
   "outputs": [],
   "source": []
  },
  {
   "cell_type": "code",
   "execution_count": null,
   "metadata": {},
   "outputs": [],
   "source": []
  },
  {
   "cell_type": "code",
   "execution_count": 97,
   "metadata": {},
   "outputs": [],
   "source": [
    "\"\"\"\n",
    "Serão definidos 5 Grupos de filmes, tal que:\n",
    "\n",
    "    G1, filmes bastante avaliados, tq, ratings(G1) > 100\n",
    "    G2, filmes muito avaliados, tq, 100 >= ratings(G2) > 50\n",
    "    G3, filmes razoavelmente avaliados, tq, 50 >= ratings(G3) > 20\n",
    "    G4, filmes pouco avaliados, tq, 20 >= ratings(G4) > 5\n",
    "    G5, filmes pouqíssimo avaliados, tq, 5 >= ratings(G5)\n",
    "\"\"\"\n",
    "\n",
    "G1 = []\n",
    "G2 = []\n",
    "G3 = []\n",
    "G4 = []\n",
    "G5 = []\n",
    "\n",
    "for item in total:\n",
    "    if item['counter'] > 100:\n",
    "        G1.append(item)\n",
    "    elif 100 >= item['counter'] > 50:\n",
    "        G2.append(item)\n",
    "    elif 50 >= item['counter'] > 20:\n",
    "        G3.append(item)\n",
    "    elif 20 >= item['counter'] > 5:\n",
    "        G4.append(item)\n",
    "    else:\n",
    "        G5.append(item)"
   ]
  },
  {
   "cell_type": "code",
   "execution_count": 98,
   "metadata": {},
   "outputs": [
    {
     "name": "stdout",
     "output_type": "stream",
     "text": [
      "Tamanho dos grupos: G1=134, G2=302, G3=799, G4=2033 e G5=6474\n"
     ]
    }
   ],
   "source": [
    "print(\"Tamanho dos grupos: G1={}, G2={}, G3={}, G4={} e G5={}\".format(len(G1), len(G2), len(G3), len(G4), len(G5)))"
   ]
  },
  {
   "cell_type": "code",
   "execution_count": 99,
   "metadata": {},
   "outputs": [
    {
     "name": "stdout",
     "output_type": "stream",
     "text": [
      "Tamanho data_G1=19788, data_G2=20872, data_G3=25998, data_G4=21706, data_G5=12472 e TOTAL=100836\n"
     ]
    }
   ],
   "source": [
    "data_G1 = []\n",
    "data_G2 = []\n",
    "data_G3 = []\n",
    "data_G4 = []\n",
    "data_G5 = []\n",
    "\n",
    "for item in G1:\n",
    "    data_G1 += item['ratings']\n",
    "    \n",
    "for item in G2:\n",
    "    data_G2 += item['ratings']\n",
    "    \n",
    "for item in G3:\n",
    "    data_G3 += item['ratings']\n",
    "    \n",
    "for item in G4:\n",
    "    data_G4 += item['ratings']\n",
    "    \n",
    "for item in G5:\n",
    "    data_G5 += item['ratings']\n",
    "    \n",
    "print(\"Tamanho data_G1={}, data_G2={}, data_G3={}, data_G4={}, data_G5={} e TOTAL={}\".format(len(data_G1), len(data_G2), \n",
    "                                                                                        len(data_G3), len(data_G4), \n",
    "                                                                                        len(data_G5), \n",
    "                                                                   len(data_G1)+len(data_G2)+len(data_G3)+len(data_G4)+len(data_G5) ))\n",
    "\n",
    "# print(G1[3])"
   ]
  },
  {
   "cell_type": "code",
   "execution_count": 102,
   "metadata": {},
   "outputs": [
    {
     "name": "stdout",
     "output_type": "stream",
     "text": [
      "[134, 302, 799, 2033, 6474]\n"
     ]
    },
    {
     "data": {
      "image/png": "[encoded data removed]",
      "text/plain": [
       "<Figure size 576x360 with 1 Axes>"
      ]
     },
     "metadata": {},
     "output_type": "display_data"
    },
    {
     "data": {
      "text/plain": [
       "<Figure size 576x360 with 0 Axes>"
      ]
     },
     "metadata": {},
     "output_type": "display_data"
    }
   ],
   "source": [
    "categorias = ['F1', 'F2', 'F3', 'F4', 'F5']\n",
    "avaliacoes = [len(G1), len(G2), len(G3), len(G4), len(G5)]\n",
    "\n",
    "print(avaliacoes)\n",
    "\n",
    "plt.bar(categorias, avaliacoes, color='#580330')\n",
    "plt.xticks(categorias)\n",
    "plt.ylabel('Nº de filmes')\n",
    "plt.xlabel('Categorias')\n",
    "plt.title('Categorias x Número de filmes')\n",
    "\n",
    "plt.show()\n",
    "plt.savefig(fname='categ_vs_movies.png', format='png')"
   ]
  },
  {
   "cell_type": "code",
   "execution_count": null,
   "metadata": {},
   "outputs": [],
   "source": []
  }
 ],
 "metadata": {
  "kernelspec": {
   "display_name": "Python 3",
   "language": "python",
   "name": "python3"
  },
  "language_info": {
   "codemirror_mode": {
    "name": "ipython",
    "version": 3
   },
   "file_extension": ".py",
   "mimetype": "text/x-python",
   "name": "python",
   "nbconvert_exporter": "python",
   "pygments_lexer": "ipython3",
   "version": "3.6.8"
  }
 },
 "nbformat": 4,
 "nbformat_minor": 2
}
