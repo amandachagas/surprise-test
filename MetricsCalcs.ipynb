{
 "cells": [
  {
   "cell_type": "code",
   "execution_count": 1,
   "metadata": {},
   "outputs": [],
   "source": [
    "from collections import defaultdict\n",
    "import pandas as pd\n",
    "from surprise import Reader, Dataset\n",
    "from surprise import KNNWithMeans, KNNBasic, SVD\n",
    "from surprise import accuracy\n",
    "from surprise.model_selection import train_test_split, cross_validate\n",
    "import matplotlib.pyplot as plt\n",
    "import numpy as np\n",
    "import json"
   ]
  },
  {
   "cell_type": "code",
   "execution_count": 2,
   "metadata": {},
   "outputs": [],
   "source": [
    "class RefinedMyAlgo():\n",
    "    def __init__(self, rating_data='', data_frame='', movie_data=''):\n",
    "        if rating_data:\n",
    "            reader = Reader(line_format='user item rating timestamp', sep=',')\n",
    "            self.ratings = Dataset.load_from_file(rating_data, reader)\n",
    "#             self.trainset, self.testset = train_test_split(self.ratings, test_size=0.25)\n",
    "            self.trainset = self.ratings.build_full_trainset()\n",
    "            self.sim_options = {'name': 'cosine','user_based': False}\n",
    "        elif not data_frame.empty:\n",
    "            reader = Reader(rating_scale=(0, 5))\n",
    "            self.ratings = Dataset.load_from_df(data_frame[['userId', 'movieId', 'rating']], reader)\n",
    "            self.trainset = self.ratings.build_full_trainset()\n",
    "            self.sim_options = {'name': 'cosine','user_based': False}\n",
    "            \n",
    "        if movie_data:\n",
    "            self.movies = pd.read_csv(movie_data, low_memory=False)\n",
    "\n",
    "        \n",
    "    def set_k(self, k_value):\n",
    "        algo = KNNWithMeans(k=k_value, sim_options=self.sim_options)\n",
    "        self.algo = algo\n",
    "        self.algo.fit(self.trainset)\n",
    "        \n",
    "        \n",
    "    def calculate_metrics(self, k_value='', this_algo='SVD'):\n",
    "        if k_value:\n",
    "            if this_algo is 'KNNBasic':\n",
    "                algo = KNNBasic(k=k_value, sim_options=self.sim_options)\n",
    "\n",
    "            elif this_algo is 'KNNWithMeans':\n",
    "                algo = KNNWithMeans(k=k_value, sim_options=self.sim_options)\n",
    "\n",
    "            else:\n",
    "                algo = SVD()\n",
    "            \n",
    "            print('single K = {}'.format(k_value))\n",
    "            return cross_validate(algo, self.ratings, measures=['RMSE', 'MAE'], cv=10, verbose=false)\n",
    "        else:\n",
    "            if this_algo is 'KNNBasic':\n",
    "                aux = []\n",
    "                for k_value in [3, 5, 7, 10, 15, 20, 30, 40]:\n",
    "                    print('K = {}'.format(k_value))\n",
    "                    algo = KNNBasic(k=k_value, sim_options=self.sim_options)\n",
    "                    my_dict = cross_validate(algo, self.ratings, measures=['RMSE', 'MAE'], cv=10, verbose=False)\n",
    "                    my_dict['k_value'] = k_value\n",
    "                    aux.append(my_dict)\n",
    "                return aux\n",
    "\n",
    "            elif this_algo is 'KNNWithMeans':\n",
    "                aux = []\n",
    "                for k_value in [3, 5, 7, 10, 15, 20, 30, 40]:\n",
    "                    print('K = {}'.format(k_value))\n",
    "                    algo = KNNWithMeans(k=k_value, sim_options=self.sim_options)\n",
    "                    my_dict = cross_validate(algo, self.ratings, measures=['RMSE', 'MAE'], cv=10, verbose=False)\n",
    "                    my_dict['k_value'] = k_value\n",
    "                    aux.append(my_dict)\n",
    "                return aux\n",
    "\n",
    "            else:\n",
    "                algo = SVD()\n",
    "                aux = []\n",
    "                for k_value in [3, 5, 7, 10, 15, 20, 30, 40]:\n",
    "                    print('K = {}'.format(k_value))\n",
    "                    my_dict = cross_validate(algo, self.ratings, measures=['RMSE', 'MAE'], cv=10, verbose=False)\n",
    "                    my_dict['k_value'] = k_value\n",
    "                    aux.append(my_dict)\n",
    "                return aux\n",
    "            \n",
    "    \n",
    "    def export_to_json(self, data, jname='jsonname'):\n",
    "        my_dict = {}\n",
    "        test_rmse = []\n",
    "        test_mae = []\n",
    "        test_time = []\n",
    "        fit_time = []\n",
    "        \n",
    "        for k_data in data:\n",
    "            test_rmse.append(k_data['test_rmse'].mean())\n",
    "            test_mae.append(k_data['test_mae'].mean())\n",
    "            aux = np.asarray(k_data['test_time'])\n",
    "            test_time.append(aux.mean())\n",
    "            aux = np.asarray(k_data['fit_time'])\n",
    "            fit_time.append(aux.mean())\n",
    "            \n",
    "        my_dict['test_rmse'] = test_rmse\n",
    "        my_dict['test_mae'] = test_mae\n",
    "        my_dict['test_time'] = test_time\n",
    "        my_dict['fit_time'] = fit_time\n",
    "        \n",
    "        jname=jname+'.json'\n",
    "        with open(jname, 'w') as json_file:  \n",
    "            json.dump(my_dict, json_file)\n",
    "        \n",
    "#         #####################################################\n",
    "#         ### Graph metric - KnnWithMeans, KnnBasic, SVD\n",
    "#         #####################################################\n",
    "#         df = None\n",
    "#         if metric is 'test_rmse':\n",
    "#             df = pd.DataFrame({'k': [3, 5, 7, 10, 15, 20, 30, 40], 'knn_with_means': knn_with_means_data['test_rmse'], \n",
    "#                    'knn_basic': knn_basic_data['test_rmse'], 'svd': svd_data['test_rmse'] })\n",
    "#         elif metric is 'test_mae':\n",
    "#             df = pd.DataFrame({'k': [3, 5, 7, 10, 15, 20, 30, 40], 'knn_with_means': knn_with_means_data['test_mae'], \n",
    "#                    'knn_basic': knn_basic_data['test_mae'], 'svd': svd_data['test_mae'] })\n",
    "#         elif metric is 'test_time':\n",
    "#             df = pd.DataFrame({'k': [3, 5, 7, 10, 15, 20, 30, 40], 'knn_with_means': knn_with_means_data['test_time'], \n",
    "#                    'knn_basic': knn_basic_data['test_time'], 'svd': svd_data['test_time'] })\n",
    "\n",
    "#         plt.plot( 'k', 'knn_with_means', data=df, linestyle='--', color='skyblue', linewidth=2, label='KnnWithMeans')\n",
    "#         plt.plot( 'k', 'knn_basic', data=df, linestyle=':', color='C1', linewidth=2, label='KnnBasic')\n",
    "#         plt.plot( 'k', 'svd', data=df, linestyle='-.', color='olive', linewidth=2, label='SVD')\n",
    "\n",
    "#         plt.title('Comparativo RMSE')\n",
    "#         plt.ylabel('RMSE')\n",
    "#         plt.xlabel('Valor de K')\n",
    "\n",
    "#         plt.legend()\n",
    "#         plt.savefig(fname='comparativo_RMSE.png', format='png')"
   ]
  },
  {
   "cell_type": "code",
   "execution_count": 3,
   "metadata": {},
   "outputs": [
    {
     "name": "stdout",
     "output_type": "stream",
     "text": [
      "Computing the cosine similarity matrix...\n",
      "Done computing similarity matrix.\n"
     ]
    }
   ],
   "source": [
    "refinedMyAlgo = RefinedMyAlgo(rating_data='ml-latest-small/ratings.csv', movie_data='ml-latest-small/movies.csv')\n",
    "refinedMyAlgo.set_k(k_value=10)"
   ]
  },
  {
   "cell_type": "code",
   "execution_count": 4,
   "metadata": {},
   "outputs": [
    {
     "name": "stdout",
     "output_type": "stream",
     "text": [
      "K = 3\n",
      "K = 5\n",
      "K = 7\n",
      "K = 10\n",
      "K = 15\n",
      "K = 20\n",
      "K = 30\n",
      "K = 40\n"
     ]
    }
   ],
   "source": [
    "my_result = refinedMyAlgo.calculate_metrics()"
   ]
  },
  {
   "cell_type": "code",
   "execution_count": 5,
   "metadata": {},
   "outputs": [],
   "source": [
    "refinedMyAlgo.export_to_json(data=my_result, jname='meuJson')"
   ]
  },
  {
   "cell_type": "code",
   "execution_count": null,
   "metadata": {},
   "outputs": [],
   "source": []
  },
  {
   "cell_type": "code",
   "execution_count": null,
   "metadata": {},
   "outputs": [],
   "source": [
    "#####################################################\n",
    "### Gráfico RMSE - KnnWithMeans, KnnBasic, SVD\n",
    "#####################################################\n",
    "\n",
    "df = pd.DataFrame({'k': [3, 5, 7, 10, 15, 20, 30, 40], 'knn_with_means': knn_with_means_data['test_rmse'], \n",
    "                   'knn_basic': knn_basic_data['test_rmse'], 'svd': svd_data['test_rmse'] })\n",
    "\n",
    "plt.plot( 'k', 'knn_with_means', data=df, linestyle='--', color='skyblue', linewidth=2, label='KnnWithMeans')\n",
    "plt.plot( 'k', 'knn_basic', data=df, linestyle=':', color='C1', linewidth=2, label='KnnBasic')\n",
    "plt.plot( 'k', 'svd', data=df, linestyle='-.', color='olive', linewidth=2, label='SVD')\n",
    "\n",
    "plt.title('Comparativo RMSE')\n",
    "plt.ylabel('RMSE')\n",
    "plt.xlabel('Valor de K')\n",
    "\n",
    "plt.legend()\n",
    "plt.savefig(fname='comparativo_RMSE.png', format='png')"
   ]
  },
  {
   "cell_type": "code",
   "execution_count": null,
   "metadata": {},
   "outputs": [],
   "source": [
    "#####################################################\n",
    "### Gráfico MAE - KnnWithMeans, KnnBasic, SVD\n",
    "#####################################################\n",
    "\n",
    "df = pd.DataFrame({'k': [3, 5, 7, 10, 15, 20, 30, 40], 'knn_with_means': knn_with_means_data['test_mae'], \n",
    "                   'knn_basic': knn_basic_data['test_mae'], 'svd': svd_data['test_mae'] })\n",
    "\n",
    "plt.plot( 'k', 'knn_with_means', data=df, linestyle='--', color='skyblue', linewidth=2, label='KnnWithMeans')\n",
    "plt.plot( 'k', 'knn_basic', data=df, linestyle=':', color='C1', linewidth=2, label='KnnBasic')\n",
    "plt.plot( 'k', 'svd', data=df, linestyle='-.', color='olive', linewidth=2, label='SVD')\n",
    "\n",
    "plt.title('Comparativo MAE')\n",
    "plt.ylabel('MAE')\n",
    "plt.xlabel('Valor de K')\n",
    "\n",
    "plt.legend()\n",
    "plt.savefig(fname='comparativo_MAE.png', format='png')"
   ]
  },
  {
   "cell_type": "code",
   "execution_count": null,
   "metadata": {},
   "outputs": [],
   "source": [
    "#####################################################\n",
    "### Gráfico test_time - KnnWithMeans, KnnBasic, SVD\n",
    "#####################################################\n",
    "\n",
    "df = pd.DataFrame({'k': [3, 5, 7, 10, 15, 20, 30, 40], 'knn_with_means': knn_with_means_data['test_time'], \n",
    "                   'knn_basic': knn_basic_data['test_time'], 'svd': svd_data['test_time'] })\n",
    "\n",
    "plt.plot( 'k', 'knn_with_means', data=df, linestyle='--', color='skyblue', linewidth=2, label='KnnWithMeans')\n",
    "plt.plot( 'k', 'knn_basic', data=df, linestyle=':', color='C1', linewidth=2, label='KnnBasic')\n",
    "plt.plot( 'k', 'svd', data=df, linestyle='-.', color='olive', linewidth=2, label='SVD')\n",
    "\n",
    "plt.title('Comparativo Tempo de Teste')\n",
    "plt.ylabel('Segundos')\n",
    "plt.xlabel('Valor de K')\n",
    "\n",
    "plt.legend()\n",
    "plt.savefig(fname='comparativo_test_time.png', format='png')"
   ]
  },
  {
   "cell_type": "code",
   "execution_count": null,
   "metadata": {},
   "outputs": [],
   "source": []
  }
 ],
 "metadata": {
  "kernelspec": {
   "display_name": "Python 3",
   "language": "python",
   "name": "python3"
  },
  "language_info": {
   "codemirror_mode": {
    "name": "ipython",
    "version": 3
   },
   "file_extension": ".py",
   "mimetype": "text/x-python",
   "name": "python",
   "nbconvert_exporter": "python",
   "pygments_lexer": "ipython3",
   "version": "3.6.7"
  }
 },
 "nbformat": 4,
 "nbformat_minor": 2
}
