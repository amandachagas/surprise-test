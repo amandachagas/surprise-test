{
 "cells": [
  {
   "cell_type": "code",
   "execution_count": 1,
   "metadata": {},
   "outputs": [],
   "source": [
    "from collections import defaultdict\n",
    "import pandas as pd\n",
    "from surprise import Reader, Dataset\n",
    "from surprise import KNNWithMeans\n",
    "from surprise import accuracy\n",
    "from surprise.model_selection import train_test_split, cross_validate\n",
    "import matplotlib.pyplot as plt"
   ]
  },
  {
   "cell_type": "code",
   "execution_count": 3,
   "metadata": {},
   "outputs": [],
   "source": [
    "class RefinedMyAlgo():\n",
    "    def __init__(self, rating_data='', data_frame='', movie_data=''):\n",
    "        if rating_data:\n",
    "            reader = Reader(line_format='user item rating timestamp', sep=',')\n",
    "            self.ratings = Dataset.load_from_file(rating_data, reader)\n",
    "#             self.trainset, self.testset = train_test_split(self.ratings, test_size=0.25)\n",
    "            self.trainset = self.ratings.build_full_trainset()\n",
    "            self.sim_options = {'name': 'cosine','user_based': False}\n",
    "        elif not data_frame.empty:\n",
    "            reader = Reader(rating_scale=(0, 5))\n",
    "            self.ratings = Dataset.load_from_df(data_frame[['userId', 'movieId', 'rating']], reader)\n",
    "            self.trainset = self.ratings.build_full_trainset()\n",
    "            self.sim_options = {'name': 'cosine','user_based': False}\n",
    "            \n",
    "        if movie_data:\n",
    "            self.movies = pd.read_csv(movie_data, low_memory=False)\n",
    "\n",
    "        \n",
    "    def set_k(self, k_value):\n",
    "        algo = KNNWithMeans(k=k_value, sim_options=self.sim_options)\n",
    "        self.algo = algo\n",
    "        self.algo.fit(self.trainset)\n",
    "        \n",
    "        \n",
    "    def find_best_k(self, k_value=''):\n",
    "        if k_value:\n",
    "            print('K = {}'.format(k_value))\n",
    "            algo = KNNWithMeans(k=k_value, sim_options=self.sim_options)\n",
    "            return cross_validate(algo, self.ratings, measures=['RMSE', 'MAE'], cv=10, verbose=True)\n",
    "        else:\n",
    "            aux = []\n",
    "            for k_value in [3, 5, 7, 10, 15, 20, 30, 40]:\n",
    "                print('K = {}'.format(k_value))\n",
    "                algo = KNNWithMeans(k=k_value, sim_options=self.sim_options)\n",
    "                my_dict = cross_validate(algo, self.ratings, measures=['RMSE', 'MAE'], cv=10, verbose=False)\n",
    "                my_dict['k_value'] = k_value\n",
    "                aux.append(my_dict)\n",
    "            return aux\n",
    "        \n",
    "        \n",
    "    def get_top_n(self, predictions, n=10):\n",
    "        '''Return the top-N recommendation for each user from a set of predictions.\n",
    "\n",
    "        Args:\n",
    "            predictions(list of Prediction objects): The list of predictions, as\n",
    "                returned by the test method of an algorithm.\n",
    "            n(int): The number of recommendation to output for each user. Default\n",
    "                is 10.\n",
    "\n",
    "        Returns:\n",
    "        A dict where keys are user (raw) ids and values are lists of tuples:\n",
    "            [(raw item id, rating estimation), ...] of size n.\n",
    "        '''\n",
    "\n",
    "        # First map the predictions to each user.\n",
    "        top_n = defaultdict(list)\n",
    "        for uid, iid, true_r, est, _ in predictions:\n",
    "            top_n[uid].append((iid, est))\n",
    "\n",
    "        # Then sort the predictions for each user and retrieve the k highest ones.\n",
    "        for uid, user_ratings in top_n.items():\n",
    "            user_ratings.sort(key=lambda x: x[1], reverse=True)\n",
    "            top_n[uid] = user_ratings[:n]\n",
    "\n",
    "        return top_n\n",
    "    \n",
    "    \n",
    "    def set_testset(self, users):\n",
    "        if users:\n",
    "            user_ratings = self.trainset.ur\n",
    "            movies_ids = list(self.movies['movieId'])\n",
    "            global_mean=self.trainset.global_mean\n",
    "            my_testset = []\n",
    "            \n",
    "            for user in users:\n",
    "                iuid = self.trainset.to_inner_uid(str(user))\n",
    "                for movie in movies_ids:\n",
    "                    is_in = False\n",
    "                    for rating in user_ratings[iuid]:\n",
    "#                         print( 'MOVIE: {}, RATING: {}'.format(movie,bla.trainset.to_raw_iid(rating[0])) )\n",
    "                        if int(movie) == int(self.trainset.to_raw_iid(int(rating[0]))):\n",
    "                            is_in = True\n",
    "                            break\n",
    "                    if not is_in:\n",
    "                        my_tuple = (str(user),str(movie),global_mean)\n",
    "                        my_testset.append(my_tuple)\n",
    "                        \n",
    "            self.testset = my_testset\n",
    "        else:\n",
    "            testset = self.trainset.build_anti_testset()\n",
    "            self.testset = testset\n",
    "        return self.testset\n",
    "\n",
    "\n",
    "    def predict_ratings(self,users=''):\n",
    "        # # Predict ratings for all pairs (u, i) that are NOT in the training set.\n",
    "#         testset = self.trainset.build_anti_testset()\n",
    "#         self.testset = testset\n",
    "        testset = self.set_testset(users)\n",
    "        predictions = self.algo.test(testset)\n",
    "        self.predictions = predictions\n",
    "        \n",
    "        \n",
    "    def recs_for_user(self, uid):\n",
    "        user_filtered = list(filter(lambda x: x.uid == str(uid), self.predictions))\n",
    "        print(len(user_filtered))\n",
    "        top_n = self.get_top_n(predictions=user_filtered, n=10)\n",
    "        \n",
    "        return top_n"
   ]
  },
  {
   "cell_type": "code",
   "execution_count": 4,
   "metadata": {},
   "outputs": [
    {
     "name": "stdout",
     "output_type": "stream",
     "text": [
      "Computing the cosine similarity matrix...\n",
      "Done computing similarity matrix.\n"
     ]
    }
   ],
   "source": [
    "refinedMyAlgo = RefinedMyAlgo(rating_data='ml-latest-small/ratings.csv', movie_data='ml-latest-small/movies.csv')\n",
    "refinedMyAlgo.set_k(k_value=10)"
   ]
  },
  {
   "cell_type": "code",
   "execution_count": null,
   "metadata": {},
   "outputs": [],
   "source": []
  },
  {
   "cell_type": "code",
   "execution_count": 5,
   "metadata": {},
   "outputs": [
    {
     "name": "stdout",
     "output_type": "stream",
     "text": [
      "K = 10\n",
      "Computing the cosine similarity matrix...\n",
      "Done computing similarity matrix.\n",
      "Computing the cosine similarity matrix...\n",
      "Done computing similarity matrix.\n",
      "Computing the cosine similarity matrix...\n",
      "Done computing similarity matrix.\n",
      "Computing the cosine similarity matrix...\n",
      "Done computing similarity matrix.\n",
      "Computing the cosine similarity matrix...\n",
      "Done computing similarity matrix.\n",
      "Computing the cosine similarity matrix...\n",
      "Done computing similarity matrix.\n",
      "Computing the cosine similarity matrix...\n",
      "Done computing similarity matrix.\n",
      "Computing the cosine similarity matrix...\n",
      "Done computing similarity matrix.\n",
      "Computing the cosine similarity matrix...\n",
      "Done computing similarity matrix.\n",
      "Computing the cosine similarity matrix...\n",
      "Done computing similarity matrix.\n",
      "Evaluating RMSE, MAE of algorithm KNNWithMeans on 10 split(s).\n",
      "\n",
      "                  Fold 1  Fold 2  Fold 3  Fold 4  Fold 5  Fold 6  Fold 7  Fold 8  Fold 9  Fold 10 Mean    Std     \n",
      "RMSE (testset)    0.9255  0.9099  0.9366  0.9172  0.9260  0.9466  0.9202  0.9270  0.9285  0.9262  0.9264  0.0096  \n",
      "MAE (testset)     0.7072  0.6945  0.7163  0.7034  0.7068  0.7222  0.7028  0.7088  0.7108  0.7087  0.7082  0.0072  \n",
      "Fit time          88.60   90.01   84.53   87.12   69.13   68.97   69.07   78.69   66.88   67.74   77.07   9.18    \n",
      "Test time         10.28   11.24   13.33   9.99    9.97    10.55   10.11   9.43    9.52    9.49    10.39   1.11    \n"
     ]
    }
   ],
   "source": [
    "my_dict = refinedMyAlgo.find_best_k(k_value=10)"
   ]
  },
  {
   "cell_type": "code",
   "execution_count": 8,
   "metadata": {},
   "outputs": [
    {
     "data": {
      "text/plain": [
       "{'test_rmse': array([0.92545303, 0.90985071, 0.93658588, 0.91720509, 0.92600537,\n",
       "        0.9465585 , 0.92015479, 0.92702844, 0.92852067, 0.92622924]),\n",
       " 'test_mae': array([0.70724054, 0.69452052, 0.7163483 , 0.70336004, 0.7068464 ,\n",
       "        0.72220273, 0.70276858, 0.70877941, 0.7107792 , 0.7087099 ]),\n",
       " 'fit_time': (88.60136437416077,\n",
       "  90.01052498817444,\n",
       "  84.53042411804199,\n",
       "  87.12358713150024,\n",
       "  69.12656259536743,\n",
       "  68.96707224845886,\n",
       "  69.0747435092926,\n",
       "  78.69056701660156,\n",
       "  66.88483810424805,\n",
       "  67.73706650733948),\n",
       " 'test_time': (10.276524305343628,\n",
       "  11.235456705093384,\n",
       "  13.332575559616089,\n",
       "  9.988584995269775,\n",
       "  9.972211837768555,\n",
       "  10.552303075790405,\n",
       "  10.11411738395691,\n",
       "  9.43347692489624,\n",
       "  9.520493030548096,\n",
       "  9.490260362625122)}"
      ]
     },
     "execution_count": 8,
     "metadata": {},
     "output_type": "execute_result"
    }
   ],
   "source": [
    "my_dict\n",
    "# my_dict['test_rmse'].mean()"
   ]
  },
  {
   "cell_type": "code",
   "execution_count": 4,
   "metadata": {},
   "outputs": [
    {
     "data": {
      "text/plain": [
       "19411"
      ]
     },
     "execution_count": 4,
     "metadata": {},
     "output_type": "execute_result"
    }
   ],
   "source": [
    "refinedMyAlgo.predict_ratings(users=[2,5])\n",
    "len(refinedMyAlgo.predictions)"
   ]
  },
  {
   "cell_type": "code",
   "execution_count": null,
   "metadata": {},
   "outputs": [],
   "source": []
  },
  {
   "cell_type": "code",
   "execution_count": null,
   "metadata": {},
   "outputs": [],
   "source": [
    "########## Matplotlib LINKs\n",
    "\n",
    "# https://python-graph-gallery.com/122-multiple-lines-chart/\n",
    "    \n",
    "# https://stackoverflow.com/questions/36184953/specifying-values-for-my-x-axis-using-the-matplotlib-pyplot\n",
    "    \n",
    "# https://matplotlib.org/users/pyplot_tutorial.html"
   ]
  },
  {
   "cell_type": "code",
   "execution_count": 14,
   "metadata": {},
   "outputs": [
    {
     "data": {
      "text/plain": [
       "<matplotlib.legend.Legend at 0x7fd6fef97630>"
      ]
     },
     "execution_count": 14,
     "metadata": {},
     "output_type": "execute_result"
    },
    {
     "data": {
      "image/png": "[encoded data removed]",
      "text/plain": [
       "<Figure size 432x288 with 1 Axes>"
      ]
     },
     "metadata": {
      "needs_background": "light"
     },
     "output_type": "display_data"
    }
   ],
   "source": [
    "df = pd.DataFrame({'x': range(1,11), 'rmse': my_dict['test_rmse'], 'mae': my_dict['test_mae'] })\n",
    "\n",
    "plt.plot( 'x', 'rmse', data=df, linestyle='--', color='skyblue', linewidth=2, label='RMSE')\n",
    "plt.plot( 'x', 'mae', data=df, linestyle='-.', color='olive', linewidth=2, label='MAE')\n",
    "plt.legend()"
   ]
  },
  {
   "cell_type": "code",
   "execution_count": null,
   "metadata": {},
   "outputs": [],
   "source": []
  },
  {
   "cell_type": "code",
   "execution_count": null,
   "metadata": {},
   "outputs": [],
   "source": []
  },
  {
   "cell_type": "code",
   "execution_count": null,
   "metadata": {},
   "outputs": [],
   "source": []
  },
  {
   "cell_type": "code",
   "execution_count": null,
   "metadata": {},
   "outputs": [],
   "source": []
  },
  {
   "cell_type": "code",
   "execution_count": null,
   "metadata": {},
   "outputs": [],
   "source": []
  },
  {
   "cell_type": "code",
   "execution_count": null,
   "metadata": {},
   "outputs": [],
   "source": []
  }
 ],
 "metadata": {
  "kernelspec": {
   "display_name": "Python 3",
   "language": "python",
   "name": "python3"
  },
  "language_info": {
   "codemirror_mode": {
    "name": "ipython",
    "version": 3
   },
   "file_extension": ".py",
   "mimetype": "text/x-python",
   "name": "python",
   "nbconvert_exporter": "python",
   "pygments_lexer": "ipython3",
   "version": "3.6.7"
  }
 },
 "nbformat": 4,
 "nbformat_minor": 2
}
